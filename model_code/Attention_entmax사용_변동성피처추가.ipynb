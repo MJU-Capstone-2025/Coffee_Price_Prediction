{
  "nbformat": 4,
  "nbformat_minor": 0,
  "metadata": {
    "colab": {
      "provenance": []
    },
    "kernelspec": {
      "name": "python3",
      "display_name": "Python 3"
    },
    "language_info": {
      "name": "python"
    }
  },
  "cells": [
    {
      "cell_type": "code",
      "execution_count": 1,
      "metadata": {
        "id": "FSFu6kKIHatq"
      },
      "outputs": [],
      "source": [
        "import pandas as pd\n",
        "df = pd.read_csv(\"/content/drive/MyDrive/캡스톤/거시경제및커피가격통합데이터.csv\")"
      ]
    },
    {
      "cell_type": "code",
      "source": [
        "df['abs_return'] = df['Coffee_Price_Return'].abs()\n",
        "\n",
        "# 5일, 10일 변동성 (rolling std)\n",
        "df['volatility_5d'] = df['Coffee_Price_Return'].rolling(window=5).std()\n",
        "df['volatility_10d'] = df['Coffee_Price_Return'].rolling(window=10).std()\n",
        "\n",
        "# 5일 평균 수익률\n",
        "df['momentum_5d'] = df['Coffee_Price'] - df['Coffee_Price'].shift(5)\n",
        "\n",
        "# Bollinger Band Width (상대 변동성)\n",
        "rolling_mean = df['Coffee_Price'].rolling(window=20).mean()\n",
        "rolling_std = df['Coffee_Price'].rolling(window=20).std()\n",
        "df['bollinger_width'] = (2 * rolling_std) / rolling_mean\n",
        "\n",
        "# Return Z-score (비정상 변동 탐지)\n",
        "df['return_zscore'] = (df['Coffee_Price_Return'] - df['Coffee_Price_Return'].rolling(20).mean()) / \\\n",
        "                       (df['Coffee_Price_Return'].rolling(20).std() + 1e-6)"
      ],
      "metadata": {
        "id": "5qunB2ujEWIl"
      },
      "execution_count": 2,
      "outputs": []
    },
    {
      "cell_type": "code",
      "source": [
        "we = pd.read_csv(\"/content/drive/MyDrive/캡스톤/기후데이터피쳐선택.csv\")"
      ],
      "metadata": {
        "id": "aiAN_lsxllVK"
      },
      "execution_count": 3,
      "outputs": []
    },
    {
      "cell_type": "code",
      "source": [
        "we.drop(columns=['Coffee_Price'], inplace=True)"
      ],
      "metadata": {
        "id": "jdR0Zy6nl8PF"
      },
      "execution_count": 4,
      "outputs": []
    },
    {
      "cell_type": "code",
      "source": [
        "df = pd.merge(df, we, on='Date', how='left')"
      ],
      "metadata": {
        "id": "1OoyAGd1rKWf"
      },
      "execution_count": 5,
      "outputs": []
    },
    {
      "cell_type": "code",
      "source": [
        "df = df.dropna()"
      ],
      "metadata": {
        "id": "j1798j-gRJyJ"
      },
      "execution_count": 6,
      "outputs": []
    },
    {
      "cell_type": "code",
      "source": [
        "df['Date'] = pd.to_datetime(df['Date'])\n",
        "df.set_index('Date', inplace=True)"
      ],
      "metadata": {
        "id": "CToWyr0jHvZS"
      },
      "execution_count": 7,
      "outputs": []
    },
    {
      "cell_type": "code",
      "source": [
        "train_size = int(len(df) * 0.8)\n",
        "train_df, test_df = df.loc[:df.index[train_size-1]], df.loc[df.index[train_size:]]"
      ],
      "metadata": {
        "id": "j08Le6rEHnT7"
      },
      "execution_count": 8,
      "outputs": []
    },
    {
      "cell_type": "code",
      "source": [
        "from sklearn.preprocessing import MinMaxScaler\n",
        "\n",
        "scaler_seq = MinMaxScaler()\n",
        "train_df = pd.DataFrame(scaler_seq.fit_transform(train_df),\n",
        "                        columns=train_df.columns,\n",
        "                        index=train_df.index)"
      ],
      "metadata": {
        "id": "ToTIBLzQH4w8"
      },
      "execution_count": 9,
      "outputs": []
    },
    {
      "cell_type": "code",
      "source": [
        "import numpy as np\n",
        "import torch\n",
        "from torch.utils.data import Dataset\n",
        "\n",
        "class MultiStepTimeSeriesDataset(Dataset):\n",
        "    def __init__(self, dataset, target, data_window, target_size, step, single_step=False):\n",
        "        self.data, self.labels = [], []\n",
        "\n",
        "        start_index = data_window\n",
        "        end_index = len(dataset) - target_size  # 미래 예측을 고려해 끝점 조정\n",
        "\n",
        "        for i in range(start_index, end_index):\n",
        "            indices = range(i - data_window, i, step)  # X 데이터 생성 (샘플링 적용)\n",
        "            self.data.append(dataset[indices])\n",
        "\n",
        "            if single_step:\n",
        "                self.labels.append(target[i + target_size])  # 단일 값 예측\n",
        "            else:\n",
        "                self.labels.append(target[i:i + target_size])  # 다중 스텝 예측\n",
        "\n",
        "        # 리스트를 PyTorch Tensor로 변환\n",
        "        self.data = torch.tensor(np.array(self.data), dtype=torch.float32)\n",
        "        self.labels = torch.tensor(np.array(self.labels), dtype=torch.float32)\n",
        "\n",
        "    def __len__(self):\n",
        "        return len(self.data)\n",
        "\n",
        "    def __getitem__(self, idx):\n",
        "        return self.data[idx], self.labels[idx]"
      ],
      "metadata": {
        "id": "u6kgFp8xH3Di"
      },
      "execution_count": 10,
      "outputs": []
    },
    {
      "cell_type": "code",
      "source": [
        "X_train = train_df.values\n",
        "target_col = \"Coffee_Price\"\n",
        "y_train = train_df[target_col].values"
      ],
      "metadata": {
        "id": "UzcH4RHgIrNR"
      },
      "execution_count": 11,
      "outputs": []
    },
    {
      "cell_type": "code",
      "source": [
        "data_window = 100  # 최근 100개 데이터를 입력으로 사용\n",
        "future_target = 14  # 14개 미래 값 예측\n",
        "step = 6  # 6개 단위로 샘플링\n",
        "train_dataset = MultiStepTimeSeriesDataset(X_train, y_train, data_window, future_target, step)"
      ],
      "metadata": {
        "id": "hBpTUaOoTEh-"
      },
      "execution_count": 12,
      "outputs": []
    },
    {
      "cell_type": "markdown",
      "source": [
        "LSTM 입력을 위해 3D 배열로 변경"
      ],
      "metadata": {
        "id": "Oj2BhSZpVdFb"
      }
    },
    {
      "cell_type": "code",
      "source": [
        "X_train = train_dataset.data\n",
        "y_train = train_dataset.labels"
      ],
      "metadata": {
        "id": "cUCVu1D4W0MC"
      },
      "execution_count": 13,
      "outputs": []
    },
    {
      "cell_type": "code",
      "source": [
        "train_loader = torch.utils.data.DataLoader(train_dataset, batch_size=10, shuffle=True)"
      ],
      "metadata": {
        "id": "nMzxL-bpTHev"
      },
      "execution_count": 14,
      "outputs": []
    },
    {
      "cell_type": "code",
      "source": [
        "import torch.nn as nn\n",
        "import torch.optim as optim"
      ],
      "metadata": {
        "id": "tXjaWEuWTJ9i"
      },
      "execution_count": 15,
      "outputs": []
    },
    {
      "cell_type": "code",
      "source": [
        "pip install entmax"
      ],
      "metadata": {
        "colab": {
          "base_uri": "https://localhost:8080/"
        },
        "collapsed": true,
        "id": "pIXXCE1D_fE4",
        "outputId": "fb7e9213-ecce-414b-8de4-0a3c04390141"
      },
      "execution_count": 16,
      "outputs": [
        {
          "output_type": "stream",
          "name": "stdout",
          "text": [
            "Collecting entmax\n",
            "  Downloading entmax-1.3-py3-none-any.whl.metadata (348 bytes)\n",
            "Requirement already satisfied: torch>=1.3 in /usr/local/lib/python3.11/dist-packages (from entmax) (2.6.0+cu124)\n",
            "Requirement already satisfied: filelock in /usr/local/lib/python3.11/dist-packages (from torch>=1.3->entmax) (3.18.0)\n",
            "Requirement already satisfied: typing-extensions>=4.10.0 in /usr/local/lib/python3.11/dist-packages (from torch>=1.3->entmax) (4.13.2)\n",
            "Requirement already satisfied: networkx in /usr/local/lib/python3.11/dist-packages (from torch>=1.3->entmax) (3.4.2)\n",
            "Requirement already satisfied: jinja2 in /usr/local/lib/python3.11/dist-packages (from torch>=1.3->entmax) (3.1.6)\n",
            "Requirement already satisfied: fsspec in /usr/local/lib/python3.11/dist-packages (from torch>=1.3->entmax) (2025.3.2)\n",
            "Collecting nvidia-cuda-nvrtc-cu12==12.4.127 (from torch>=1.3->entmax)\n",
            "  Downloading nvidia_cuda_nvrtc_cu12-12.4.127-py3-none-manylinux2014_x86_64.whl.metadata (1.5 kB)\n",
            "Collecting nvidia-cuda-runtime-cu12==12.4.127 (from torch>=1.3->entmax)\n",
            "  Downloading nvidia_cuda_runtime_cu12-12.4.127-py3-none-manylinux2014_x86_64.whl.metadata (1.5 kB)\n",
            "Collecting nvidia-cuda-cupti-cu12==12.4.127 (from torch>=1.3->entmax)\n",
            "  Downloading nvidia_cuda_cupti_cu12-12.4.127-py3-none-manylinux2014_x86_64.whl.metadata (1.6 kB)\n",
            "Collecting nvidia-cudnn-cu12==9.1.0.70 (from torch>=1.3->entmax)\n",
            "  Downloading nvidia_cudnn_cu12-9.1.0.70-py3-none-manylinux2014_x86_64.whl.metadata (1.6 kB)\n",
            "Collecting nvidia-cublas-cu12==12.4.5.8 (from torch>=1.3->entmax)\n",
            "  Downloading nvidia_cublas_cu12-12.4.5.8-py3-none-manylinux2014_x86_64.whl.metadata (1.5 kB)\n",
            "Collecting nvidia-cufft-cu12==11.2.1.3 (from torch>=1.3->entmax)\n",
            "  Downloading nvidia_cufft_cu12-11.2.1.3-py3-none-manylinux2014_x86_64.whl.metadata (1.5 kB)\n",
            "Collecting nvidia-curand-cu12==10.3.5.147 (from torch>=1.3->entmax)\n",
            "  Downloading nvidia_curand_cu12-10.3.5.147-py3-none-manylinux2014_x86_64.whl.metadata (1.5 kB)\n",
            "Collecting nvidia-cusolver-cu12==11.6.1.9 (from torch>=1.3->entmax)\n",
            "  Downloading nvidia_cusolver_cu12-11.6.1.9-py3-none-manylinux2014_x86_64.whl.metadata (1.6 kB)\n",
            "Collecting nvidia-cusparse-cu12==12.3.1.170 (from torch>=1.3->entmax)\n",
            "  Downloading nvidia_cusparse_cu12-12.3.1.170-py3-none-manylinux2014_x86_64.whl.metadata (1.6 kB)\n",
            "Requirement already satisfied: nvidia-cusparselt-cu12==0.6.2 in /usr/local/lib/python3.11/dist-packages (from torch>=1.3->entmax) (0.6.2)\n",
            "Requirement already satisfied: nvidia-nccl-cu12==2.21.5 in /usr/local/lib/python3.11/dist-packages (from torch>=1.3->entmax) (2.21.5)\n",
            "Requirement already satisfied: nvidia-nvtx-cu12==12.4.127 in /usr/local/lib/python3.11/dist-packages (from torch>=1.3->entmax) (12.4.127)\n",
            "Collecting nvidia-nvjitlink-cu12==12.4.127 (from torch>=1.3->entmax)\n",
            "  Downloading nvidia_nvjitlink_cu12-12.4.127-py3-none-manylinux2014_x86_64.whl.metadata (1.5 kB)\n",
            "Requirement already satisfied: triton==3.2.0 in /usr/local/lib/python3.11/dist-packages (from torch>=1.3->entmax) (3.2.0)\n",
            "Requirement already satisfied: sympy==1.13.1 in /usr/local/lib/python3.11/dist-packages (from torch>=1.3->entmax) (1.13.1)\n",
            "Requirement already satisfied: mpmath<1.4,>=1.1.0 in /usr/local/lib/python3.11/dist-packages (from sympy==1.13.1->torch>=1.3->entmax) (1.3.0)\n",
            "Requirement already satisfied: MarkupSafe>=2.0 in /usr/local/lib/python3.11/dist-packages (from jinja2->torch>=1.3->entmax) (3.0.2)\n",
            "Downloading entmax-1.3-py3-none-any.whl (13 kB)\n",
            "Downloading nvidia_cublas_cu12-12.4.5.8-py3-none-manylinux2014_x86_64.whl (363.4 MB)\n",
            "\u001b[2K   \u001b[90m━━━━━━━━━━━━━━━━━━━━━━━━━━━━━━━━━━━━━━━━\u001b[0m \u001b[32m363.4/363.4 MB\u001b[0m \u001b[31m3.9 MB/s\u001b[0m eta \u001b[36m0:00:00\u001b[0m\n",
            "\u001b[?25hDownloading nvidia_cuda_cupti_cu12-12.4.127-py3-none-manylinux2014_x86_64.whl (13.8 MB)\n",
            "\u001b[2K   \u001b[90m━━━━━━━━━━━━━━━━━━━━━━━━━━━━━━━━━━━━━━━━\u001b[0m \u001b[32m13.8/13.8 MB\u001b[0m \u001b[31m95.1 MB/s\u001b[0m eta \u001b[36m0:00:00\u001b[0m\n",
            "\u001b[?25hDownloading nvidia_cuda_nvrtc_cu12-12.4.127-py3-none-manylinux2014_x86_64.whl (24.6 MB)\n",
            "\u001b[2K   \u001b[90m━━━━━━━━━━━━━━━━━━━━━━━━━━━━━━━━━━━━━━━━\u001b[0m \u001b[32m24.6/24.6 MB\u001b[0m \u001b[31m69.6 MB/s\u001b[0m eta \u001b[36m0:00:00\u001b[0m\n",
            "\u001b[?25hDownloading nvidia_cuda_runtime_cu12-12.4.127-py3-none-manylinux2014_x86_64.whl (883 kB)\n",
            "\u001b[2K   \u001b[90m━━━━━━━━━━━━━━━━━━━━━━━━━━━━━━━━━━━━━━━━\u001b[0m \u001b[32m883.7/883.7 kB\u001b[0m \u001b[31m39.9 MB/s\u001b[0m eta \u001b[36m0:00:00\u001b[0m\n",
            "\u001b[?25hDownloading nvidia_cudnn_cu12-9.1.0.70-py3-none-manylinux2014_x86_64.whl (664.8 MB)\n",
            "\u001b[2K   \u001b[90m━━━━━━━━━━━━━━━━━━━━━━━━━━━━━━━━━━━━━━━━\u001b[0m \u001b[32m664.8/664.8 MB\u001b[0m \u001b[31m1.9 MB/s\u001b[0m eta \u001b[36m0:00:00\u001b[0m\n",
            "\u001b[?25hDownloading nvidia_cufft_cu12-11.2.1.3-py3-none-manylinux2014_x86_64.whl (211.5 MB)\n",
            "\u001b[2K   \u001b[90m━━━━━━━━━━━━━━━━━━━━━━━━━━━━━━━━━━━━━━━━\u001b[0m \u001b[32m211.5/211.5 MB\u001b[0m \u001b[31m5.6 MB/s\u001b[0m eta \u001b[36m0:00:00\u001b[0m\n",
            "\u001b[?25hDownloading nvidia_curand_cu12-10.3.5.147-py3-none-manylinux2014_x86_64.whl (56.3 MB)\n",
            "\u001b[2K   \u001b[90m━━━━━━━━━━━━━━━━━━━━━━━━━━━━━━━━━━━━━━━━\u001b[0m \u001b[32m56.3/56.3 MB\u001b[0m \u001b[31m19.9 MB/s\u001b[0m eta \u001b[36m0:00:00\u001b[0m\n",
            "\u001b[?25hDownloading nvidia_cusolver_cu12-11.6.1.9-py3-none-manylinux2014_x86_64.whl (127.9 MB)\n",
            "\u001b[2K   \u001b[90m━━━━━━━━━━━━━━━━━━━━━━━━━━━━━━━━━━━━━━━━\u001b[0m \u001b[32m127.9/127.9 MB\u001b[0m \u001b[31m10.9 MB/s\u001b[0m eta \u001b[36m0:00:00\u001b[0m\n",
            "\u001b[?25hDownloading nvidia_cusparse_cu12-12.3.1.170-py3-none-manylinux2014_x86_64.whl (207.5 MB)\n",
            "\u001b[2K   \u001b[90m━━━━━━━━━━━━━━━━━━━━━━━━━━━━━━━━━━━━━━━━\u001b[0m \u001b[32m207.5/207.5 MB\u001b[0m \u001b[31m6.6 MB/s\u001b[0m eta \u001b[36m0:00:00\u001b[0m\n",
            "\u001b[?25hDownloading nvidia_nvjitlink_cu12-12.4.127-py3-none-manylinux2014_x86_64.whl (21.1 MB)\n",
            "\u001b[2K   \u001b[90m━━━━━━━━━━━━━━━━━━━━━━━━━━━━━━━━━━━━━━━━\u001b[0m \u001b[32m21.1/21.1 MB\u001b[0m \u001b[31m86.3 MB/s\u001b[0m eta \u001b[36m0:00:00\u001b[0m\n",
            "\u001b[?25hInstalling collected packages: nvidia-nvjitlink-cu12, nvidia-curand-cu12, nvidia-cufft-cu12, nvidia-cuda-runtime-cu12, nvidia-cuda-nvrtc-cu12, nvidia-cuda-cupti-cu12, nvidia-cublas-cu12, nvidia-cusparse-cu12, nvidia-cudnn-cu12, nvidia-cusolver-cu12, entmax\n",
            "  Attempting uninstall: nvidia-nvjitlink-cu12\n",
            "    Found existing installation: nvidia-nvjitlink-cu12 12.5.82\n",
            "    Uninstalling nvidia-nvjitlink-cu12-12.5.82:\n",
            "      Successfully uninstalled nvidia-nvjitlink-cu12-12.5.82\n",
            "  Attempting uninstall: nvidia-curand-cu12\n",
            "    Found existing installation: nvidia-curand-cu12 10.3.6.82\n",
            "    Uninstalling nvidia-curand-cu12-10.3.6.82:\n",
            "      Successfully uninstalled nvidia-curand-cu12-10.3.6.82\n",
            "  Attempting uninstall: nvidia-cufft-cu12\n",
            "    Found existing installation: nvidia-cufft-cu12 11.2.3.61\n",
            "    Uninstalling nvidia-cufft-cu12-11.2.3.61:\n",
            "      Successfully uninstalled nvidia-cufft-cu12-11.2.3.61\n",
            "  Attempting uninstall: nvidia-cuda-runtime-cu12\n",
            "    Found existing installation: nvidia-cuda-runtime-cu12 12.5.82\n",
            "    Uninstalling nvidia-cuda-runtime-cu12-12.5.82:\n",
            "      Successfully uninstalled nvidia-cuda-runtime-cu12-12.5.82\n",
            "  Attempting uninstall: nvidia-cuda-nvrtc-cu12\n",
            "    Found existing installation: nvidia-cuda-nvrtc-cu12 12.5.82\n",
            "    Uninstalling nvidia-cuda-nvrtc-cu12-12.5.82:\n",
            "      Successfully uninstalled nvidia-cuda-nvrtc-cu12-12.5.82\n",
            "  Attempting uninstall: nvidia-cuda-cupti-cu12\n",
            "    Found existing installation: nvidia-cuda-cupti-cu12 12.5.82\n",
            "    Uninstalling nvidia-cuda-cupti-cu12-12.5.82:\n",
            "      Successfully uninstalled nvidia-cuda-cupti-cu12-12.5.82\n",
            "  Attempting uninstall: nvidia-cublas-cu12\n",
            "    Found existing installation: nvidia-cublas-cu12 12.5.3.2\n",
            "    Uninstalling nvidia-cublas-cu12-12.5.3.2:\n",
            "      Successfully uninstalled nvidia-cublas-cu12-12.5.3.2\n",
            "  Attempting uninstall: nvidia-cusparse-cu12\n",
            "    Found existing installation: nvidia-cusparse-cu12 12.5.1.3\n",
            "    Uninstalling nvidia-cusparse-cu12-12.5.1.3:\n",
            "      Successfully uninstalled nvidia-cusparse-cu12-12.5.1.3\n",
            "  Attempting uninstall: nvidia-cudnn-cu12\n",
            "    Found existing installation: nvidia-cudnn-cu12 9.3.0.75\n",
            "    Uninstalling nvidia-cudnn-cu12-9.3.0.75:\n",
            "      Successfully uninstalled nvidia-cudnn-cu12-9.3.0.75\n",
            "  Attempting uninstall: nvidia-cusolver-cu12\n",
            "    Found existing installation: nvidia-cusolver-cu12 11.6.3.83\n",
            "    Uninstalling nvidia-cusolver-cu12-11.6.3.83:\n",
            "      Successfully uninstalled nvidia-cusolver-cu12-11.6.3.83\n",
            "Successfully installed entmax-1.3 nvidia-cublas-cu12-12.4.5.8 nvidia-cuda-cupti-cu12-12.4.127 nvidia-cuda-nvrtc-cu12-12.4.127 nvidia-cuda-runtime-cu12-12.4.127 nvidia-cudnn-cu12-9.1.0.70 nvidia-cufft-cu12-11.2.1.3 nvidia-curand-cu12-10.3.5.147 nvidia-cusolver-cu12-11.6.1.9 nvidia-cusparse-cu12-12.3.1.170 nvidia-nvjitlink-cu12-12.4.127\n"
          ]
        }
      ]
    },
    {
      "cell_type": "code",
      "source": [
        "from entmax import Entmax15\n",
        "\n",
        "class EntmaxAttention(nn.Module):\n",
        "    def __init__(self, hidden_size, attn_dim=64):\n",
        "        super().__init__()\n",
        "        self.score_layer = nn.Sequential(\n",
        "            nn.Linear(hidden_size, attn_dim),\n",
        "            nn.Tanh(),\n",
        "            nn.Linear(attn_dim, 1)\n",
        "        )\n",
        "        self.entmax = Entmax15(dim=1)\n",
        "\n",
        "    def forward(self, lstm_output):\n",
        "        # lstm_output: (B, T, H)\n",
        "        scores = self.score_layer(lstm_output).squeeze(-1)  # (B, T)\n",
        "        weights = self.entmax(scores)  # sparse attention weights\n",
        "        context = torch.sum(lstm_output * weights.unsqueeze(-1), dim=1)  # (B, H)\n",
        "        return context, weights"
      ],
      "metadata": {
        "id": "Hfs1L8L_vyU5"
      },
      "execution_count": 17,
      "outputs": []
    },
    {
      "cell_type": "code",
      "source": [
        "class AttentionLSTMModel(nn.Module):\n",
        "    def __init__(self, input_size, hidden_size=100, num_layers=2, target_size=14, dropout=0.2):\n",
        "        super().__init__()\n",
        "        self.hidden_size = hidden_size\n",
        "        self.num_layers = num_layers\n",
        "        self.target_size = target_size\n",
        "\n",
        "        self.lstm = nn.LSTM(\n",
        "            input_size=input_size,\n",
        "            hidden_size=hidden_size,\n",
        "            num_layers=num_layers,\n",
        "            dropout=dropout,\n",
        "            batch_first=True\n",
        "        )\n",
        "\n",
        "        self.attention = EntmaxAttention(hidden_size)\n",
        "\n",
        "        # Gating layer to mix context and last_hidden\n",
        "        self.gate = nn.Sequential(\n",
        "            nn.Linear(hidden_size * 2, 1),\n",
        "            nn.Sigmoid()\n",
        "        )\n",
        "\n",
        "        # Nonlinear prediction head\n",
        "        self.fc = nn.Sequential(\n",
        "            nn.Linear(hidden_size, hidden_size),\n",
        "            nn.ReLU(),\n",
        "            nn.Linear(hidden_size, target_size)\n",
        "        )\n",
        "\n",
        "    def forward(self, x, hidden_states=None):\n",
        "        batch_size = x.size(0)\n",
        "\n",
        "        if hidden_states is None:\n",
        "            h0 = torch.zeros(self.num_layers, batch_size, self.hidden_size).to(x.device)\n",
        "            c0 = torch.zeros(self.num_layers, batch_size, self.hidden_size).to(x.device)\n",
        "            hidden_states = (h0, c0)\n",
        "\n",
        "        lstm_out, _ = self.lstm(x, hidden_states)  # (B, T, H)\n",
        "\n",
        "        context, attn_weights = self.attention(lstm_out)  # (B, H)\n",
        "        last_hidden = lstm_out[:, -1, :]  # (B, H)\n",
        "\n",
        "        # Gated fusion of context and last hidden\n",
        "        combined = torch.cat([context, last_hidden], dim=1)  # (B, 2H)\n",
        "        alpha = self.gate(combined)  # (B, 1)\n",
        "        fused = alpha * context + (1 - alpha) * last_hidden  # (B, H)\n",
        "\n",
        "        out = self.fc(fused)  # (B, target_size)\n",
        "\n",
        "        return out, attn_weights"
      ],
      "metadata": {
        "id": "DSpFqWWRTk3M"
      },
      "execution_count": 18,
      "outputs": []
    },
    {
      "cell_type": "code",
      "source": [
        "device = 'cuda' if torch.cuda.is_available() else 'cpu'\n",
        "\n",
        "input_size = X_train.shape[2]\n",
        "target_size = 14\n",
        "model = AttentionLSTMModel(input_size=input_size, target_size=target_size).to(device)\n",
        "criterion = nn.MSELoss()\n",
        "optimizer = torch.optim.Adam(model.parameters(), lr=0.001, weight_decay=1e-5)"
      ],
      "metadata": {
        "id": "7JRw0dguUXXx"
      },
      "execution_count": 19,
      "outputs": []
    },
    {
      "cell_type": "code",
      "source": [
        "num_epochs = 200\n",
        "\n",
        "for epoch in range(num_epochs):\n",
        "    epoch_loss = 0.0\n",
        "\n",
        "    for batch_idx, (x_batch, y_batch) in enumerate(train_loader):\n",
        "        x_batch, y_batch = x_batch.to(device), y_batch.to(device)\n",
        "        optimizer.zero_grad()\n",
        "\n",
        "        # 모델 예측 (hidden state 제거)\n",
        "        y_pred, _ = model(x_batch)\n",
        "\n",
        "        # (선택적으로) 차원 조정\n",
        "        if y_pred.ndim == 3 and y_pred.shape[-1] == 1:\n",
        "            y_pred = y_pred.squeeze(-1)\n",
        "\n",
        "        # Loss 계산\n",
        "        loss = criterion(y_pred, y_batch)\n",
        "\n",
        "        # Backpropagation\n",
        "        loss.backward()\n",
        "        torch.nn.utils.clip_grad_norm_(model.parameters(), max_norm=5)\n",
        "        optimizer.step()\n",
        "\n",
        "        epoch_loss += loss.item()\n",
        "\n",
        "    print(f\"Epoch [{epoch+1}/{num_epochs}], Loss: {epoch_loss / len(train_loader):.4f}\")"
      ],
      "metadata": {
        "colab": {
          "base_uri": "https://localhost:8080/"
        },
        "collapsed": true,
        "id": "Y7yORF1UU2O5",
        "outputId": "49711133-0d79-482d-b520-ed0778b5447c"
      },
      "execution_count": 20,
      "outputs": [
        {
          "output_type": "stream",
          "name": "stdout",
          "text": [
            "Epoch [1/200], Loss: 0.0158\n",
            "Epoch [2/200], Loss: 0.0030\n",
            "Epoch [3/200], Loss: 0.0027\n",
            "Epoch [4/200], Loss: 0.0025\n",
            "Epoch [5/200], Loss: 0.0024\n",
            "Epoch [6/200], Loss: 0.0022\n",
            "Epoch [7/200], Loss: 0.0020\n",
            "Epoch [8/200], Loss: 0.0019\n",
            "Epoch [9/200], Loss: 0.0017\n",
            "Epoch [10/200], Loss: 0.0018\n",
            "Epoch [11/200], Loss: 0.0016\n",
            "Epoch [12/200], Loss: 0.0017\n",
            "Epoch [13/200], Loss: 0.0015\n",
            "Epoch [14/200], Loss: 0.0014\n",
            "Epoch [15/200], Loss: 0.0014\n",
            "Epoch [16/200], Loss: 0.0013\n",
            "Epoch [17/200], Loss: 0.0012\n",
            "Epoch [18/200], Loss: 0.0015\n",
            "Epoch [19/200], Loss: 0.0013\n",
            "Epoch [20/200], Loss: 0.0014\n",
            "Epoch [21/200], Loss: 0.0013\n",
            "Epoch [22/200], Loss: 0.0012\n",
            "Epoch [23/200], Loss: 0.0012\n",
            "Epoch [24/200], Loss: 0.0010\n",
            "Epoch [25/200], Loss: 0.0010\n",
            "Epoch [26/200], Loss: 0.0011\n",
            "Epoch [27/200], Loss: 0.0010\n",
            "Epoch [28/200], Loss: 0.0011\n",
            "Epoch [29/200], Loss: 0.0012\n",
            "Epoch [30/200], Loss: 0.0010\n",
            "Epoch [31/200], Loss: 0.0010\n",
            "Epoch [32/200], Loss: 0.0009\n",
            "Epoch [33/200], Loss: 0.0011\n",
            "Epoch [34/200], Loss: 0.0010\n",
            "Epoch [35/200], Loss: 0.0010\n",
            "Epoch [36/200], Loss: 0.0009\n",
            "Epoch [37/200], Loss: 0.0009\n",
            "Epoch [38/200], Loss: 0.0009\n",
            "Epoch [39/200], Loss: 0.0009\n",
            "Epoch [40/200], Loss: 0.0008\n",
            "Epoch [41/200], Loss: 0.0008\n",
            "Epoch [42/200], Loss: 0.0008\n",
            "Epoch [43/200], Loss: 0.0008\n",
            "Epoch [44/200], Loss: 0.0008\n",
            "Epoch [45/200], Loss: 0.0008\n",
            "Epoch [46/200], Loss: 0.0008\n",
            "Epoch [47/200], Loss: 0.0007\n",
            "Epoch [48/200], Loss: 0.0007\n",
            "Epoch [49/200], Loss: 0.0008\n",
            "Epoch [50/200], Loss: 0.0008\n",
            "Epoch [51/200], Loss: 0.0007\n",
            "Epoch [52/200], Loss: 0.0008\n",
            "Epoch [53/200], Loss: 0.0007\n",
            "Epoch [54/200], Loss: 0.0007\n",
            "Epoch [55/200], Loss: 0.0007\n",
            "Epoch [56/200], Loss: 0.0007\n",
            "Epoch [57/200], Loss: 0.0007\n",
            "Epoch [58/200], Loss: 0.0007\n",
            "Epoch [59/200], Loss: 0.0007\n",
            "Epoch [60/200], Loss: 0.0007\n",
            "Epoch [61/200], Loss: 0.0007\n",
            "Epoch [62/200], Loss: 0.0007\n",
            "Epoch [63/200], Loss: 0.0006\n",
            "Epoch [64/200], Loss: 0.0007\n",
            "Epoch [65/200], Loss: 0.0006\n",
            "Epoch [66/200], Loss: 0.0007\n",
            "Epoch [67/200], Loss: 0.0007\n",
            "Epoch [68/200], Loss: 0.0007\n",
            "Epoch [69/200], Loss: 0.0007\n",
            "Epoch [70/200], Loss: 0.0007\n",
            "Epoch [71/200], Loss: 0.0006\n",
            "Epoch [72/200], Loss: 0.0006\n",
            "Epoch [73/200], Loss: 0.0006\n",
            "Epoch [74/200], Loss: 0.0006\n",
            "Epoch [75/200], Loss: 0.0006\n",
            "Epoch [76/200], Loss: 0.0006\n",
            "Epoch [77/200], Loss: 0.0006\n",
            "Epoch [78/200], Loss: 0.0007\n",
            "Epoch [79/200], Loss: 0.0007\n",
            "Epoch [80/200], Loss: 0.0006\n",
            "Epoch [81/200], Loss: 0.0006\n",
            "Epoch [82/200], Loss: 0.0006\n",
            "Epoch [83/200], Loss: 0.0006\n",
            "Epoch [84/200], Loss: 0.0006\n",
            "Epoch [85/200], Loss: 0.0006\n",
            "Epoch [86/200], Loss: 0.0006\n",
            "Epoch [87/200], Loss: 0.0007\n",
            "Epoch [88/200], Loss: 0.0006\n",
            "Epoch [89/200], Loss: 0.0006\n",
            "Epoch [90/200], Loss: 0.0006\n",
            "Epoch [91/200], Loss: 0.0006\n",
            "Epoch [92/200], Loss: 0.0007\n",
            "Epoch [93/200], Loss: 0.0006\n",
            "Epoch [94/200], Loss: 0.0006\n",
            "Epoch [95/200], Loss: 0.0006\n",
            "Epoch [96/200], Loss: 0.0006\n",
            "Epoch [97/200], Loss: 0.0007\n",
            "Epoch [98/200], Loss: 0.0006\n",
            "Epoch [99/200], Loss: 0.0006\n",
            "Epoch [100/200], Loss: 0.0006\n",
            "Epoch [101/200], Loss: 0.0006\n",
            "Epoch [102/200], Loss: 0.0006\n",
            "Epoch [103/200], Loss: 0.0006\n",
            "Epoch [104/200], Loss: 0.0006\n",
            "Epoch [105/200], Loss: 0.0006\n",
            "Epoch [106/200], Loss: 0.0007\n",
            "Epoch [107/200], Loss: 0.0006\n",
            "Epoch [108/200], Loss: 0.0006\n",
            "Epoch [109/200], Loss: 0.0006\n",
            "Epoch [110/200], Loss: 0.0006\n",
            "Epoch [111/200], Loss: 0.0006\n",
            "Epoch [112/200], Loss: 0.0006\n",
            "Epoch [113/200], Loss: 0.0006\n",
            "Epoch [114/200], Loss: 0.0006\n",
            "Epoch [115/200], Loss: 0.0006\n",
            "Epoch [116/200], Loss: 0.0006\n",
            "Epoch [117/200], Loss: 0.0006\n",
            "Epoch [118/200], Loss: 0.0006\n",
            "Epoch [119/200], Loss: 0.0006\n",
            "Epoch [120/200], Loss: 0.0006\n",
            "Epoch [121/200], Loss: 0.0005\n",
            "Epoch [122/200], Loss: 0.0005\n",
            "Epoch [123/200], Loss: 0.0005\n",
            "Epoch [124/200], Loss: 0.0006\n",
            "Epoch [125/200], Loss: 0.0006\n",
            "Epoch [126/200], Loss: 0.0006\n",
            "Epoch [127/200], Loss: 0.0006\n",
            "Epoch [128/200], Loss: 0.0006\n",
            "Epoch [129/200], Loss: 0.0005\n",
            "Epoch [130/200], Loss: 0.0006\n",
            "Epoch [131/200], Loss: 0.0006\n",
            "Epoch [132/200], Loss: 0.0005\n",
            "Epoch [133/200], Loss: 0.0006\n",
            "Epoch [134/200], Loss: 0.0006\n",
            "Epoch [135/200], Loss: 0.0005\n",
            "Epoch [136/200], Loss: 0.0006\n",
            "Epoch [137/200], Loss: 0.0005\n",
            "Epoch [138/200], Loss: 0.0006\n",
            "Epoch [139/200], Loss: 0.0005\n",
            "Epoch [140/200], Loss: 0.0005\n",
            "Epoch [141/200], Loss: 0.0005\n",
            "Epoch [142/200], Loss: 0.0005\n",
            "Epoch [143/200], Loss: 0.0005\n",
            "Epoch [144/200], Loss: 0.0007\n",
            "Epoch [145/200], Loss: 0.0006\n",
            "Epoch [146/200], Loss: 0.0005\n",
            "Epoch [147/200], Loss: 0.0005\n",
            "Epoch [148/200], Loss: 0.0005\n",
            "Epoch [149/200], Loss: 0.0005\n",
            "Epoch [150/200], Loss: 0.0007\n",
            "Epoch [151/200], Loss: 0.0005\n",
            "Epoch [152/200], Loss: 0.0005\n",
            "Epoch [153/200], Loss: 0.0005\n",
            "Epoch [154/200], Loss: 0.0005\n",
            "Epoch [155/200], Loss: 0.0006\n",
            "Epoch [156/200], Loss: 0.0006\n",
            "Epoch [157/200], Loss: 0.0005\n",
            "Epoch [158/200], Loss: 0.0006\n",
            "Epoch [159/200], Loss: 0.0005\n",
            "Epoch [160/200], Loss: 0.0006\n",
            "Epoch [161/200], Loss: 0.0005\n",
            "Epoch [162/200], Loss: 0.0006\n",
            "Epoch [163/200], Loss: 0.0005\n",
            "Epoch [164/200], Loss: 0.0006\n",
            "Epoch [165/200], Loss: 0.0005\n",
            "Epoch [166/200], Loss: 0.0005\n",
            "Epoch [167/200], Loss: 0.0005\n",
            "Epoch [168/200], Loss: 0.0006\n",
            "Epoch [169/200], Loss: 0.0005\n",
            "Epoch [170/200], Loss: 0.0005\n",
            "Epoch [171/200], Loss: 0.0005\n",
            "Epoch [172/200], Loss: 0.0005\n",
            "Epoch [173/200], Loss: 0.0005\n",
            "Epoch [174/200], Loss: 0.0006\n",
            "Epoch [175/200], Loss: 0.0005\n",
            "Epoch [176/200], Loss: 0.0005\n",
            "Epoch [177/200], Loss: 0.0005\n",
            "Epoch [178/200], Loss: 0.0005\n",
            "Epoch [179/200], Loss: 0.0005\n",
            "Epoch [180/200], Loss: 0.0005\n",
            "Epoch [181/200], Loss: 0.0005\n",
            "Epoch [182/200], Loss: 0.0005\n",
            "Epoch [183/200], Loss: 0.0005\n",
            "Epoch [184/200], Loss: 0.0005\n",
            "Epoch [185/200], Loss: 0.0005\n",
            "Epoch [186/200], Loss: 0.0005\n",
            "Epoch [187/200], Loss: 0.0005\n",
            "Epoch [188/200], Loss: 0.0005\n",
            "Epoch [189/200], Loss: 0.0005\n",
            "Epoch [190/200], Loss: 0.0005\n",
            "Epoch [191/200], Loss: 0.0005\n",
            "Epoch [192/200], Loss: 0.0005\n",
            "Epoch [193/200], Loss: 0.0006\n",
            "Epoch [194/200], Loss: 0.0007\n",
            "Epoch [195/200], Loss: 0.0005\n",
            "Epoch [196/200], Loss: 0.0005\n",
            "Epoch [197/200], Loss: 0.0005\n",
            "Epoch [198/200], Loss: 0.0005\n",
            "Epoch [199/200], Loss: 0.0005\n",
            "Epoch [200/200], Loss: 0.0005\n"
          ]
        }
      ]
    },
    {
      "cell_type": "markdown",
      "source": [
        "예측 실행"
      ],
      "metadata": {
        "id": "vO0LrluscpI0"
      }
    },
    {
      "cell_type": "code",
      "source": [
        "# 1. train_df 마지막 날짜의 위치를 df 전체에서 찾음\n",
        "last_train_idx = df.index.get_loc(train_df.index[-1])\n",
        "\n",
        "# 2. 그 다음 14일치 날짜를 df에서 추출\n",
        "prediction_dates = df.index[last_train_idx + 1 : last_train_idx + 1 + 14]\n",
        "\n",
        "# 3. 실제값 가져오기\n",
        "true_values = df.loc[prediction_dates, 'Coffee_Price'].values"
      ],
      "metadata": {
        "id": "grzIoklBcWHe"
      },
      "execution_count": 21,
      "outputs": []
    },
    {
      "cell_type": "code",
      "source": [
        "true_values"
      ],
      "metadata": {
        "colab": {
          "base_uri": "https://localhost:8080/"
        },
        "id": "-BmD5O1GMcZn",
        "outputId": "93fbedb5-1db8-4ba9-ce01-fc7d552ae505"
      },
      "execution_count": 22,
      "outputs": [
        {
          "output_type": "execute_result",
          "data": {
            "text/plain": [
              "array([212.8999939 , 225.80000305, 228.19999695, 218.6000061 ,\n",
              "       218.69999695, 215.8500061 , 215.8500061 , 215.75      ,\n",
              "       213.6499939 , 217.05000305, 226.6000061 , 229.44999695,\n",
              "       229.44999695, 229.44999695])"
            ]
          },
          "metadata": {},
          "execution_count": 22
        }
      ]
    },
    {
      "cell_type": "code",
      "source": [
        "# 마지막 시퀀스 예측\n",
        "last_seq = X_train[-1].unsqueeze(0).to(device)\n",
        "model.eval()\n",
        "\n",
        "with torch.no_grad():\n",
        "    prediction, attn_weights = model(last_seq)\n",
        "\n",
        "# (선택) attention weights 시각화\n",
        "import matplotlib.pyplot as plt\n",
        "plt.figure(figsize=(12, 3))\n",
        "plt.plot(attn_weights.squeeze().cpu().numpy())\n",
        "plt.title(\"Attention Weights for Last Input Sequence\")\n",
        "plt.xlabel(\"Timestep\")\n",
        "plt.ylabel(\"Importance\")\n",
        "plt.grid(True)\n",
        "plt.show()\n",
        "\n",
        "# CPU로 이동 후 numpy 변환\n",
        "prediction = prediction.squeeze().cpu().numpy().reshape(-1, 1)"
      ],
      "metadata": {
        "colab": {
          "base_uri": "https://localhost:8080/",
          "height": 333
        },
        "id": "Za21b-dSUaRJ",
        "outputId": "27cd247f-4acb-4a4d-e724-fc2bed467f67"
      },
      "execution_count": 23,
      "outputs": [
        {
          "output_type": "display_data",
          "data": {
            "text/plain": [
              "<Figure size 1200x300 with 1 Axes>"
            ],
            "image/png": "[encoded data removed]"
          },
          "metadata": {}
        }
      ]
    },
    {
      "cell_type": "code",
      "source": [
        "# 역변환을 위해 dummy 피처 생성\n",
        "dummy = np.zeros((14, train_df.shape[1] - 1))  # Coffee_Price 제외 나머지\n",
        "prediction_combined = np.concatenate([prediction, dummy], axis=1)\n",
        "\n",
        "# Coffee_Price가 첫 번째 컬럼이라면 그대로 [:, 0]\n",
        "# (다른 위치일 경우 target_index로 변경 가능)\n",
        "prediction = scaler_seq.inverse_transform(prediction_combined)[:, 0]\n",
        "\n",
        "# 결과 확인\n",
        "prediction"
      ],
      "metadata": {
        "colab": {
          "base_uri": "https://localhost:8080/"
        },
        "id": "XAU-c9ueA1Sz",
        "outputId": "5d2fda94-4d74-49b3-9d94-05da92a70dfe"
      },
      "execution_count": 24,
      "outputs": [
        {
          "output_type": "execute_result",
          "data": {
            "text/plain": [
              "array([225.20174978, 222.7058429 , 224.11357651, 222.87758163,\n",
              "       221.11674027, 219.39721403, 218.6193085 , 217.86853362,\n",
              "       216.44196924, 217.56486688, 216.38972407, 216.64384745,\n",
              "       220.69742799, 221.02539053])"
            ]
          },
          "metadata": {},
          "execution_count": 24
        }
      ]
    },
    {
      "cell_type": "code",
      "source": [
        "import matplotlib.pyplot as plt\n",
        "import pandas as pd\n",
        "\n",
        "# 1. train_df 마지막 날짜의 위치를 df 전체에서 찾음\n",
        "last_train_idx = df.index.get_loc(train_df.index[-1])\n",
        "\n",
        "# 2. 그 다음 14일치 날짜를 df에서 추출\n",
        "prediction_dates = df.index[last_train_idx + 1 : last_train_idx + 1 + 14]\n",
        "\n",
        "# 3. 실제값 가져오기\n",
        "true_values = df.loc[prediction_dates, 'Coffee_Price'].values\n",
        "\n",
        "# 예측값 (이미 있는 prediction 변수 활용)\n",
        "forecast_series = pd.Series(prediction, index=prediction_dates)\n",
        "\n",
        "# 전체 시계열과 예측 결과를 함께 그리기\n",
        "plt.figure(figsize=(14, 6))\n",
        "plt.plot(df[target_col], label='Actual Coffee Price', color='blue')\n",
        "plt.plot(prediction_dates, forecast_series, label='Predicted Coffee Price', color='red', linestyle='dashed')\n",
        "\n",
        "plt.title('Coffee Price Prediction')\n",
        "plt.xlabel(\"Date\")\n",
        "plt.ylabel(\"Coffee Price\")\n",
        "plt.xlim(pd.to_datetime('2021-11-01'), pd.to_datetime('2023-02-01'))\n",
        "plt.legend()\n",
        "plt.grid(True)\n",
        "plt.tight_layout()\n",
        "plt.show()"
      ],
      "metadata": {
        "colab": {
          "base_uri": "https://localhost:8080/",
          "height": 607
        },
        "id": "Z5FjRmpm3d7u",
        "outputId": "8cdc1ad6-8346-432c-f2d3-8ae07967cc34"
      },
      "execution_count": 25,
      "outputs": [
        {
          "output_type": "display_data",
          "data": {
            "text/plain": [
              "<Figure size 1400x600 with 1 Axes>"
            ],
            "image/png": "[encoded data removed]"
          },
          "metadata": {}
        }
      ]
    },
    {
      "cell_type": "code",
      "source": [
        "comparison_df = pd.DataFrame({\n",
        "    \"날짜\": forecast_series.index,\n",
        "    \"실제값\": df.loc[forecast_series.index, \"Coffee_Price\"].values,\n",
        "    \"예측값\": forecast_series.values\n",
        "})"
      ],
      "metadata": {
        "id": "GLiMXeOjcaUI"
      },
      "execution_count": null,
      "outputs": []
    },
    {
      "cell_type": "code",
      "source": [
        "comparison_df[:14]"
      ],
      "metadata": {
        "colab": {
          "base_uri": "https://localhost:8080/",
          "height": 488
        },
        "id": "r-ecnJTmK2JI",
        "outputId": "cfc599ff-1c9e-4568-c6f2-8b09152877c6"
      },
      "execution_count": 27,
      "outputs": [
        {
          "output_type": "execute_result",
          "data": {
            "text/plain": [
              "           날짜         실제값         예측값\n",
              "0  2022-05-15  212.899994  225.201750\n",
              "1  2022-05-16  225.800003  222.705843\n",
              "2  2022-05-17  228.199997  224.113577\n",
              "3  2022-05-18  218.600006  222.877582\n",
              "4  2022-05-19  218.699997  221.116740\n",
              "5  2022-05-20  215.850006  219.397214\n",
              "6  2022-05-22  215.850006  218.619309\n",
              "7  2022-05-23  215.750000  217.868534\n",
              "8  2022-05-24  213.649994  216.441969\n",
              "9  2022-05-25  217.050003  217.564867\n",
              "10 2022-05-26  226.600006  216.389724\n",
              "11 2022-05-27  229.449997  216.643847\n",
              "12 2022-05-29  229.449997  220.697428\n",
              "13 2022-05-30  229.449997  221.025391"
            ],
            "text/html": [
              "\n",
              "  <div id=\"df-db00fb46-bae8-4ee5-86f7-e3d792697cc6\" class=\"colab-df-container\">\n",
              "    <div>\n",
              "<style scoped>\n",
              "    .dataframe tbody tr th:only-of-type {\n",
              "        vertical-align: middle;\n",
              "    }\n",
              "\n",
              "    .dataframe tbody tr th {\n",
              "        vertical-align: top;\n",
              "    }\n",
              "\n",
              "    .dataframe thead th {\n",
              "        text-align: right;\n",
              "    }\n",
              "</style>\n",
              "<table border=\"1\" class=\"dataframe\">\n",
              "  <thead>\n",
              "    <tr style=\"text-align: right;\">\n",
              "      <th></th>\n",
              "      <th>날짜</th>\n",
              "      <th>실제값</th>\n",
              "      <th>예측값</th>\n",
              "    </tr>\n",
              "  </thead>\n",
              "  <tbody>\n",
              "    <tr>\n",
              "      <th>0</th>\n",
              "      <td>2022-05-15</td>\n",
              "      <td>212.899994</td>\n",
              "      <td>225.201750</td>\n",
              "    </tr>\n",
              "    <tr>\n",
              "      <th>1</th>\n",
              "      <td>2022-05-16</td>\n",
              "      <td>225.800003</td>\n",
              "      <td>222.705843</td>\n",
              "    </tr>\n",
              "    <tr>\n",
              "      <th>2</th>\n",
              "      <td>2022-05-17</td>\n",
              "      <td>228.199997</td>\n",
              "      <td>224.113577</td>\n",
              "    </tr>\n",
              "    <tr>\n",
              "      <th>3</th>\n",
              "      <td>2022-05-18</td>\n",
              "      <td>218.600006</td>\n",
              "      <td>222.877582</td>\n",
              "    </tr>\n",
              "    <tr>\n",
              "      <th>4</th>\n",
              "      <td>2022-05-19</td>\n",
              "      <td>218.699997</td>\n",
              "      <td>221.116740</td>\n",
              "    </tr>\n",
              "    <tr>\n",
              "      <th>5</th>\n",
              "      <td>2022-05-20</td>\n",
              "      <td>215.850006</td>\n",
              "      <td>219.397214</td>\n",
              "    </tr>\n",
              "    <tr>\n",
              "      <th>6</th>\n",
              "      <td>2022-05-22</td>\n",
              "      <td>215.850006</td>\n",
              "      <td>218.619309</td>\n",
              "    </tr>\n",
              "    <tr>\n",
              "      <th>7</th>\n",
              "      <td>2022-05-23</td>\n",
              "      <td>215.750000</td>\n",
              "      <td>217.868534</td>\n",
              "    </tr>\n",
              "    <tr>\n",
              "      <th>8</th>\n",
              "      <td>2022-05-24</td>\n",
              "      <td>213.649994</td>\n",
              "      <td>216.441969</td>\n",
              "    </tr>\n",
              "    <tr>\n",
              "      <th>9</th>\n",
              "      <td>2022-05-25</td>\n",
              "      <td>217.050003</td>\n",
              "      <td>217.564867</td>\n",
              "    </tr>\n",
              "    <tr>\n",
              "      <th>10</th>\n",
              "      <td>2022-05-26</td>\n",
              "      <td>226.600006</td>\n",
              "      <td>216.389724</td>\n",
              "    </tr>\n",
              "    <tr>\n",
              "      <th>11</th>\n",
              "      <td>2022-05-27</td>\n",
              "      <td>229.449997</td>\n",
              "      <td>216.643847</td>\n",
              "    </tr>\n",
              "    <tr>\n",
              "      <th>12</th>\n",
              "      <td>2022-05-29</td>\n",
              "      <td>229.449997</td>\n",
              "      <td>220.697428</td>\n",
              "    </tr>\n",
              "    <tr>\n",
              "      <th>13</th>\n",
              "      <td>2022-05-30</td>\n",
              "      <td>229.449997</td>\n",
              "      <td>221.025391</td>\n",
              "    </tr>\n",
              "  </tbody>\n",
              "</table>\n",
              "</div>\n",
              "    <div class=\"colab-df-buttons\">\n",
              "\n",
              "  <div class=\"colab-df-container\">\n",
              "    <button class=\"colab-df-convert\" onclick=\"convertToInteractive('df-db00fb46-bae8-4ee5-86f7-e3d792697cc6')\"\n",
              "            title=\"Convert this dataframe to an interactive table.\"\n",
              "            style=\"display:none;\">\n",
              "\n",
              "  <svg xmlns=\"http://www.w3.org/2000/svg\" height=\"24px\" viewBox=\"0 -960 960 960\">\n",
              "    <path d=\"M120-120v-720h720v720H120Zm60-500h600v-160H180v160Zm220 220h160v-160H400v160Zm0 220h160v-160H400v160ZM180-400h160v-160H180v160Zm440 0h160v-160H620v160ZM180-180h160v-160H180v160Zm440 0h160v-160H620v160Z\"/>\n",
              "  </svg>\n",
              "    </button>\n",
              "\n",
              "  <style>\n",
              "    .colab-df-container {\n",
              "      display:flex;\n",
              "      gap: 12px;\n",
              "    }\n",
              "\n",
              "    .colab-df-convert {\n",
              "      background-color: #E8F0FE;\n",
              "      border: none;\n",
              "      border-radius: 50%;\n",
              "      cursor: pointer;\n",
              "      display: none;\n",
              "      fill: #1967D2;\n",
              "      height: 32px;\n",
              "      padding: 0 0 0 0;\n",
              "      width: 32px;\n",
              "    }\n",
              "\n",
              "    .colab-df-convert:hover {\n",
              "      background-color: #E2EBFA;\n",
              "      box-shadow: 0px 1px 2px rgba(60, 64, 67, 0.3), 0px 1px 3px 1px rgba(60, 64, 67, 0.15);\n",
              "      fill: #174EA6;\n",
              "    }\n",
              "\n",
              "    .colab-df-buttons div {\n",
              "      margin-bottom: 4px;\n",
              "    }\n",
              "\n",
              "    [theme=dark] .colab-df-convert {\n",
              "      background-color: #3B4455;\n",
              "      fill: #D2E3FC;\n",
              "    }\n",
              "\n",
              "    [theme=dark] .colab-df-convert:hover {\n",
              "      background-color: #434B5C;\n",
              "      box-shadow: 0px 1px 3px 1px rgba(0, 0, 0, 0.15);\n",
              "      filter: drop-shadow(0px 1px 2px rgba(0, 0, 0, 0.3));\n",
              "      fill: #FFFFFF;\n",
              "    }\n",
              "  </style>\n",
              "\n",
              "    <script>\n",
              "      const buttonEl =\n",
              "        document.querySelector('#df-db00fb46-bae8-4ee5-86f7-e3d792697cc6 button.colab-df-convert');\n",
              "      buttonEl.style.display =\n",
              "        google.colab.kernel.accessAllowed ? 'block' : 'none';\n",
              "\n",
              "      async function convertToInteractive(key) {\n",
              "        const element = document.querySelector('#df-db00fb46-bae8-4ee5-86f7-e3d792697cc6');\n",
              "        const dataTable =\n",
              "          await google.colab.kernel.invokeFunction('convertToInteractive',\n",
              "                                                    [key], {});\n",
              "        if (!dataTable) return;\n",
              "\n",
              "        const docLinkHtml = 'Like what you see? Visit the ' +\n",
              "          '<a target=\"_blank\" href=https://colab.research.google.com/notebooks/data_table.ipynb>data table notebook</a>'\n",
              "          + ' to learn more about interactive tables.';\n",
              "        element.innerHTML = '';\n",
              "        dataTable['output_type'] = 'display_data';\n",
              "        await google.colab.output.renderOutput(dataTable, element);\n",
              "        const docLink = document.createElement('div');\n",
              "        docLink.innerHTML = docLinkHtml;\n",
              "        element.appendChild(docLink);\n",
              "      }\n",
              "    </script>\n",
              "  </div>\n",
              "\n",
              "\n",
              "    <div id=\"df-e896f692-22be-48f6-a25e-25a6d3e8752e\">\n",
              "      <button class=\"colab-df-quickchart\" onclick=\"quickchart('df-e896f692-22be-48f6-a25e-25a6d3e8752e')\"\n",
              "                title=\"Suggest charts\"\n",
              "                style=\"display:none;\">\n",
              "\n",
              "<svg xmlns=\"http://www.w3.org/2000/svg\" height=\"24px\"viewBox=\"0 0 24 24\"\n",
              "     width=\"24px\">\n",
              "    <g>\n",
              "        <path d=\"M19 3H5c-1.1 0-2 .9-2 2v14c0 1.1.9 2 2 2h14c1.1 0 2-.9 2-2V5c0-1.1-.9-2-2-2zM9 17H7v-7h2v7zm4 0h-2V7h2v10zm4 0h-2v-4h2v4z\"/>\n",
              "    </g>\n",
              "</svg>\n",
              "      </button>\n",
              "\n",
              "<style>\n",
              "  .colab-df-quickchart {\n",
              "      --bg-color: #E8F0FE;\n",
              "      --fill-color: #1967D2;\n",
              "      --hover-bg-color: #E2EBFA;\n",
              "      --hover-fill-color: #174EA6;\n",
              "      --disabled-fill-color: #AAA;\n",
              "      --disabled-bg-color: #DDD;\n",
              "  }\n",
              "\n",
              "  [theme=dark] .colab-df-quickchart {\n",
              "      --bg-color: #3B4455;\n",
              "      --fill-color: #D2E3FC;\n",
              "      --hover-bg-color: #434B5C;\n",
              "      --hover-fill-color: #FFFFFF;\n",
              "      --disabled-bg-color: #3B4455;\n",
              "      --disabled-fill-color: #666;\n",
              "  }\n",
              "\n",
              "  .colab-df-quickchart {\n",
              "    background-color: var(--bg-color);\n",
              "    border: none;\n",
              "    border-radius: 50%;\n",
              "    cursor: pointer;\n",
              "    display: none;\n",
              "    fill: var(--fill-color);\n",
              "    height: 32px;\n",
              "    padding: 0;\n",
              "    width: 32px;\n",
              "  }\n",
              "\n",
              "  .colab-df-quickchart:hover {\n",
              "    background-color: var(--hover-bg-color);\n",
              "    box-shadow: 0 1px 2px rgba(60, 64, 67, 0.3), 0 1px 3px 1px rgba(60, 64, 67, 0.15);\n",
              "    fill: var(--button-hover-fill-color);\n",
              "  }\n",
              "\n",
              "  .colab-df-quickchart-complete:disabled,\n",
              "  .colab-df-quickchart-complete:disabled:hover {\n",
              "    background-color: var(--disabled-bg-color);\n",
              "    fill: var(--disabled-fill-color);\n",
              "    box-shadow: none;\n",
              "  }\n",
              "\n",
              "  .colab-df-spinner {\n",
              "    border: 2px solid var(--fill-color);\n",
              "    border-color: transparent;\n",
              "    border-bottom-color: var(--fill-color);\n",
              "    animation:\n",
              "      spin 1s steps(1) infinite;\n",
              "  }\n",
              "\n",
              "  @keyframes spin {\n",
              "    0% {\n",
              "      border-color: transparent;\n",
              "      border-bottom-color: var(--fill-color);\n",
              "      border-left-color: var(--fill-color);\n",
              "    }\n",
              "    20% {\n",
              "      border-color: transparent;\n",
              "      border-left-color: var(--fill-color);\n",
              "      border-top-color: var(--fill-color);\n",
              "    }\n",
              "    30% {\n",
              "      border-color: transparent;\n",
              "      border-left-color: var(--fill-color);\n",
              "      border-top-color: var(--fill-color);\n",
              "      border-right-color: var(--fill-color);\n",
              "    }\n",
              "    40% {\n",
              "      border-color: transparent;\n",
              "      border-right-color: var(--fill-color);\n",
              "      border-top-color: var(--fill-color);\n",
              "    }\n",
              "    60% {\n",
              "      border-color: transparent;\n",
              "      border-right-color: var(--fill-color);\n",
              "    }\n",
              "    80% {\n",
              "      border-color: transparent;\n",
              "      border-right-color: var(--fill-color);\n",
              "      border-bottom-color: var(--fill-color);\n",
              "    }\n",
              "    90% {\n",
              "      border-color: transparent;\n",
              "      border-bottom-color: var(--fill-color);\n",
              "    }\n",
              "  }\n",
              "</style>\n",
              "\n",
              "      <script>\n",
              "        async function quickchart(key) {\n",
              "          const quickchartButtonEl =\n",
              "            document.querySelector('#' + key + ' button');\n",
              "          quickchartButtonEl.disabled = true;  // To prevent multiple clicks.\n",
              "          quickchartButtonEl.classList.add('colab-df-spinner');\n",
              "          try {\n",
              "            const charts = await google.colab.kernel.invokeFunction(\n",
              "                'suggestCharts', [key], {});\n",
              "          } catch (error) {\n",
              "            console.error('Error during call to suggestCharts:', error);\n",
              "          }\n",
              "          quickchartButtonEl.classList.remove('colab-df-spinner');\n",
              "          quickchartButtonEl.classList.add('colab-df-quickchart-complete');\n",
              "        }\n",
              "        (() => {\n",
              "          let quickchartButtonEl =\n",
              "            document.querySelector('#df-e896f692-22be-48f6-a25e-25a6d3e8752e button');\n",
              "          quickchartButtonEl.style.display =\n",
              "            google.colab.kernel.accessAllowed ? 'block' : 'none';\n",
              "        })();\n",
              "      </script>\n",
              "    </div>\n",
              "\n",
              "    </div>\n",
              "  </div>\n"
            ],
            "application/vnd.google.colaboratory.intrinsic+json": {
              "type": "dataframe",
              "summary": "{\n  \"name\": \"comparison_df[:14]\",\n  \"rows\": 14,\n  \"fields\": [\n    {\n      \"column\": \"\\ub0a0\\uc9dc\",\n      \"properties\": {\n        \"dtype\": \"date\",\n        \"min\": \"2022-05-15 00:00:00\",\n        \"max\": \"2022-05-30 00:00:00\",\n        \"num_unique_values\": 14,\n        \"samples\": [\n          \"2022-05-25 00:00:00\",\n          \"2022-05-27 00:00:00\",\n          \"2022-05-15 00:00:00\"\n        ],\n        \"semantic_type\": \"\",\n        \"description\": \"\"\n      }\n    },\n    {\n      \"column\": \"\\uc2e4\\uc81c\\uac12\",\n      \"properties\": {\n        \"dtype\": \"number\",\n        \"std\": 6.48407554589939,\n        \"min\": 212.8999938964844,\n        \"max\": 229.4499969482422,\n        \"num_unique_values\": 11,\n        \"samples\": [\n          215.8500061035156,\n          212.8999938964844,\n          226.6000061035156\n        ],\n        \"semantic_type\": \"\",\n        \"description\": \"\"\n      }\n    },\n    {\n      \"column\": \"\\uc608\\uce21\\uac12\",\n      \"properties\": {\n        \"dtype\": \"number\",\n        \"std\": 2.9356608596978093,\n        \"min\": 216.38972407171195,\n        \"max\": 225.20174978214845,\n        \"num_unique_values\": 14,\n        \"samples\": [\n          217.56486688000814,\n          216.64384745032658,\n          225.20174978214845\n        ],\n        \"semantic_type\": \"\",\n        \"description\": \"\"\n      }\n    }\n  ]\n}"
            }
          },
          "metadata": {},
          "execution_count": 27
        }
      ]
    },
    {
      "cell_type": "code",
      "source": [
        "from sklearn.metrics import mean_absolute_error, mean_squared_error\n",
        "\n",
        "y_true = comparison_df[\"실제값\"][:14]\n",
        "y_pred = comparison_df[\"예측값\"][:14]\n",
        "\n",
        "# MAE\n",
        "mae = mean_absolute_error(y_true, y_pred)\n",
        "\n",
        "# RMSE 직접 계산\n",
        "rmse = np.sqrt(mean_squared_error(y_true, y_pred))\n",
        "\n",
        "print(f\"MAE: {mae:.4f}\")\n",
        "print(f\"RMSE: {rmse:.4f}\")"
      ],
      "metadata": {
        "colab": {
          "base_uri": "https://localhost:8080/"
        },
        "id": "RIym-1hmLNyG",
        "outputId": "2dc803ed-7e4c-4cf7-f77b-08bf6c546bec"
      },
      "execution_count": 28,
      "outputs": [
        {
          "output_type": "stream",
          "name": "stdout",
          "text": [
            "MAE: 5.5794\n",
            "RMSE: 6.8158\n"
          ]
        }
      ]
    },
    {
      "cell_type": "code",
      "source": [],
      "metadata": {
        "id": "pUxempMC9oUA"
      },
      "execution_count": null,
      "outputs": []
    }
  ]
}