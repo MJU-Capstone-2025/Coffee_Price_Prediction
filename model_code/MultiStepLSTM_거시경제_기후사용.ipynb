{
  "nbformat": 4,
  "nbformat_minor": 0,
  "metadata": {
    "colab": {
      "provenance": []
    },
    "kernelspec": {
      "name": "python3",
      "display_name": "Python 3"
    },
    "language_info": {
      "name": "python"
    }
  },
  "cells": [
    {
      "cell_type": "code",
      "execution_count": null,
      "metadata": {
        "id": "FSFu6kKIHatq"
      },
      "outputs": [],
      "source": [
        "import pandas as pd\n",
        "df = pd.read_csv(\"/content/drive/MyDrive/캡스톤/거시경제및커피가격통합데이터.csv\")"
      ]
    },
    {
      "cell_type": "code",
      "source": [
        "we = pd.read_csv(\"/content/drive/MyDrive/캡스톤/기후데이터피쳐선택.csv\")"
      ],
      "metadata": {
        "id": "aiAN_lsxllVK"
      },
      "execution_count": null,
      "outputs": []
    },
    {
      "cell_type": "code",
      "source": [
        " we.drop(columns=['Coffee_Price'], inplace=True)"
      ],
      "metadata": {
        "id": "jdR0Zy6nl8PF"
      },
      "execution_count": null,
      "outputs": []
    },
    {
      "cell_type": "code",
      "source": [
        "df = pd.merge(df, we, on='Date', how='left')"
      ],
      "metadata": {
        "id": "1OoyAGd1rKWf"
      },
      "execution_count": null,
      "outputs": []
    },
    {
      "cell_type": "code",
      "source": [
        "df = df.dropna()"
      ],
      "metadata": {
        "id": "j1798j-gRJyJ"
      },
      "execution_count": null,
      "outputs": []
    },
    {
      "cell_type": "code",
      "source": [
        "df['Date'] = pd.to_datetime(df['Date'])\n",
        "df.set_index('Date', inplace=True)"
      ],
      "metadata": {
        "id": "CToWyr0jHvZS"
      },
      "execution_count": null,
      "outputs": []
    },
    {
      "cell_type": "code",
      "source": [
        "train_size = int(len(df) * 0.8)\n",
        "train_df, test_df = df.loc[:df.index[train_size-1]], df.loc[df.index[train_size:]]"
      ],
      "metadata": {
        "id": "j08Le6rEHnT7"
      },
      "execution_count": null,
      "outputs": []
    },
    {
      "cell_type": "code",
      "source": [
        "from sklearn.preprocessing import MinMaxScaler\n",
        "\n",
        "scaler_seq = MinMaxScaler()\n",
        "train_df = pd.DataFrame(scaler_seq.fit_transform(train_df),\n",
        "                        columns=train_df.columns,\n",
        "                        index=train_df.index)"
      ],
      "metadata": {
        "id": "ToTIBLzQH4w8"
      },
      "execution_count": null,
      "outputs": []
    },
    {
      "cell_type": "code",
      "source": [
        "## dataset: Input dataset\n",
        "## target: output dataset(target for prediction)\n",
        "## data_window : data window의 크기 입니다 (하나의 데이터 윈도우에 몇 개의 데이터가 들어가는지)\n",
        "## target_size : 예측해야하는 레이블 입니다.\n",
        "import numpy as np\n",
        "import torch\n",
        "from torch.utils.data import Dataset\n",
        "\n",
        "class MultiStepTimeSeriesDataset(Dataset):\n",
        "    def __init__(self, dataset, target, data_window, target_size, step, single_step=False):\n",
        "        self.data, self.labels = [], []\n",
        "\n",
        "        start_index = data_window\n",
        "        end_index = len(dataset) - target_size  # 미래 예측을 고려해 끝점 조정\n",
        "\n",
        "        for i in range(start_index, end_index):\n",
        "            indices = range(i - data_window, i, step)  # X 데이터 생성 (샘플링 적용)\n",
        "            self.data.append(dataset[indices])\n",
        "\n",
        "            if single_step:\n",
        "                self.labels.append(target[i + target_size])  # 단일 값 예측\n",
        "            else:\n",
        "                self.labels.append(target[i:i + target_size])  # 다중 스텝 예측\n",
        "\n",
        "        # 리스트를 PyTorch Tensor로 변환\n",
        "        self.data = torch.tensor(np.array(self.data), dtype=torch.float32)\n",
        "        self.labels = torch.tensor(np.array(self.labels), dtype=torch.float32)\n",
        "\n",
        "    def __len__(self):\n",
        "        return len(self.data)\n",
        "\n",
        "    def __getitem__(self, idx):\n",
        "        return self.data[idx], self.labels[idx]"
      ],
      "metadata": {
        "id": "u6kgFp8xH3Di"
      },
      "execution_count": null,
      "outputs": []
    },
    {
      "cell_type": "code",
      "source": [
        "X_train = train_df.values\n",
        "target_col = \"Coffee_Price\"\n",
        "y_train = train_df[target_col].values"
      ],
      "metadata": {
        "id": "UzcH4RHgIrNR"
      },
      "execution_count": null,
      "outputs": []
    },
    {
      "cell_type": "code",
      "source": [
        "data_window = 100  # 최근 100개 데이터를 입력으로 사용\n",
        "future_target = 14  # 14개 미래 값 예측\n",
        "step = 6  # 6개 단위로 샘플링\n",
        "train_dataset = MultiStepTimeSeriesDataset(X_train, y_train, data_window, future_target, step)"
      ],
      "metadata": {
        "id": "hBpTUaOoTEh-"
      },
      "execution_count": null,
      "outputs": []
    },
    {
      "cell_type": "markdown",
      "source": [
        "LSTM 입력을 위해 3D 배열로 변경"
      ],
      "metadata": {
        "id": "Oj2BhSZpVdFb"
      }
    },
    {
      "cell_type": "code",
      "source": [
        "X_train = train_dataset.data\n",
        "y_train = train_dataset.labels"
      ],
      "metadata": {
        "id": "cUCVu1D4W0MC"
      },
      "execution_count": null,
      "outputs": []
    },
    {
      "cell_type": "code",
      "source": [
        "X_train.shape"
      ],
      "metadata": {
        "colab": {
          "base_uri": "https://localhost:8080/"
        },
        "id": "c1YUy-RfW4fX",
        "outputId": "b6f4cb60-af44-4ad1-ee26-10fd8c5df5b4"
      },
      "execution_count": null,
      "outputs": [
        {
          "output_type": "execute_result",
          "data": {
            "text/plain": [
              "torch.Size([1800, 17, 57])"
            ]
          },
          "metadata": {},
          "execution_count": 38
        }
      ]
    },
    {
      "cell_type": "code",
      "source": [
        "train_loader = torch.utils.data.DataLoader(train_dataset, batch_size=10, shuffle=True)"
      ],
      "metadata": {
        "id": "nMzxL-bpTHev"
      },
      "execution_count": null,
      "outputs": []
    },
    {
      "cell_type": "code",
      "source": [
        "import torch.nn as nn\n",
        "import torch.optim as optim"
      ],
      "metadata": {
        "id": "tXjaWEuWTJ9i"
      },
      "execution_count": null,
      "outputs": []
    },
    {
      "cell_type": "code",
      "source": [
        "import torch\n",
        "import torch.nn as nn\n",
        "\n",
        "class LSTMModel(nn.Module):\n",
        "    def __init__(self, input_size, hidden_size=100, num_layers=2, target_size=14, dropout=0.2):\n",
        "        super(LSTMModel, self).__init__()\n",
        "        self.hidden_size = hidden_size\n",
        "        self.num_layers = num_layers\n",
        "        self.target_size = target_size\n",
        "\n",
        "        # LSTM 계층\n",
        "        self.lstm = nn.LSTM(input_size, hidden_size, num_layers, dropout=dropout, batch_first=True)\n",
        "\n",
        "        # output_dim을 target_size로 설정 (multi-step prediction)\n",
        "        self.fc = nn.Linear(hidden_size, target_size)\n",
        "\n",
        "    def forward(self, x, hidden_states=None):\n",
        "        if hidden_states is None:\n",
        "            batch_size = x.shape[0]\n",
        "            h0 = torch.zeros(self.num_layers, batch_size, self.hidden_size).to(x.device)\n",
        "            c0 = torch.zeros(self.num_layers, batch_size, self.hidden_size).to(x.device)\n",
        "            hidden_states = (h0, c0)\n",
        "\n",
        "        out, hidden_states = self.lstm(x, hidden_states)  # LSTM 실행\n",
        "        out = self.fc(out[:, -1, :])  # 마지막 타임스텝의 은닉 상태를 사용해 14개 예측\n",
        "\n",
        "        return out, hidden_states  # (batch_size, target_size) 형태"
      ],
      "metadata": {
        "id": "DSpFqWWRTk3M"
      },
      "execution_count": null,
      "outputs": []
    },
    {
      "cell_type": "code",
      "source": [
        "device = 'cuda' if torch.cuda.is_available() else 'cpu'\n",
        "\n",
        "input_size = X_train.shape[2]\n",
        "target_size = 14\n",
        "model = LSTMModel(input_size=input_size, target_size=target_size).to(device)\n",
        "\n",
        "# 손실 함수 및 최적화 함수 설정\n",
        "criterion = nn.MSELoss()\n",
        "optimizer = torch.optim.Adam(model.parameters(), lr=0.001, weight_decay=1e-5)"
      ],
      "metadata": {
        "id": "7JRw0dguUXXx"
      },
      "execution_count": null,
      "outputs": []
    },
    {
      "cell_type": "code",
      "source": [
        "num_epochs = 200\n",
        "hidden_states = None  # 한 에폭 내에서 유지\n",
        "\n",
        "for epoch in range(num_epochs):\n",
        "    for batch_idx, (x_batch, y_batch) in enumerate(train_loader):\n",
        "        x_batch, y_batch = x_batch.to(device), y_batch.to(device)\n",
        "        optimizer.zero_grad()\n",
        "\n",
        "        if hidden_states is None or x_batch.shape[0] != hidden_states[0].shape[1]:\n",
        "            hidden_states = (\n",
        "                torch.zeros(model.num_layers, x_batch.shape[0], model.hidden_size).to(device),\n",
        "                torch.zeros(model.num_layers, x_batch.shape[0], model.hidden_size).to(device)\n",
        "            )\n",
        "\n",
        "        hidden_states = tuple(h.detach() for h in hidden_states)\n",
        "\n",
        "        # 모델 예측\n",
        "        y_pred, hidden_states = model(x_batch, hidden_states)\n",
        "\n",
        "        # `y_pred`가 `(batch_size, target_size, 1)`이면 `(batch_size, target_size)`로 변환\n",
        "        if y_pred.shape[-1] == 1:\n",
        "            y_pred = y_pred.squeeze(-1)\n",
        "\n",
        "        # Loss 계산\n",
        "        loss = criterion(y_pred, y_batch)\n",
        "\n",
        "        # Backpropagation\n",
        "        loss.backward()\n",
        "        torch.nn.utils.clip_grad_norm_(model.parameters(), max_norm=5)  # Gradient Clipping\n",
        "        optimizer.step()\n",
        "\n",
        "    print(f\"Epoch [{epoch+1}/{num_epochs}], Loss: {loss.item():.4f}\")"
      ],
      "metadata": {
        "colab": {
          "base_uri": "https://localhost:8080/"
        },
        "collapsed": true,
        "id": "Y7yORF1UU2O5",
        "outputId": "bd66386c-87ae-4b3f-cef9-f067a5456bf3"
      },
      "execution_count": null,
      "outputs": [
        {
          "output_type": "stream",
          "name": "stdout",
          "text": [
            "Epoch [1/200], Loss: 0.0065\n",
            "Epoch [2/200], Loss: 0.0017\n",
            "Epoch [3/200], Loss: 0.0043\n",
            "Epoch [4/200], Loss: 0.0023\n",
            "Epoch [5/200], Loss: 0.0010\n",
            "Epoch [6/200], Loss: 0.0017\n",
            "Epoch [7/200], Loss: 0.0019\n",
            "Epoch [8/200], Loss: 0.0015\n",
            "Epoch [9/200], Loss: 0.0017\n",
            "Epoch [10/200], Loss: 0.0015\n",
            "Epoch [11/200], Loss: 0.0018\n",
            "Epoch [12/200], Loss: 0.0027\n",
            "Epoch [13/200], Loss: 0.0020\n",
            "Epoch [14/200], Loss: 0.0019\n",
            "Epoch [15/200], Loss: 0.0014\n",
            "Epoch [16/200], Loss: 0.0006\n",
            "Epoch [17/200], Loss: 0.0016\n",
            "Epoch [18/200], Loss: 0.0021\n",
            "Epoch [19/200], Loss: 0.0006\n",
            "Epoch [20/200], Loss: 0.0007\n",
            "Epoch [21/200], Loss: 0.0007\n",
            "Epoch [22/200], Loss: 0.0014\n",
            "Epoch [23/200], Loss: 0.0010\n",
            "Epoch [24/200], Loss: 0.0013\n",
            "Epoch [25/200], Loss: 0.0023\n",
            "Epoch [26/200], Loss: 0.0013\n",
            "Epoch [27/200], Loss: 0.0014\n",
            "Epoch [28/200], Loss: 0.0030\n",
            "Epoch [29/200], Loss: 0.0006\n",
            "Epoch [30/200], Loss: 0.0013\n",
            "Epoch [31/200], Loss: 0.0006\n",
            "Epoch [32/200], Loss: 0.0007\n",
            "Epoch [33/200], Loss: 0.0014\n",
            "Epoch [34/200], Loss: 0.0006\n",
            "Epoch [35/200], Loss: 0.0016\n",
            "Epoch [36/200], Loss: 0.0012\n",
            "Epoch [37/200], Loss: 0.0006\n",
            "Epoch [38/200], Loss: 0.0008\n",
            "Epoch [39/200], Loss: 0.0006\n",
            "Epoch [40/200], Loss: 0.0006\n",
            "Epoch [41/200], Loss: 0.0016\n",
            "Epoch [42/200], Loss: 0.0011\n",
            "Epoch [43/200], Loss: 0.0005\n",
            "Epoch [44/200], Loss: 0.0008\n",
            "Epoch [45/200], Loss: 0.0024\n",
            "Epoch [46/200], Loss: 0.0006\n",
            "Epoch [47/200], Loss: 0.0007\n",
            "Epoch [48/200], Loss: 0.0007\n",
            "Epoch [49/200], Loss: 0.0007\n",
            "Epoch [50/200], Loss: 0.0006\n",
            "Epoch [51/200], Loss: 0.0007\n",
            "Epoch [52/200], Loss: 0.0010\n",
            "Epoch [53/200], Loss: 0.0004\n",
            "Epoch [54/200], Loss: 0.0008\n",
            "Epoch [55/200], Loss: 0.0010\n",
            "Epoch [56/200], Loss: 0.0007\n",
            "Epoch [57/200], Loss: 0.0008\n",
            "Epoch [58/200], Loss: 0.0008\n",
            "Epoch [59/200], Loss: 0.0009\n",
            "Epoch [60/200], Loss: 0.0015\n",
            "Epoch [61/200], Loss: 0.0010\n",
            "Epoch [62/200], Loss: 0.0004\n",
            "Epoch [63/200], Loss: 0.0009\n",
            "Epoch [64/200], Loss: 0.0008\n",
            "Epoch [65/200], Loss: 0.0007\n",
            "Epoch [66/200], Loss: 0.0006\n",
            "Epoch [67/200], Loss: 0.0008\n",
            "Epoch [68/200], Loss: 0.0007\n",
            "Epoch [69/200], Loss: 0.0014\n",
            "Epoch [70/200], Loss: 0.0007\n",
            "Epoch [71/200], Loss: 0.0005\n",
            "Epoch [72/200], Loss: 0.0007\n",
            "Epoch [73/200], Loss: 0.0013\n",
            "Epoch [74/200], Loss: 0.0005\n",
            "Epoch [75/200], Loss: 0.0006\n",
            "Epoch [76/200], Loss: 0.0007\n",
            "Epoch [77/200], Loss: 0.0009\n",
            "Epoch [78/200], Loss: 0.0017\n",
            "Epoch [79/200], Loss: 0.0007\n",
            "Epoch [80/200], Loss: 0.0004\n",
            "Epoch [81/200], Loss: 0.0013\n",
            "Epoch [82/200], Loss: 0.0006\n",
            "Epoch [83/200], Loss: 0.0019\n",
            "Epoch [84/200], Loss: 0.0006\n",
            "Epoch [85/200], Loss: 0.0004\n",
            "Epoch [86/200], Loss: 0.0006\n",
            "Epoch [87/200], Loss: 0.0004\n",
            "Epoch [88/200], Loss: 0.0007\n",
            "Epoch [89/200], Loss: 0.0009\n",
            "Epoch [90/200], Loss: 0.0007\n",
            "Epoch [91/200], Loss: 0.0018\n",
            "Epoch [92/200], Loss: 0.0006\n",
            "Epoch [93/200], Loss: 0.0005\n",
            "Epoch [94/200], Loss: 0.0006\n",
            "Epoch [95/200], Loss: 0.0007\n",
            "Epoch [96/200], Loss: 0.0006\n",
            "Epoch [97/200], Loss: 0.0008\n",
            "Epoch [98/200], Loss: 0.0011\n",
            "Epoch [99/200], Loss: 0.0006\n",
            "Epoch [100/200], Loss: 0.0006\n",
            "Epoch [101/200], Loss: 0.0007\n",
            "Epoch [102/200], Loss: 0.0011\n",
            "Epoch [103/200], Loss: 0.0006\n",
            "Epoch [104/200], Loss: 0.0008\n",
            "Epoch [105/200], Loss: 0.0002\n",
            "Epoch [106/200], Loss: 0.0009\n",
            "Epoch [107/200], Loss: 0.0008\n",
            "Epoch [108/200], Loss: 0.0006\n",
            "Epoch [109/200], Loss: 0.0006\n",
            "Epoch [110/200], Loss: 0.0007\n",
            "Epoch [111/200], Loss: 0.0005\n",
            "Epoch [112/200], Loss: 0.0009\n",
            "Epoch [113/200], Loss: 0.0005\n",
            "Epoch [114/200], Loss: 0.0008\n",
            "Epoch [115/200], Loss: 0.0006\n",
            "Epoch [116/200], Loss: 0.0014\n",
            "Epoch [117/200], Loss: 0.0007\n",
            "Epoch [118/200], Loss: 0.0008\n",
            "Epoch [119/200], Loss: 0.0008\n",
            "Epoch [120/200], Loss: 0.0004\n",
            "Epoch [121/200], Loss: 0.0007\n",
            "Epoch [122/200], Loss: 0.0006\n",
            "Epoch [123/200], Loss: 0.0006\n",
            "Epoch [124/200], Loss: 0.0006\n",
            "Epoch [125/200], Loss: 0.0005\n",
            "Epoch [126/200], Loss: 0.0006\n",
            "Epoch [127/200], Loss: 0.0010\n",
            "Epoch [128/200], Loss: 0.0015\n",
            "Epoch [129/200], Loss: 0.0006\n",
            "Epoch [130/200], Loss: 0.0003\n",
            "Epoch [131/200], Loss: 0.0007\n",
            "Epoch [132/200], Loss: 0.0007\n",
            "Epoch [133/200], Loss: 0.0006\n",
            "Epoch [134/200], Loss: 0.0006\n",
            "Epoch [135/200], Loss: 0.0004\n",
            "Epoch [136/200], Loss: 0.0020\n",
            "Epoch [137/200], Loss: 0.0020\n",
            "Epoch [138/200], Loss: 0.0006\n",
            "Epoch [139/200], Loss: 0.0006\n",
            "Epoch [140/200], Loss: 0.0009\n",
            "Epoch [141/200], Loss: 0.0011\n",
            "Epoch [142/200], Loss: 0.0004\n",
            "Epoch [143/200], Loss: 0.0006\n",
            "Epoch [144/200], Loss: 0.0004\n",
            "Epoch [145/200], Loss: 0.0004\n",
            "Epoch [146/200], Loss: 0.0007\n",
            "Epoch [147/200], Loss: 0.0004\n",
            "Epoch [148/200], Loss: 0.0009\n",
            "Epoch [149/200], Loss: 0.0008\n",
            "Epoch [150/200], Loss: 0.0006\n",
            "Epoch [151/200], Loss: 0.0006\n",
            "Epoch [152/200], Loss: 0.0009\n",
            "Epoch [153/200], Loss: 0.0004\n",
            "Epoch [154/200], Loss: 0.0005\n",
            "Epoch [155/200], Loss: 0.0006\n",
            "Epoch [156/200], Loss: 0.0006\n",
            "Epoch [157/200], Loss: 0.0006\n",
            "Epoch [158/200], Loss: 0.0003\n",
            "Epoch [159/200], Loss: 0.0004\n",
            "Epoch [160/200], Loss: 0.0005\n",
            "Epoch [161/200], Loss: 0.0009\n",
            "Epoch [162/200], Loss: 0.0007\n",
            "Epoch [163/200], Loss: 0.0005\n",
            "Epoch [164/200], Loss: 0.0010\n",
            "Epoch [165/200], Loss: 0.0006\n",
            "Epoch [166/200], Loss: 0.0004\n",
            "Epoch [167/200], Loss: 0.0006\n",
            "Epoch [168/200], Loss: 0.0005\n",
            "Epoch [169/200], Loss: 0.0005\n",
            "Epoch [170/200], Loss: 0.0005\n",
            "Epoch [171/200], Loss: 0.0008\n",
            "Epoch [172/200], Loss: 0.0012\n",
            "Epoch [173/200], Loss: 0.0004\n",
            "Epoch [174/200], Loss: 0.0004\n",
            "Epoch [175/200], Loss: 0.0004\n",
            "Epoch [176/200], Loss: 0.0004\n",
            "Epoch [177/200], Loss: 0.0008\n",
            "Epoch [178/200], Loss: 0.0011\n",
            "Epoch [179/200], Loss: 0.0006\n",
            "Epoch [180/200], Loss: 0.0005\n",
            "Epoch [181/200], Loss: 0.0005\n",
            "Epoch [182/200], Loss: 0.0005\n",
            "Epoch [183/200], Loss: 0.0010\n",
            "Epoch [184/200], Loss: 0.0008\n",
            "Epoch [185/200], Loss: 0.0006\n",
            "Epoch [186/200], Loss: 0.0007\n",
            "Epoch [187/200], Loss: 0.0002\n",
            "Epoch [188/200], Loss: 0.0006\n",
            "Epoch [189/200], Loss: 0.0004\n",
            "Epoch [190/200], Loss: 0.0009\n",
            "Epoch [191/200], Loss: 0.0009\n",
            "Epoch [192/200], Loss: 0.0005\n",
            "Epoch [193/200], Loss: 0.0003\n",
            "Epoch [194/200], Loss: 0.0014\n",
            "Epoch [195/200], Loss: 0.0004\n",
            "Epoch [196/200], Loss: 0.0004\n",
            "Epoch [197/200], Loss: 0.0006\n",
            "Epoch [198/200], Loss: 0.0005\n",
            "Epoch [199/200], Loss: 0.0007\n",
            "Epoch [200/200], Loss: 0.0011\n"
          ]
        }
      ]
    },
    {
      "cell_type": "markdown",
      "source": [
        "예측 실행"
      ],
      "metadata": {
        "id": "vO0LrluscpI0"
      }
    },
    {
      "cell_type": "code",
      "source": [
        "# 1. train_df 마지막 날짜의 위치를 df 전체에서 찾음\n",
        "last_train_idx = df.index.get_loc(train_df.index[-1])\n",
        "\n",
        "# 2. 그 다음 14일치 날짜를 df에서 추출\n",
        "prediction_dates = df.index[last_train_idx + 1 : last_train_idx + 1 + 14]\n",
        "\n",
        "# 3. 실제값 가져오기\n",
        "true_values = df.loc[prediction_dates, 'Coffee_Price'].values"
      ],
      "metadata": {
        "id": "grzIoklBcWHe"
      },
      "execution_count": null,
      "outputs": []
    },
    {
      "cell_type": "code",
      "source": [
        "true_values"
      ],
      "metadata": {
        "colab": {
          "base_uri": "https://localhost:8080/"
        },
        "id": "-BmD5O1GMcZn",
        "outputId": "fe9ce3c5-39a1-493f-b27c-1353008cf380"
      },
      "execution_count": null,
      "outputs": [
        {
          "output_type": "execute_result",
          "data": {
            "text/plain": [
              "array([212.8999939 , 225.80000305, 228.19999695, 218.6000061 ,\n",
              "       218.69999695, 215.8500061 , 215.8500061 , 215.75      ,\n",
              "       213.6499939 , 217.05000305, 226.6000061 , 229.44999695,\n",
              "       229.44999695, 229.44999695])"
            ]
          },
          "metadata": {},
          "execution_count": 20
        }
      ]
    },
    {
      "cell_type": "code",
      "source": [
        "# 마지막 시퀀스 예측\n",
        "last_seq = X_train[-1].unsqueeze(0).to(device)\n",
        "model.eval()\n",
        "with torch.no_grad():\n",
        "    prediction, _ = model(last_seq)\n",
        "\n",
        "# CPU로 이동 후 numpy 변환\n",
        "prediction = prediction.squeeze().cpu().numpy().reshape(-1, 1)\n",
        "\n",
        "# 역변환을 위해 dummy 피처 생성\n",
        "dummy = np.zeros((14, train_df.shape[1] - 1))  # Coffee_Price 제외 나머지\n",
        "prediction_combined = np.concatenate([prediction, dummy], axis=1)\n",
        "\n",
        "# Coffee_Price가 첫 번째 컬럼이라면 그대로 [:, 0]\n",
        "# (다른 위치일 경우 target_index로 변경 가능)\n",
        "prediction = scaler_seq.inverse_transform(prediction_combined)[:, 0]\n",
        "\n",
        "# 결과 확인\n",
        "prediction"
      ],
      "metadata": {
        "colab": {
          "base_uri": "https://localhost:8080/"
        },
        "id": "XAU-c9ueA1Sz",
        "outputId": "67cbc4f6-e0c9-4555-f882-42d52f21594d"
      },
      "execution_count": null,
      "outputs": [
        {
          "output_type": "execute_result",
          "data": {
            "text/plain": [
              "array([217.55922788, 217.63568698, 217.96053834, 217.59315398,\n",
              "       217.41084341, 215.84282305, 214.75104737, 215.16123081,\n",
              "       216.87581396, 218.17336706, 218.41979438, 217.74118026,\n",
              "       218.1557132 , 220.08579618])"
            ]
          },
          "metadata": {},
          "execution_count": 21
        }
      ]
    },
    {
      "cell_type": "code",
      "source": [
        "import matplotlib.pyplot as plt\n",
        "import pandas as pd\n",
        "\n",
        "# 1. train_df 마지막 날짜의 위치를 df 전체에서 찾음\n",
        "last_train_idx = df.index.get_loc(train_df.index[-1])\n",
        "\n",
        "# 2. 그 다음 14일치 날짜를 df에서 추출\n",
        "prediction_dates = df.index[last_train_idx + 1 : last_train_idx + 1 + 14]\n",
        "\n",
        "# 3. 실제값 가져오기\n",
        "true_values = df.loc[prediction_dates, 'Coffee_Price'].values\n",
        "\n",
        "# 예측값 (이미 있는 prediction 변수 활용)\n",
        "forecast_series = pd.Series(prediction, index=prediction_dates)\n",
        "\n",
        "# 전체 시계열과 예측 결과를 함께 그리기\n",
        "plt.figure(figsize=(14, 6))\n",
        "plt.plot(df[target_col], label='Actual Coffee Price', color='blue')\n",
        "plt.plot(prediction_dates, forecast_series, label='Predicted Coffee Price', color='red', linestyle='dashed')\n",
        "\n",
        "plt.title('Coffee Price Prediction')\n",
        "plt.xlabel(\"Date\")\n",
        "plt.ylabel(\"Coffee Price\")\n",
        "plt.xlim(pd.to_datetime('2021-11-01'), pd.to_datetime('2023-02-01'))\n",
        "plt.legend()\n",
        "plt.grid(True)\n",
        "plt.tight_layout()\n",
        "plt.show()"
      ],
      "metadata": {
        "colab": {
          "base_uri": "https://localhost:8080/",
          "height": 562
        },
        "id": "hHaB7ieWbu1M",
        "outputId": "cec011f8-df9a-4d7b-b95a-55cdee8c7676"
      },
      "execution_count": null,
      "outputs": [
        {
          "output_type": "display_data",
          "data": {
            "text/plain": [
              "<Figure size 1400x600 with 1 Axes>"
            ],
            "image/png": "[encoded data removed]"
          },
          "metadata": {}
        }
      ]
    },
    {
      "cell_type": "code",
      "source": [
        "comparison_df = pd.DataFrame({\n",
        "    \"날짜\": forecast_series.index,\n",
        "    \"실제값\": df.loc[forecast_series.index, \"Coffee_Price\"].values,\n",
        "    \"예측값\": forecast_series.values\n",
        "})"
      ],
      "metadata": {
        "id": "GLiMXeOjcaUI"
      },
      "execution_count": null,
      "outputs": []
    },
    {
      "cell_type": "code",
      "source": [
        "comparison_df[:14]"
      ],
      "metadata": {
        "colab": {
          "base_uri": "https://localhost:8080/",
          "height": 488
        },
        "id": "r-ecnJTmK2JI",
        "outputId": "a251f029-c0dc-43db-c07b-ba18245ea4f8",
        "collapsed": true
      },
      "execution_count": null,
      "outputs": [
        {
          "output_type": "execute_result",
          "data": {
            "text/plain": [
              "           날짜         실제값         예측값\n",
              "0  2022-05-15  212.899994  217.559228\n",
              "1  2022-05-16  225.800003  217.635687\n",
              "2  2022-05-17  228.199997  217.960538\n",
              "3  2022-05-18  218.600006  217.593154\n",
              "4  2022-05-19  218.699997  217.410843\n",
              "5  2022-05-20  215.850006  215.842823\n",
              "6  2022-05-22  215.850006  214.751047\n",
              "7  2022-05-23  215.750000  215.161231\n",
              "8  2022-05-24  213.649994  216.875814\n",
              "9  2022-05-25  217.050003  218.173367\n",
              "10 2022-05-26  226.600006  218.419794\n",
              "11 2022-05-27  229.449997  217.741180\n",
              "12 2022-05-29  229.449997  218.155713\n",
              "13 2022-05-30  229.449997  220.085796"
            ],
            "text/html": [
              "\n",
              "  <div id=\"df-e54db3b2-0962-4a50-9adf-a63631f1cf33\" class=\"colab-df-container\">\n",
              "    <div>\n",
              "<style scoped>\n",
              "    .dataframe tbody tr th:only-of-type {\n",
              "        vertical-align: middle;\n",
              "    }\n",
              "\n",
              "    .dataframe tbody tr th {\n",
              "        vertical-align: top;\n",
              "    }\n",
              "\n",
              "    .dataframe thead th {\n",
              "        text-align: right;\n",
              "    }\n",
              "</style>\n",
              "<table border=\"1\" class=\"dataframe\">\n",
              "  <thead>\n",
              "    <tr style=\"text-align: right;\">\n",
              "      <th></th>\n",
              "      <th>날짜</th>\n",
              "      <th>실제값</th>\n",
              "      <th>예측값</th>\n",
              "    </tr>\n",
              "  </thead>\n",
              "  <tbody>\n",
              "    <tr>\n",
              "      <th>0</th>\n",
              "      <td>2022-05-15</td>\n",
              "      <td>212.899994</td>\n",
              "      <td>217.559228</td>\n",
              "    </tr>\n",
              "    <tr>\n",
              "      <th>1</th>\n",
              "      <td>2022-05-16</td>\n",
              "      <td>225.800003</td>\n",
              "      <td>217.635687</td>\n",
              "    </tr>\n",
              "    <tr>\n",
              "      <th>2</th>\n",
              "      <td>2022-05-17</td>\n",
              "      <td>228.199997</td>\n",
              "      <td>217.960538</td>\n",
              "    </tr>\n",
              "    <tr>\n",
              "      <th>3</th>\n",
              "      <td>2022-05-18</td>\n",
              "      <td>218.600006</td>\n",
              "      <td>217.593154</td>\n",
              "    </tr>\n",
              "    <tr>\n",
              "      <th>4</th>\n",
              "      <td>2022-05-19</td>\n",
              "      <td>218.699997</td>\n",
              "      <td>217.410843</td>\n",
              "    </tr>\n",
              "    <tr>\n",
              "      <th>5</th>\n",
              "      <td>2022-05-20</td>\n",
              "      <td>215.850006</td>\n",
              "      <td>215.842823</td>\n",
              "    </tr>\n",
              "    <tr>\n",
              "      <th>6</th>\n",
              "      <td>2022-05-22</td>\n",
              "      <td>215.850006</td>\n",
              "      <td>214.751047</td>\n",
              "    </tr>\n",
              "    <tr>\n",
              "      <th>7</th>\n",
              "      <td>2022-05-23</td>\n",
              "      <td>215.750000</td>\n",
              "      <td>215.161231</td>\n",
              "    </tr>\n",
              "    <tr>\n",
              "      <th>8</th>\n",
              "      <td>2022-05-24</td>\n",
              "      <td>213.649994</td>\n",
              "      <td>216.875814</td>\n",
              "    </tr>\n",
              "    <tr>\n",
              "      <th>9</th>\n",
              "      <td>2022-05-25</td>\n",
              "      <td>217.050003</td>\n",
              "      <td>218.173367</td>\n",
              "    </tr>\n",
              "    <tr>\n",
              "      <th>10</th>\n",
              "      <td>2022-05-26</td>\n",
              "      <td>226.600006</td>\n",
              "      <td>218.419794</td>\n",
              "    </tr>\n",
              "    <tr>\n",
              "      <th>11</th>\n",
              "      <td>2022-05-27</td>\n",
              "      <td>229.449997</td>\n",
              "      <td>217.741180</td>\n",
              "    </tr>\n",
              "    <tr>\n",
              "      <th>12</th>\n",
              "      <td>2022-05-29</td>\n",
              "      <td>229.449997</td>\n",
              "      <td>218.155713</td>\n",
              "    </tr>\n",
              "    <tr>\n",
              "      <th>13</th>\n",
              "      <td>2022-05-30</td>\n",
              "      <td>229.449997</td>\n",
              "      <td>220.085796</td>\n",
              "    </tr>\n",
              "  </tbody>\n",
              "</table>\n",
              "</div>\n",
              "    <div class=\"colab-df-buttons\">\n",
              "\n",
              "  <div class=\"colab-df-container\">\n",
              "    <button class=\"colab-df-convert\" onclick=\"convertToInteractive('df-e54db3b2-0962-4a50-9adf-a63631f1cf33')\"\n",
              "            title=\"Convert this dataframe to an interactive table.\"\n",
              "            style=\"display:none;\">\n",
              "\n",
              "  <svg xmlns=\"http://www.w3.org/2000/svg\" height=\"24px\" viewBox=\"0 -960 960 960\">\n",
              "    <path d=\"M120-120v-720h720v720H120Zm60-500h600v-160H180v160Zm220 220h160v-160H400v160Zm0 220h160v-160H400v160ZM180-400h160v-160H180v160Zm440 0h160v-160H620v160ZM180-180h160v-160H180v160Zm440 0h160v-160H620v160Z\"/>\n",
              "  </svg>\n",
              "    </button>\n",
              "\n",
              "  <style>\n",
              "    .colab-df-container {\n",
              "      display:flex;\n",
              "      gap: 12px;\n",
              "    }\n",
              "\n",
              "    .colab-df-convert {\n",
              "      background-color: #E8F0FE;\n",
              "      border: none;\n",
              "      border-radius: 50%;\n",
              "      cursor: pointer;\n",
              "      display: none;\n",
              "      fill: #1967D2;\n",
              "      height: 32px;\n",
              "      padding: 0 0 0 0;\n",
              "      width: 32px;\n",
              "    }\n",
              "\n",
              "    .colab-df-convert:hover {\n",
              "      background-color: #E2EBFA;\n",
              "      box-shadow: 0px 1px 2px rgba(60, 64, 67, 0.3), 0px 1px 3px 1px rgba(60, 64, 67, 0.15);\n",
              "      fill: #174EA6;\n",
              "    }\n",
              "\n",
              "    .colab-df-buttons div {\n",
              "      margin-bottom: 4px;\n",
              "    }\n",
              "\n",
              "    [theme=dark] .colab-df-convert {\n",
              "      background-color: #3B4455;\n",
              "      fill: #D2E3FC;\n",
              "    }\n",
              "\n",
              "    [theme=dark] .colab-df-convert:hover {\n",
              "      background-color: #434B5C;\n",
              "      box-shadow: 0px 1px 3px 1px rgba(0, 0, 0, 0.15);\n",
              "      filter: drop-shadow(0px 1px 2px rgba(0, 0, 0, 0.3));\n",
              "      fill: #FFFFFF;\n",
              "    }\n",
              "  </style>\n",
              "\n",
              "    <script>\n",
              "      const buttonEl =\n",
              "        document.querySelector('#df-e54db3b2-0962-4a50-9adf-a63631f1cf33 button.colab-df-convert');\n",
              "      buttonEl.style.display =\n",
              "        google.colab.kernel.accessAllowed ? 'block' : 'none';\n",
              "\n",
              "      async function convertToInteractive(key) {\n",
              "        const element = document.querySelector('#df-e54db3b2-0962-4a50-9adf-a63631f1cf33');\n",
              "        const dataTable =\n",
              "          await google.colab.kernel.invokeFunction('convertToInteractive',\n",
              "                                                    [key], {});\n",
              "        if (!dataTable) return;\n",
              "\n",
              "        const docLinkHtml = 'Like what you see? Visit the ' +\n",
              "          '<a target=\"_blank\" href=https://colab.research.google.com/notebooks/data_table.ipynb>data table notebook</a>'\n",
              "          + ' to learn more about interactive tables.';\n",
              "        element.innerHTML = '';\n",
              "        dataTable['output_type'] = 'display_data';\n",
              "        await google.colab.output.renderOutput(dataTable, element);\n",
              "        const docLink = document.createElement('div');\n",
              "        docLink.innerHTML = docLinkHtml;\n",
              "        element.appendChild(docLink);\n",
              "      }\n",
              "    </script>\n",
              "  </div>\n",
              "\n",
              "\n",
              "    <div id=\"df-bc059032-1292-48e8-9610-9ecc8c4daa05\">\n",
              "      <button class=\"colab-df-quickchart\" onclick=\"quickchart('df-bc059032-1292-48e8-9610-9ecc8c4daa05')\"\n",
              "                title=\"Suggest charts\"\n",
              "                style=\"display:none;\">\n",
              "\n",
              "<svg xmlns=\"http://www.w3.org/2000/svg\" height=\"24px\"viewBox=\"0 0 24 24\"\n",
              "     width=\"24px\">\n",
              "    <g>\n",
              "        <path d=\"M19 3H5c-1.1 0-2 .9-2 2v14c0 1.1.9 2 2 2h14c1.1 0 2-.9 2-2V5c0-1.1-.9-2-2-2zM9 17H7v-7h2v7zm4 0h-2V7h2v10zm4 0h-2v-4h2v4z\"/>\n",
              "    </g>\n",
              "</svg>\n",
              "      </button>\n",
              "\n",
              "<style>\n",
              "  .colab-df-quickchart {\n",
              "      --bg-color: #E8F0FE;\n",
              "      --fill-color: #1967D2;\n",
              "      --hover-bg-color: #E2EBFA;\n",
              "      --hover-fill-color: #174EA6;\n",
              "      --disabled-fill-color: #AAA;\n",
              "      --disabled-bg-color: #DDD;\n",
              "  }\n",
              "\n",
              "  [theme=dark] .colab-df-quickchart {\n",
              "      --bg-color: #3B4455;\n",
              "      --fill-color: #D2E3FC;\n",
              "      --hover-bg-color: #434B5C;\n",
              "      --hover-fill-color: #FFFFFF;\n",
              "      --disabled-bg-color: #3B4455;\n",
              "      --disabled-fill-color: #666;\n",
              "  }\n",
              "\n",
              "  .colab-df-quickchart {\n",
              "    background-color: var(--bg-color);\n",
              "    border: none;\n",
              "    border-radius: 50%;\n",
              "    cursor: pointer;\n",
              "    display: none;\n",
              "    fill: var(--fill-color);\n",
              "    height: 32px;\n",
              "    padding: 0;\n",
              "    width: 32px;\n",
              "  }\n",
              "\n",
              "  .colab-df-quickchart:hover {\n",
              "    background-color: var(--hover-bg-color);\n",
              "    box-shadow: 0 1px 2px rgba(60, 64, 67, 0.3), 0 1px 3px 1px rgba(60, 64, 67, 0.15);\n",
              "    fill: var(--button-hover-fill-color);\n",
              "  }\n",
              "\n",
              "  .colab-df-quickchart-complete:disabled,\n",
              "  .colab-df-quickchart-complete:disabled:hover {\n",
              "    background-color: var(--disabled-bg-color);\n",
              "    fill: var(--disabled-fill-color);\n",
              "    box-shadow: none;\n",
              "  }\n",
              "\n",
              "  .colab-df-spinner {\n",
              "    border: 2px solid var(--fill-color);\n",
              "    border-color: transparent;\n",
              "    border-bottom-color: var(--fill-color);\n",
              "    animation:\n",
              "      spin 1s steps(1) infinite;\n",
              "  }\n",
              "\n",
              "  @keyframes spin {\n",
              "    0% {\n",
              "      border-color: transparent;\n",
              "      border-bottom-color: var(--fill-color);\n",
              "      border-left-color: var(--fill-color);\n",
              "    }\n",
              "    20% {\n",
              "      border-color: transparent;\n",
              "      border-left-color: var(--fill-color);\n",
              "      border-top-color: var(--fill-color);\n",
              "    }\n",
              "    30% {\n",
              "      border-color: transparent;\n",
              "      border-left-color: var(--fill-color);\n",
              "      border-top-color: var(--fill-color);\n",
              "      border-right-color: var(--fill-color);\n",
              "    }\n",
              "    40% {\n",
              "      border-color: transparent;\n",
              "      border-right-color: var(--fill-color);\n",
              "      border-top-color: var(--fill-color);\n",
              "    }\n",
              "    60% {\n",
              "      border-color: transparent;\n",
              "      border-right-color: var(--fill-color);\n",
              "    }\n",
              "    80% {\n",
              "      border-color: transparent;\n",
              "      border-right-color: var(--fill-color);\n",
              "      border-bottom-color: var(--fill-color);\n",
              "    }\n",
              "    90% {\n",
              "      border-color: transparent;\n",
              "      border-bottom-color: var(--fill-color);\n",
              "    }\n",
              "  }\n",
              "</style>\n",
              "\n",
              "      <script>\n",
              "        async function quickchart(key) {\n",
              "          const quickchartButtonEl =\n",
              "            document.querySelector('#' + key + ' button');\n",
              "          quickchartButtonEl.disabled = true;  // To prevent multiple clicks.\n",
              "          quickchartButtonEl.classList.add('colab-df-spinner');\n",
              "          try {\n",
              "            const charts = await google.colab.kernel.invokeFunction(\n",
              "                'suggestCharts', [key], {});\n",
              "          } catch (error) {\n",
              "            console.error('Error during call to suggestCharts:', error);\n",
              "          }\n",
              "          quickchartButtonEl.classList.remove('colab-df-spinner');\n",
              "          quickchartButtonEl.classList.add('colab-df-quickchart-complete');\n",
              "        }\n",
              "        (() => {\n",
              "          let quickchartButtonEl =\n",
              "            document.querySelector('#df-bc059032-1292-48e8-9610-9ecc8c4daa05 button');\n",
              "          quickchartButtonEl.style.display =\n",
              "            google.colab.kernel.accessAllowed ? 'block' : 'none';\n",
              "        })();\n",
              "      </script>\n",
              "    </div>\n",
              "\n",
              "    </div>\n",
              "  </div>\n"
            ],
            "application/vnd.google.colaboratory.intrinsic+json": {
              "type": "dataframe",
              "summary": "{\n  \"name\": \"comparison_df[:14]\",\n  \"rows\": 14,\n  \"fields\": [\n    {\n      \"column\": \"\\ub0a0\\uc9dc\",\n      \"properties\": {\n        \"dtype\": \"date\",\n        \"min\": \"2022-05-15 00:00:00\",\n        \"max\": \"2022-05-30 00:00:00\",\n        \"num_unique_values\": 14,\n        \"samples\": [\n          \"2022-05-25 00:00:00\",\n          \"2022-05-27 00:00:00\",\n          \"2022-05-15 00:00:00\"\n        ],\n        \"semantic_type\": \"\",\n        \"description\": \"\"\n      }\n    },\n    {\n      \"column\": \"\\uc2e4\\uc81c\\uac12\",\n      \"properties\": {\n        \"dtype\": \"number\",\n        \"std\": 6.48407554589939,\n        \"min\": 212.8999938964844,\n        \"max\": 229.4499969482422,\n        \"num_unique_values\": 11,\n        \"samples\": [\n          215.8500061035156,\n          212.8999938964844,\n          226.6000061035156\n        ],\n        \"semantic_type\": \"\",\n        \"description\": \"\"\n      }\n    },\n    {\n      \"column\": \"\\uc608\\uce21\\uac12\",\n      \"properties\": {\n        \"dtype\": \"number\",\n        \"std\": 1.3783022034405774,\n        \"min\": 214.75104736677076,\n        \"max\": 220.0857961764773,\n        \"num_unique_values\": 14,\n        \"samples\": [\n          218.17336705501793,\n          217.74118026113547,\n          217.55922788111093\n        ],\n        \"semantic_type\": \"\",\n        \"description\": \"\"\n      }\n    }\n  ]\n}"
            }
          },
          "metadata": {},
          "execution_count": 24
        }
      ]
    },
    {
      "cell_type": "code",
      "source": [
        "from sklearn.metrics import mean_absolute_error, mean_squared_error\n",
        "\n",
        "y_true = comparison_df[\"실제값\"][:14]\n",
        "y_pred = comparison_df[\"예측값\"][:14]\n",
        "\n",
        "# MAE\n",
        "mae = mean_absolute_error(y_true, y_pred)\n",
        "\n",
        "# RMSE 직접 계산\n",
        "rmse = np.sqrt(mean_squared_error(y_true, y_pred))\n",
        "\n",
        "print(f\"MAE: {mae:.4f}\")\n",
        "print(f\"RMSE: {rmse:.4f}\")"
      ],
      "metadata": {
        "colab": {
          "base_uri": "https://localhost:8080/"
        },
        "id": "RIym-1hmLNyG",
        "outputId": "bffb5b8a-9c6f-4ff7-aabd-bbca761a31e1"
      },
      "execution_count": null,
      "outputs": [
        {
          "output_type": "stream",
          "name": "stdout",
          "text": [
            "MAE: 5.1393\n",
            "RMSE: 6.6995\n"
          ]
        }
      ]
    },
    {
      "cell_type": "code",
      "source": [],
      "metadata": {
        "id": "mHila5gbt07j"
      },
      "execution_count": null,
      "outputs": []
    }
  ]
}