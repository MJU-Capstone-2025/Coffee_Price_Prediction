{
  "nbformat": 4,
  "nbformat_minor": 0,
  "metadata": {
    "colab": {
      "provenance": [],
      "gpuType": "T4"
    },
    "kernelspec": {
      "name": "python3",
      "display_name": "Python 3"
    },
    "language_info": {
      "name": "python"
    },
    "accelerator": "GPU"
  },
  "cells": [
    {
      "cell_type": "code",
      "execution_count": null,
      "metadata": {
        "id": "FSFu6kKIHatq"
      },
      "outputs": [],
      "source": [
        "import pandas as pd\n",
        "df = pd.read_csv(\"/content/drive/MyDrive/캡스톤/거시경제및커피가격통합데이터.csv\")"
      ]
    },
    {
      "cell_type": "code",
      "source": [
        "import numpy as np"
      ],
      "metadata": {
        "id": "G8D7Km4d-Ske"
      },
      "execution_count": null,
      "outputs": []
    },
    {
      "cell_type": "code",
      "source": [
        "df['abs_return'] = df['Coffee_Price_Return'].abs()\n",
        "df[\"log_return\"] = np.log(df[\"Coffee_Price\"]) - np.log(df[\"Coffee_Price\"].shift(1))\n",
        "df[\"target_volatility_14d\"] = df[\"log_return\"].rolling(window=14).std().shift(-13)\n",
        "# 5일, 10일 변동성 (rolling std)\n",
        "df['volatility_5d'] = df['Coffee_Price_Return'].rolling(window=5).std()\n",
        "df['volatility_10d'] = df['Coffee_Price_Return'].rolling(window=10).std()\n",
        "\n",
        "# 5일 평균 수익률\n",
        "df['momentum_5d'] = df['Coffee_Price'] - df['Coffee_Price'].shift(5)\n",
        "\n",
        "# Bollinger Band Width (상대 변동성)\n",
        "rolling_mean = df['Coffee_Price'].rolling(window=20).mean()\n",
        "rolling_std = df['Coffee_Price'].rolling(window=20).std()\n",
        "df['bollinger_width'] = (2 * rolling_std) / rolling_mean\n",
        "\n",
        "# Return Z-score (비정상 변동 탐지)\n",
        "df['return_zscore'] = (df['Coffee_Price_Return'] - df['Coffee_Price_Return'].rolling(20).mean()) / \\\n",
        "                       (df['Coffee_Price_Return'].rolling(20).std() + 1e-6)\n",
        "\n",
        "df['momentum_1d'] = df['Coffee_Price'].diff(1)\n",
        "df['momentum_3d'] = df['Coffee_Price'].diff(3)\n",
        "df['volatility_ratio'] = df['volatility_5d'] / df['volatility_10d']"
      ],
      "metadata": {
        "id": "5qunB2ujEWIl"
      },
      "execution_count": null,
      "outputs": []
    },
    {
      "cell_type": "code",
      "source": [
        "df[\"recent_spike\"] = (df[\"log_return\"].rolling(3).max() - df[\"log_return\"].rolling(3).min()).shift(1)\n",
        "df[\"high_low_range_5d\"] = (df[\"Coffee_Price\"].rolling(5).max() - df[\"Coffee_Price\"].rolling(5).min()) / df[\"Coffee_Price\"].rolling(5).mean()\n",
        "df[\"true_range\"] = df[\"Coffee_Price\"].diff().abs()\n",
        "df[\"atr_5d\"] = df[\"true_range\"].rolling(window=5).mean()"
      ],
      "metadata": {
        "id": "-kYtLKywazUv"
      },
      "execution_count": null,
      "outputs": []
    },
    {
      "cell_type": "code",
      "source": [
        "we = pd.read_csv(\"/content/drive/MyDrive/캡스톤/비수확기평균커피가격통합데이터.csv\")"
      ],
      "metadata": {
        "id": "aiAN_lsxllVK"
      },
      "execution_count": null,
      "outputs": []
    },
    {
      "cell_type": "code",
      "source": [
        "we.drop(columns=['Coffee_Price', 'Coffee_Price_Return','Crude_Oil_Price','USD_KRW','USD_BRL','USD_COP'], inplace=True)"
      ],
      "metadata": {
        "id": "jdR0Zy6nl8PF"
      },
      "execution_count": null,
      "outputs": []
    },
    {
      "cell_type": "code",
      "source": [
        "df = pd.merge(df, we, on='Date', how='left')"
      ],
      "metadata": {
        "id": "1OoyAGd1rKWf"
      },
      "execution_count": null,
      "outputs": []
    },
    {
      "cell_type": "code",
      "source": [
        "df = df.dropna()"
      ],
      "metadata": {
        "id": "j1798j-gRJyJ"
      },
      "execution_count": null,
      "outputs": []
    },
    {
      "cell_type": "code",
      "source": [
        "df['Date'] = pd.to_datetime(df['Date'])\n",
        "df.set_index('Date', inplace=True)"
      ],
      "metadata": {
        "id": "CToWyr0jHvZS"
      },
      "execution_count": null,
      "outputs": []
    },
    {
      "cell_type": "code",
      "source": [
        "n = len(df)\n",
        "train_size = int(n * 0.9)\n",
        "\n",
        "train_df = df.iloc[:train_size]\n",
        "test_df = df.iloc[train_size:]"
      ],
      "metadata": {
        "id": "j08Le6rEHnT7"
      },
      "execution_count": null,
      "outputs": []
    },
    {
      "cell_type": "code",
      "source": [
        "from sklearn.preprocessing import MinMaxScaler\n",
        "\n",
        "return_train = train_df[\"Coffee_Price_Return\"].copy()\n",
        "return_test = test_df[\"Coffee_Price_Return\"].copy()\n",
        "\n",
        "\n",
        "log_return_train = train_df[\"log_return\"].copy()\n",
        "log_return_test = test_df[\"log_return\"].copy()\n",
        "\n",
        "# target_train = train_df[\"target_volatility_14d\"].copy()\n",
        "# target_test = test_df[\"target_volatility_14d\"].copy()\n",
        "\n",
        "scaler_seq = MinMaxScaler()\n",
        "train_df = pd.DataFrame(scaler_seq.fit_transform(train_df),\n",
        "                        columns=train_df.columns,\n",
        "                        index=train_df.index)\n",
        "\n",
        "test_df = pd.DataFrame(scaler_seq.transform(test_df),\n",
        "                        columns=test_df.columns,\n",
        "                        index=test_df.index)\n",
        "\n",
        "train_df[\"Coffee_Price_Return\"] = return_train\n",
        "test_df[\"Coffee_Price_Return\"] = return_test\n",
        "\n",
        "train_df[\"log_return\"] = log_return_train\n",
        "test_df[\"log_return\"] = log_return_test\n",
        "\n",
        "# train_df[\"target_volatility_14d\"] = target_train\n",
        "# test_df[\"target_volatility_14d\"] = target_test"
      ],
      "metadata": {
        "id": "ToTIBLzQH4w8"
      },
      "execution_count": null,
      "outputs": []
    },
    {
      "cell_type": "code",
      "source": [
        "print(\"Train target min:\", train_df['target_volatility_14d'].min())\n",
        "print(\"Train target max:\", train_df['target_volatility_14d'].max())\n",
        "print(\"Test target min:\", test_df['target_volatility_14d'].min())\n",
        "print(\"Test target max:\", test_df['target_volatility_14d'].max())"
      ],
      "metadata": {
        "colab": {
          "base_uri": "https://localhost:8080/"
        },
        "id": "nN40Y0dcWosv",
        "outputId": "77a2028a-6d5f-4549-c710-d7aa9790a715"
      },
      "execution_count": null,
      "outputs": [
        {
          "output_type": "stream",
          "name": "stdout",
          "text": [
            "Train target min: 0.0\n",
            "Train target max: 1.0\n",
            "Test target min: 0.07562532692313825\n",
            "Test target max: 0.5482588566204503\n"
          ]
        }
      ]
    },
    {
      "cell_type": "code",
      "source": [
        "import matplotlib.pyplot as plt\n",
        "\n",
        "plt.hist(train_df[\"target_volatility_14d\"], bins=50, alpha=0.5, label='Train')\n",
        "plt.hist(test_df[\"target_volatility_14d\"], bins=50, alpha=0.5, label='Test')\n",
        "plt.legend()\n",
        "plt.title(\"Target Volatility Distribution (MinMax)\")\n",
        "plt.show()"
      ],
      "metadata": {
        "colab": {
          "base_uri": "https://localhost:8080/",
          "height": 452
        },
        "id": "WN7HkagUXWN4",
        "outputId": "e2d61bd4-9b04-4b43-dd7b-99e284a6e0a1"
      },
      "execution_count": null,
      "outputs": [
        {
          "output_type": "display_data",
          "data": {
            "text/plain": [
              "<Figure size 640x480 with 1 Axes>"
            ],
            "image/png": "[encoded data removed]"
          },
          "metadata": {}
        }
      ]
    },
    {
      "cell_type": "code",
      "source": [
        "import numpy as np\n",
        "import torch\n",
        "from torch.utils.data import Dataset\n",
        "\n",
        "class MultiStepTimeSeriesDataset(torch.utils.data.Dataset):\n",
        "    def __init__(self, X, y, window_size, step, static_feat_idx):\n",
        "        self.data = []\n",
        "        self.labels = []\n",
        "        self.static_feats = []\n",
        "\n",
        "        self.seq_feat_idx = [i for i in range(X.shape[1]) if i not in static_feat_idx]\n",
        "\n",
        "        for i in range(0, len(X) - window_size, step):\n",
        "            x_seq = X[i:i+window_size, self.seq_feat_idx]         # (T, D_seq)\n",
        "            x_static = X[i, static_feat_idx]                      # (D_static,)\n",
        "            y_target = y[i + window_size]                         # 미래 14일 변동성 (미리 shift(-13) 해둔 상태)\n",
        "\n",
        "            if np.isnan(y_target):  # 결측치 제거\n",
        "                continue\n",
        "\n",
        "            self.data.append(x_seq)\n",
        "            self.static_feats.append(x_static)\n",
        "            self.labels.append(y_target)\n",
        "\n",
        "        self.data = np.array(self.data)\n",
        "        self.static_feats = np.array(self.static_feats)\n",
        "        self.labels = np.array(self.labels)\n",
        "\n",
        "    def __len__(self):\n",
        "        return len(self.data)\n",
        "\n",
        "    def __getitem__(self, idx):\n",
        "        x_seq = torch.tensor(self.data[idx], dtype=torch.float32)\n",
        "        x_static = torch.tensor(self.static_feats[idx], dtype=torch.float32)\n",
        "        y = torch.tensor(self.labels[idx], dtype=torch.float32)  # (scalar)\n",
        "        return x_seq, x_static, y"
      ],
      "metadata": {
        "id": "u6kgFp8xH3Di"
      },
      "execution_count": null,
      "outputs": []
    },
    {
      "cell_type": "code",
      "source": [
        "X_train = train_df.values\n",
        "target_col = \"target_volatility_14d\"\n",
        "y_train = train_df[target_col].values\n",
        "\n",
        "X_test = test_df.values\n",
        "y_test = test_df[target_col].values"
      ],
      "metadata": {
        "id": "UzcH4RHgIrNR"
      },
      "execution_count": null,
      "outputs": []
    },
    {
      "cell_type": "code",
      "source": [
        "data_window = 100  # 최근 데이터를 입력으로 사용\n",
        "step = 1  # 단위로 샘플링"
      ],
      "metadata": {
        "id": "hBpTUaOoTEh-"
      },
      "execution_count": null,
      "outputs": []
    },
    {
      "cell_type": "code",
      "source": [
        "static_feat_idx = list(range(X_train.shape[1] - 9, X_train.shape[1]))\n",
        "\n",
        "train_dataset = MultiStepTimeSeriesDataset(X_train, y_train, data_window, step, static_feat_idx)\n",
        "test_dataset = MultiStepTimeSeriesDataset(X_test, y_test, data_window, step, static_feat_idx)\n",
        "\n",
        "train_loader = torch.utils.data.DataLoader(train_dataset, batch_size=64, shuffle=True)\n",
        "test_loader = torch.utils.data.DataLoader(test_dataset, batch_size=32, shuffle=False)"
      ],
      "metadata": {
        "id": "scVWTFT93mzq"
      },
      "execution_count": 58,
      "outputs": []
    },
    {
      "cell_type": "markdown",
      "source": [
        "LSTM 입력을 위해 3D 배열로 변경"
      ],
      "metadata": {
        "id": "Oj2BhSZpVdFb"
      }
    },
    {
      "cell_type": "code",
      "source": [
        "import torch.nn as nn\n",
        "import torch.optim as optim\n",
        "import torch.nn.functional as F"
      ],
      "metadata": {
        "id": "tXjaWEuWTJ9i"
      },
      "execution_count": null,
      "outputs": []
    },
    {
      "cell_type": "code",
      "source": [
        "pip install entmax"
      ],
      "metadata": {
        "colab": {
          "base_uri": "https://localhost:8080/"
        },
        "collapsed": true,
        "id": "pIXXCE1D_fE4",
        "outputId": "100e99dd-6dc9-41ba-b875-b3e521a271d5"
      },
      "execution_count": null,
      "outputs": [
        {
          "output_type": "stream",
          "name": "stdout",
          "text": [
            "Requirement already satisfied: entmax in /usr/local/lib/python3.11/dist-packages (1.3)\n",
            "Requirement already satisfied: torch>=1.3 in /usr/local/lib/python3.11/dist-packages (from entmax) (2.6.0+cu124)\n",
            "Requirement already satisfied: filelock in /usr/local/lib/python3.11/dist-packages (from torch>=1.3->entmax) (3.18.0)\n",
            "Requirement already satisfied: typing-extensions>=4.10.0 in /usr/local/lib/python3.11/dist-packages (from torch>=1.3->entmax) (4.13.2)\n",
            "Requirement already satisfied: networkx in /usr/local/lib/python3.11/dist-packages (from torch>=1.3->entmax) (3.4.2)\n",
            "Requirement already satisfied: jinja2 in /usr/local/lib/python3.11/dist-packages (from torch>=1.3->entmax) (3.1.6)\n",
            "Requirement already satisfied: fsspec in /usr/local/lib/python3.11/dist-packages (from torch>=1.3->entmax) (2025.3.2)\n",
            "Requirement already satisfied: nvidia-cuda-nvrtc-cu12==12.4.127 in /usr/local/lib/python3.11/dist-packages (from torch>=1.3->entmax) (12.4.127)\n",
            "Requirement already satisfied: nvidia-cuda-runtime-cu12==12.4.127 in /usr/local/lib/python3.11/dist-packages (from torch>=1.3->entmax) (12.4.127)\n",
            "Requirement already satisfied: nvidia-cuda-cupti-cu12==12.4.127 in /usr/local/lib/python3.11/dist-packages (from torch>=1.3->entmax) (12.4.127)\n",
            "Requirement already satisfied: nvidia-cudnn-cu12==9.1.0.70 in /usr/local/lib/python3.11/dist-packages (from torch>=1.3->entmax) (9.1.0.70)\n",
            "Requirement already satisfied: nvidia-cublas-cu12==12.4.5.8 in /usr/local/lib/python3.11/dist-packages (from torch>=1.3->entmax) (12.4.5.8)\n",
            "Requirement already satisfied: nvidia-cufft-cu12==11.2.1.3 in /usr/local/lib/python3.11/dist-packages (from torch>=1.3->entmax) (11.2.1.3)\n",
            "Requirement already satisfied: nvidia-curand-cu12==10.3.5.147 in /usr/local/lib/python3.11/dist-packages (from torch>=1.3->entmax) (10.3.5.147)\n",
            "Requirement already satisfied: nvidia-cusolver-cu12==11.6.1.9 in /usr/local/lib/python3.11/dist-packages (from torch>=1.3->entmax) (11.6.1.9)\n",
            "Requirement already satisfied: nvidia-cusparse-cu12==12.3.1.170 in /usr/local/lib/python3.11/dist-packages (from torch>=1.3->entmax) (12.3.1.170)\n",
            "Requirement already satisfied: nvidia-cusparselt-cu12==0.6.2 in /usr/local/lib/python3.11/dist-packages (from torch>=1.3->entmax) (0.6.2)\n",
            "Requirement already satisfied: nvidia-nccl-cu12==2.21.5 in /usr/local/lib/python3.11/dist-packages (from torch>=1.3->entmax) (2.21.5)\n",
            "Requirement already satisfied: nvidia-nvtx-cu12==12.4.127 in /usr/local/lib/python3.11/dist-packages (from torch>=1.3->entmax) (12.4.127)\n",
            "Requirement already satisfied: nvidia-nvjitlink-cu12==12.4.127 in /usr/local/lib/python3.11/dist-packages (from torch>=1.3->entmax) (12.4.127)\n",
            "Requirement already satisfied: triton==3.2.0 in /usr/local/lib/python3.11/dist-packages (from torch>=1.3->entmax) (3.2.0)\n",
            "Requirement already satisfied: sympy==1.13.1 in /usr/local/lib/python3.11/dist-packages (from torch>=1.3->entmax) (1.13.1)\n",
            "Requirement already satisfied: mpmath<1.4,>=1.1.0 in /usr/local/lib/python3.11/dist-packages (from sympy==1.13.1->torch>=1.3->entmax) (1.3.0)\n",
            "Requirement already satisfied: MarkupSafe>=2.0 in /usr/local/lib/python3.11/dist-packages (from jinja2->torch>=1.3->entmax) (3.0.2)\n"
          ]
        }
      ]
    },
    {
      "cell_type": "code",
      "source": [
        "def compute_attention_entropy(attn_weights):\n",
        "    eps = 1e-8\n",
        "    entropy = -torch.sum(attn_weights * torch.log(attn_weights + eps), dim=1)  # (B,)\n",
        "    return entropy.mean().item()"
      ],
      "metadata": {
        "id": "XEgQBxHJbM1y"
      },
      "execution_count": null,
      "outputs": []
    },
    {
      "cell_type": "code",
      "source": [
        "from entmax import Entmax15\n",
        "\n",
        "class EntmaxAttention(nn.Module):\n",
        "    def __init__(self, hidden_size, attn_dim=128):\n",
        "        super().__init__()\n",
        "        self.score_layer = nn.Sequential(\n",
        "            nn.Linear(hidden_size, attn_dim),\n",
        "            nn.Tanh(),\n",
        "            nn.Linear(attn_dim, 1)\n",
        "        )\n",
        "        self.entmax = Entmax15(dim=1)\n",
        "\n",
        "    def forward(self, lstm_output):\n",
        "        # lstm_output: (B, T, H)\n",
        "        scores = self.score_layer(lstm_output).squeeze(-1)  # (B, T)\n",
        "        weights = self.entmax(scores)  # sparse attention weights\n",
        "        context = torch.sum(lstm_output * weights.unsqueeze(-1), dim=1)  # (B, H)\n",
        "        return context, weights"
      ],
      "metadata": {
        "id": "Hfs1L8L_vyU5"
      },
      "execution_count": null,
      "outputs": []
    },
    {
      "cell_type": "code",
      "source": [
        "class AttentionLSTMModel(nn.Module):\n",
        "    def __init__(self, input_size, hidden_size=128, num_layers=1, dropout=0.3, static_feat_dim=9):\n",
        "        super().__init__()\n",
        "        self.hidden_size = hidden_size\n",
        "        self.num_layers = num_layers\n",
        "\n",
        "        self.lstm = nn.LSTM(\n",
        "            input_size=input_size,\n",
        "            hidden_size=hidden_size,\n",
        "            num_layers=num_layers,\n",
        "            dropout=dropout,\n",
        "            batch_first=True\n",
        "        )\n",
        "\n",
        "        self.attention = EntmaxAttention(hidden_size)\n",
        "\n",
        "        self.gate = nn.Sequential(\n",
        "            nn.Linear(hidden_size * 2, 1),\n",
        "            nn.Sigmoid()\n",
        "        )\n",
        "\n",
        "        # 정적 피처 인코더 추가\n",
        "        self.static_encoder = nn.Sequential(\n",
        "            nn.Linear(static_feat_dim, 32),\n",
        "            nn.ReLU(),\n",
        "            nn.LayerNorm(32),\n",
        "            nn.Dropout(0.2),\n",
        "            nn.Linear(32, 64),\n",
        "            nn.ReLU()\n",
        "        )\n",
        "\n",
        "        # FC 입력 차원 변경: fused(H) + static_encoded(64)\n",
        "        self.fc = nn.Sequential(\n",
        "            nn.Linear(hidden_size + 64, hidden_size * 2),\n",
        "            nn.ReLU(),\n",
        "            nn.Dropout(0.3),\n",
        "            nn.Linear(hidden_size * 2, hidden_size * 2),\n",
        "            nn.ReLU(),\n",
        "            nn.Linear(hidden_size * 2, 1)\n",
        "        )\n",
        "\n",
        "    def forward(self, x_seq, x_static, hidden_states=None):\n",
        "        batch_size = x_seq.size(0)\n",
        "\n",
        "        if hidden_states is None:\n",
        "            h0 = torch.zeros(self.num_layers, batch_size, self.hidden_size).to(x_seq.device)\n",
        "            c0 = torch.zeros(self.num_layers, batch_size, self.hidden_size).to(x_seq.device)\n",
        "            hidden_states = (h0, c0)\n",
        "\n",
        "        lstm_out, _ = self.lstm(x_seq, hidden_states)\n",
        "\n",
        "        if self.training:\n",
        "            lstm_out = lstm_out + 0.05 * torch.randn_like(lstm_out)\n",
        "\n",
        "        context, attn_weights = self.attention(lstm_out)\n",
        "        last_hidden = lstm_out[:, -1, :]\n",
        "        combined = torch.cat([context, last_hidden], dim=1)\n",
        "        alpha = self.gate(combined)\n",
        "        fused = alpha * context + (1 - alpha) * last_hidden\n",
        "\n",
        "        # 정적 피처 인코딩 및 결합\n",
        "        static_encoded = self.static_encoder(x_static)  # (B, 64)\n",
        "        fused_with_static = torch.cat([fused, static_encoded], dim=1)  # (B, H+64)\n",
        "\n",
        "        out = self.fc(fused_with_static).squeeze(-1)\n",
        "        return out, attn_weights"
      ],
      "metadata": {
        "id": "DSpFqWWRTk3M"
      },
      "execution_count": null,
      "outputs": []
    },
    {
      "cell_type": "markdown",
      "source": [
        "#### 기본 학습 모델"
      ],
      "metadata": {
        "id": "QQvryY1MvBlL"
      }
    },
    {
      "cell_type": "code",
      "source": [
        "device = 'cuda' if torch.cuda.is_available() else 'cpu'"
      ],
      "metadata": {
        "id": "VpdExKKvomso"
      },
      "execution_count": null,
      "outputs": []
    },
    {
      "cell_type": "code",
      "source": [
        "def weighted_mse_loss(y_pred, y_true, temp=5.0):\n",
        "    # 개별 loss 계산: (B,)\n",
        "    sample_losses = (y_pred - y_true) ** 2\n",
        "\n",
        "    # softmax 기반 가중치: 큰 loss에 더 높은 weight\n",
        "    weights = torch.softmax(sample_losses * temp, dim=0)  # temp 높을수록 sharpen\n",
        "    weighted_loss = torch.sum(weights * sample_losses)\n",
        "\n",
        "    return weighted_loss"
      ],
      "metadata": {
        "id": "TrhLZpRwDTVK"
      },
      "execution_count": 52,
      "outputs": []
    },
    {
      "cell_type": "code",
      "source": [
        "from sklearn.model_selection import TimeSeriesSplit\n",
        "import numpy as np\n",
        "\n",
        "X_all = train_df.values\n",
        "y_all = train_df[target_col].values\n",
        "\n",
        "static_feat_idx = list(range(X_all.shape[1] - 9, X_all.shape[1]))\n",
        "tscv = TimeSeriesSplit(n_splits=5)\n",
        "\n",
        "fold_results = []\n",
        "\n",
        "for fold, (train_idx, val_idx) in enumerate(tscv.split(X_all)):\n",
        "    print(f\"\\n===== Fold {fold + 1} =====\")\n",
        "\n",
        "    X_train_fold = X_all[train_idx]\n",
        "    y_train_fold = y_all[train_idx]\n",
        "\n",
        "    X_val_fold = X_all[val_idx]\n",
        "    y_val_fold = y_all[val_idx]\n",
        "\n",
        "    train_dataset = MultiStepTimeSeriesDataset(\n",
        "        X_train_fold, y_train_fold,\n",
        "        window_size=data_window,\n",
        "        step=step,\n",
        "        static_feat_idx=static_feat_idx\n",
        "    )\n",
        "    val_dataset = MultiStepTimeSeriesDataset(\n",
        "        X_val_fold, y_val_fold,\n",
        "        window_size=data_window,\n",
        "        step=step,\n",
        "        static_feat_idx=static_feat_idx\n",
        "    )\n",
        "\n",
        "    train_loader = torch.utils.data.DataLoader(train_dataset, batch_size=64, shuffle=True)\n",
        "    val_loader = torch.utils.data.DataLoader(val_dataset, batch_size=32, shuffle=False)\n",
        "\n",
        "    model = AttentionLSTMModel(\n",
        "        input_size=X_all.shape[1] - 9,\n",
        "        static_feat_dim=9\n",
        "    ).to(device)\n",
        "    optimizer = torch.optim.Adam(model.parameters(), lr=0.001, weight_decay=1e-5)\n",
        "\n",
        "    for epoch in range(35):\n",
        "        model.train()\n",
        "        for x_seq, x_static, y in train_loader:\n",
        "            x_seq, x_static, y = x_seq.to(device), x_static.to(device), y.to(device)\n",
        "\n",
        "            optimizer.zero_grad()\n",
        "            y_pred, _ = model(x_seq, x_static)\n",
        "            # weighted MSE 적용\n",
        "            loss = weighted_mse_loss(y_pred, y, temp=5.0)\n",
        "            loss.backward()\n",
        "            optimizer.step()\n",
        "\n",
        "        # Validation 평가 (여기는 일반 MSE로 측정)\n",
        "        model.eval()\n",
        "        val_losses = []\n",
        "        with torch.no_grad():\n",
        "            for x_seq, x_static, y in val_loader:\n",
        "                x_seq, x_static, y = x_seq.to(device), x_static.to(device), y.to(device)\n",
        "                y_pred, _ = model(x_seq, x_static)\n",
        "                val_loss = torch.mean((y_pred - y) ** 2).item()\n",
        "                val_losses.append(val_loss)\n",
        "        avg_val_loss = np.mean(val_losses)\n",
        "        print(f\"Epoch {epoch+1}, Val Loss: {avg_val_loss:.4f}\")\n",
        "\n",
        "    fold_results.append(avg_val_loss)\n",
        "\n",
        "print(\"\\nFold별 평균 Loss:\", fold_results)\n",
        "print(\"전체 평균 Validation Loss:\", np.mean(fold_results))"
      ],
      "metadata": {
        "colab": {
          "base_uri": "https://localhost:8080/"
        },
        "id": "AS_hceWFBzPt",
        "outputId": "0a833c87-88a3-4cd2-f8e9-1acddc3bceb3",
        "collapsed": true
      },
      "execution_count": 55,
      "outputs": [
        {
          "output_type": "stream",
          "name": "stdout",
          "text": [
            "\n",
            "===== Fold 1 =====\n",
            "Epoch 1, Val Loss: 0.0130\n",
            "Epoch 2, Val Loss: 0.0070\n",
            "Epoch 3, Val Loss: 0.0096\n",
            "Epoch 4, Val Loss: 0.0072\n",
            "Epoch 5, Val Loss: 0.0064\n",
            "Epoch 6, Val Loss: 0.0073\n",
            "Epoch 7, Val Loss: 0.0079\n",
            "Epoch 8, Val Loss: 0.0072\n",
            "Epoch 9, Val Loss: 0.0073\n",
            "Epoch 10, Val Loss: 0.0062\n",
            "Epoch 11, Val Loss: 0.0065\n",
            "Epoch 12, Val Loss: 0.0066\n",
            "Epoch 13, Val Loss: 0.0058\n",
            "Epoch 14, Val Loss: 0.0062\n",
            "Epoch 15, Val Loss: 0.0079\n",
            "Epoch 16, Val Loss: 0.0061\n",
            "Epoch 17, Val Loss: 0.0067\n",
            "Epoch 18, Val Loss: 0.0085\n",
            "Epoch 19, Val Loss: 0.0063\n",
            "Epoch 20, Val Loss: 0.0063\n",
            "Epoch 21, Val Loss: 0.0075\n",
            "Epoch 22, Val Loss: 0.0068\n",
            "Epoch 23, Val Loss: 0.0062\n",
            "Epoch 24, Val Loss: 0.0066\n",
            "Epoch 25, Val Loss: 0.0063\n",
            "Epoch 26, Val Loss: 0.0059\n",
            "Epoch 27, Val Loss: 0.0064\n",
            "Epoch 28, Val Loss: 0.0092\n",
            "Epoch 29, Val Loss: 0.0074\n",
            "Epoch 30, Val Loss: 0.0062\n",
            "Epoch 31, Val Loss: 0.0062\n",
            "Epoch 32, Val Loss: 0.0075\n",
            "Epoch 33, Val Loss: 0.0065\n",
            "Epoch 34, Val Loss: 0.0071\n",
            "Epoch 35, Val Loss: 0.0061\n",
            "\n",
            "===== Fold 2 =====\n",
            "Epoch 1, Val Loss: 0.0333\n",
            "Epoch 2, Val Loss: 0.0238\n",
            "Epoch 3, Val Loss: 0.0237\n",
            "Epoch 4, Val Loss: 0.0319\n",
            "Epoch 5, Val Loss: 0.0338\n",
            "Epoch 6, Val Loss: 0.0362\n",
            "Epoch 7, Val Loss: 0.0403\n",
            "Epoch 8, Val Loss: 0.0402\n",
            "Epoch 9, Val Loss: 0.0410\n",
            "Epoch 10, Val Loss: 0.0383\n",
            "Epoch 11, Val Loss: 0.0438\n",
            "Epoch 12, Val Loss: 0.0297\n",
            "Epoch 13, Val Loss: 0.0273\n",
            "Epoch 14, Val Loss: 0.0396\n",
            "Epoch 15, Val Loss: 0.0453\n",
            "Epoch 16, Val Loss: 0.0454\n",
            "Epoch 17, Val Loss: 0.0343\n",
            "Epoch 18, Val Loss: 0.0434\n",
            "Epoch 19, Val Loss: 0.0419\n",
            "Epoch 20, Val Loss: 0.0371\n",
            "Epoch 21, Val Loss: 0.0248\n",
            "Epoch 22, Val Loss: 0.0233\n",
            "Epoch 23, Val Loss: 0.0282\n",
            "Epoch 24, Val Loss: 0.0296\n",
            "Epoch 25, Val Loss: 0.0313\n",
            "Epoch 26, Val Loss: 0.0264\n",
            "Epoch 27, Val Loss: 0.0144\n",
            "Epoch 28, Val Loss: 0.0190\n",
            "Epoch 29, Val Loss: 0.0234\n",
            "Epoch 30, Val Loss: 0.0159\n",
            "Epoch 31, Val Loss: 0.0246\n",
            "Epoch 32, Val Loss: 0.0336\n",
            "Epoch 33, Val Loss: 0.0169\n",
            "Epoch 34, Val Loss: 0.0195\n",
            "Epoch 35, Val Loss: 0.0222\n",
            "\n",
            "===== Fold 3 =====\n",
            "Epoch 1, Val Loss: 0.0329\n",
            "Epoch 2, Val Loss: 0.0309\n",
            "Epoch 3, Val Loss: 0.0261\n",
            "Epoch 4, Val Loss: 0.0266\n",
            "Epoch 5, Val Loss: 0.0245\n",
            "Epoch 6, Val Loss: 0.0273\n",
            "Epoch 7, Val Loss: 0.0211\n",
            "Epoch 8, Val Loss: 0.0196\n",
            "Epoch 9, Val Loss: 0.0170\n",
            "Epoch 10, Val Loss: 0.0171\n",
            "Epoch 11, Val Loss: 0.0214\n",
            "Epoch 12, Val Loss: 0.0123\n",
            "Epoch 13, Val Loss: 0.0103\n",
            "Epoch 14, Val Loss: 0.0104\n",
            "Epoch 15, Val Loss: 0.0096\n",
            "Epoch 16, Val Loss: 0.0081\n",
            "Epoch 17, Val Loss: 0.0075\n",
            "Epoch 18, Val Loss: 0.0071\n",
            "Epoch 19, Val Loss: 0.0082\n",
            "Epoch 20, Val Loss: 0.0051\n",
            "Epoch 21, Val Loss: 0.0063\n",
            "Epoch 22, Val Loss: 0.0082\n",
            "Epoch 23, Val Loss: 0.0056\n",
            "Epoch 24, Val Loss: 0.0049\n",
            "Epoch 25, Val Loss: 0.0074\n",
            "Epoch 26, Val Loss: 0.0057\n",
            "Epoch 27, Val Loss: 0.0045\n",
            "Epoch 28, Val Loss: 0.0051\n",
            "Epoch 29, Val Loss: 0.0065\n",
            "Epoch 30, Val Loss: 0.0065\n",
            "Epoch 31, Val Loss: 0.0047\n",
            "Epoch 32, Val Loss: 0.0045\n",
            "Epoch 33, Val Loss: 0.0050\n",
            "Epoch 34, Val Loss: 0.0067\n",
            "Epoch 35, Val Loss: 0.0060\n",
            "\n",
            "===== Fold 4 =====\n",
            "Epoch 1, Val Loss: 0.0315\n",
            "Epoch 2, Val Loss: 0.0316\n",
            "Epoch 3, Val Loss: 0.0281\n",
            "Epoch 4, Val Loss: 0.0380\n",
            "Epoch 5, Val Loss: 0.0442\n",
            "Epoch 6, Val Loss: 0.0365\n",
            "Epoch 7, Val Loss: 0.0396\n",
            "Epoch 8, Val Loss: 0.0302\n",
            "Epoch 9, Val Loss: 0.0279\n",
            "Epoch 10, Val Loss: 0.0325\n",
            "Epoch 11, Val Loss: 0.0230\n",
            "Epoch 12, Val Loss: 0.0256\n",
            "Epoch 13, Val Loss: 0.0276\n",
            "Epoch 14, Val Loss: 0.0211\n",
            "Epoch 15, Val Loss: 0.0197\n",
            "Epoch 16, Val Loss: 0.0176\n",
            "Epoch 17, Val Loss: 0.0134\n",
            "Epoch 18, Val Loss: 0.0151\n",
            "Epoch 19, Val Loss: 0.0182\n",
            "Epoch 20, Val Loss: 0.0109\n",
            "Epoch 21, Val Loss: 0.0107\n",
            "Epoch 22, Val Loss: 0.0144\n",
            "Epoch 23, Val Loss: 0.0099\n",
            "Epoch 24, Val Loss: 0.0095\n",
            "Epoch 25, Val Loss: 0.0058\n",
            "Epoch 26, Val Loss: 0.0081\n",
            "Epoch 27, Val Loss: 0.0128\n",
            "Epoch 28, Val Loss: 0.0120\n",
            "Epoch 29, Val Loss: 0.0089\n",
            "Epoch 30, Val Loss: 0.0088\n",
            "Epoch 31, Val Loss: 0.0093\n",
            "Epoch 32, Val Loss: 0.0085\n",
            "Epoch 33, Val Loss: 0.0075\n",
            "Epoch 34, Val Loss: 0.0056\n",
            "Epoch 35, Val Loss: 0.0039\n",
            "\n",
            "===== Fold 5 =====\n",
            "Epoch 1, Val Loss: 0.0111\n",
            "Epoch 2, Val Loss: 0.0106\n",
            "Epoch 3, Val Loss: 0.0146\n",
            "Epoch 4, Val Loss: 0.0126\n",
            "Epoch 5, Val Loss: 0.0194\n",
            "Epoch 6, Val Loss: 0.0095\n",
            "Epoch 7, Val Loss: 0.0079\n",
            "Epoch 8, Val Loss: 0.0059\n",
            "Epoch 9, Val Loss: 0.0080\n",
            "Epoch 10, Val Loss: 0.0049\n",
            "Epoch 11, Val Loss: 0.0053\n",
            "Epoch 12, Val Loss: 0.0028\n",
            "Epoch 13, Val Loss: 0.0055\n",
            "Epoch 14, Val Loss: 0.0023\n",
            "Epoch 15, Val Loss: 0.0028\n",
            "Epoch 16, Val Loss: 0.0021\n",
            "Epoch 17, Val Loss: 0.0030\n",
            "Epoch 18, Val Loss: 0.0022\n",
            "Epoch 19, Val Loss: 0.0021\n",
            "Epoch 20, Val Loss: 0.0019\n",
            "Epoch 21, Val Loss: 0.0047\n",
            "Epoch 22, Val Loss: 0.0027\n",
            "Epoch 23, Val Loss: 0.0018\n",
            "Epoch 24, Val Loss: 0.0017\n",
            "Epoch 25, Val Loss: 0.0019\n",
            "Epoch 26, Val Loss: 0.0017\n",
            "Epoch 27, Val Loss: 0.0020\n",
            "Epoch 28, Val Loss: 0.0018\n",
            "Epoch 29, Val Loss: 0.0024\n",
            "Epoch 30, Val Loss: 0.0021\n",
            "Epoch 31, Val Loss: 0.0017\n",
            "Epoch 32, Val Loss: 0.0025\n",
            "Epoch 33, Val Loss: 0.0017\n",
            "Epoch 34, Val Loss: 0.0025\n",
            "Epoch 35, Val Loss: 0.0017\n",
            "\n",
            "Fold별 평균 Loss: [np.float64(0.006072397460229695), np.float64(0.022227753988570638), np.float64(0.006014500059083932), np.float64(0.0038995383721258906), np.float64(0.00170496920731643)]\n",
            "전체 평균 Validation Loss: 0.007983831817465318\n"
          ]
        }
      ]
    },
    {
      "cell_type": "code",
      "source": [
        "import matplotlib.pyplot as plt\n",
        "\n",
        "plt.plot(y_all, label=\"target\")\n",
        "for i, (_, val_idx) in enumerate(tscv.split(X_all)):\n",
        "    plt.axvspan(val_idx[0], val_idx[-1], color=f\"C{i}\", alpha=0.2, label=f\"Fold {i+1}\")\n",
        "plt.legend()\n",
        "plt.title(\"Validation\")\n",
        "plt.show()"
      ],
      "metadata": {
        "colab": {
          "base_uri": "https://localhost:8080/",
          "height": 452
        },
        "id": "J_vXF5eDClRY",
        "outputId": "ee28e70b-d713-4345-9e29-436582047f02"
      },
      "execution_count": 56,
      "outputs": [
        {
          "output_type": "display_data",
          "data": {
            "text/plain": [
              "<Figure size 640x480 with 1 Axes>"
            ],
            "image/png": "[encoded data removed]"
          },
          "metadata": {}
        }
      ]
    },
    {
      "cell_type": "code",
      "source": [
        "x_seq, x_static, _ = train_dataset[0]\n",
        "\n",
        "input_size = x_seq.shape[1]\n",
        "model = AttentionLSTMModel(input_size=input_size, static_feat_dim=9).to(device)\n",
        "base_criterion = nn.MSELoss()\n",
        "\n",
        "\n",
        "optimizer = torch.optim.Adam(model.parameters(), lr=0.001, weight_decay=1e-5)\n",
        "scheduler = torch.optim.lr_scheduler.ReduceLROnPlateau(optimizer, mode='min', factor=0.5, patience=5)"
      ],
      "metadata": {
        "id": "uiHrKJgCFPdr"
      },
      "execution_count": 64,
      "outputs": []
    },
    {
      "cell_type": "code",
      "source": [
        "# ✅ 최종 학습 루프 (weighted loss 포함)\n",
        "for epoch in range(50):  # ← epoch 수 늘림\n",
        "    model.train()\n",
        "    epoch_loss = 0.0\n",
        "\n",
        "    for x_seq, x_static, y in train_loader:\n",
        "        x_seq, x_static, y = x_seq.to(device), x_static.to(device), y.to(device)\n",
        "\n",
        "        optimizer.zero_grad()\n",
        "        y_pred, _ = model(x_seq, x_static)\n",
        "        loss = weighted_mse_loss(y_pred, y, temp=5.0)\n",
        "        loss.backward()\n",
        "        optimizer.step()\n",
        "\n",
        "        epoch_loss += loss.item()\n",
        "\n",
        "    avg_loss = epoch_loss / len(train_loader)\n",
        "    print(f\"[Final Training] Epoch {epoch+1}, Train Loss: {avg_loss:.4f}\")"
      ],
      "metadata": {
        "colab": {
          "base_uri": "https://localhost:8080/"
        },
        "id": "8a23XNMSFI7B",
        "outputId": "394c97fa-9505-4f10-f8cf-6a5029076cb1"
      },
      "execution_count": 63,
      "outputs": [
        {
          "output_type": "stream",
          "name": "stdout",
          "text": [
            "[Final Training] Epoch 1, Train Loss: 0.0415\n",
            "[Final Training] Epoch 2, Train Loss: 0.0214\n",
            "[Final Training] Epoch 3, Train Loss: 0.0200\n",
            "[Final Training] Epoch 4, Train Loss: 0.0219\n",
            "[Final Training] Epoch 5, Train Loss: 0.0200\n",
            "[Final Training] Epoch 6, Train Loss: 0.0136\n",
            "[Final Training] Epoch 7, Train Loss: 0.0104\n",
            "[Final Training] Epoch 8, Train Loss: 0.0081\n",
            "[Final Training] Epoch 9, Train Loss: 0.0068\n",
            "[Final Training] Epoch 10, Train Loss: 0.0047\n",
            "[Final Training] Epoch 11, Train Loss: 0.0036\n",
            "[Final Training] Epoch 12, Train Loss: 0.0032\n",
            "[Final Training] Epoch 13, Train Loss: 0.0035\n",
            "[Final Training] Epoch 14, Train Loss: 0.0028\n",
            "[Final Training] Epoch 15, Train Loss: 0.0024\n",
            "[Final Training] Epoch 16, Train Loss: 0.0025\n",
            "[Final Training] Epoch 17, Train Loss: 0.0024\n",
            "[Final Training] Epoch 18, Train Loss: 0.0023\n",
            "[Final Training] Epoch 19, Train Loss: 0.0024\n",
            "[Final Training] Epoch 20, Train Loss: 0.0021\n",
            "[Final Training] Epoch 21, Train Loss: 0.0020\n",
            "[Final Training] Epoch 22, Train Loss: 0.0019\n",
            "[Final Training] Epoch 23, Train Loss: 0.0020\n",
            "[Final Training] Epoch 24, Train Loss: 0.0021\n",
            "[Final Training] Epoch 25, Train Loss: 0.0019\n",
            "[Final Training] Epoch 26, Train Loss: 0.0022\n",
            "[Final Training] Epoch 27, Train Loss: 0.0019\n",
            "[Final Training] Epoch 28, Train Loss: 0.0018\n",
            "[Final Training] Epoch 29, Train Loss: 0.0019\n",
            "[Final Training] Epoch 30, Train Loss: 0.0018\n",
            "[Final Training] Epoch 31, Train Loss: 0.0016\n",
            "[Final Training] Epoch 32, Train Loss: 0.0016\n",
            "[Final Training] Epoch 33, Train Loss: 0.0018\n",
            "[Final Training] Epoch 34, Train Loss: 0.0016\n",
            "[Final Training] Epoch 35, Train Loss: 0.0016\n",
            "[Final Training] Epoch 36, Train Loss: 0.0017\n",
            "[Final Training] Epoch 37, Train Loss: 0.0016\n",
            "[Final Training] Epoch 38, Train Loss: 0.0016\n",
            "[Final Training] Epoch 39, Train Loss: 0.0016\n",
            "[Final Training] Epoch 40, Train Loss: 0.0015\n",
            "[Final Training] Epoch 41, Train Loss: 0.0015\n",
            "[Final Training] Epoch 42, Train Loss: 0.0015\n",
            "[Final Training] Epoch 43, Train Loss: 0.0015\n",
            "[Final Training] Epoch 44, Train Loss: 0.0015\n",
            "[Final Training] Epoch 45, Train Loss: 0.0015\n",
            "[Final Training] Epoch 46, Train Loss: 0.0016\n",
            "[Final Training] Epoch 47, Train Loss: 0.0017\n",
            "[Final Training] Epoch 48, Train Loss: 0.0020\n",
            "[Final Training] Epoch 49, Train Loss: 0.0016\n",
            "[Final Training] Epoch 50, Train Loss: 0.0015\n"
          ]
        }
      ]
    },
    {
      "cell_type": "code",
      "source": [
        "num_epochs = 50\n",
        "\n",
        "train_losses = []\n",
        "test_losses = []\n",
        "\n",
        "for epoch in range(num_epochs):\n",
        "    model.train()\n",
        "    epoch_loss = 0.0\n",
        "    all_train_preds = []\n",
        "    all_train_targets = []\n",
        "\n",
        "    for x_seq, x_static, y_batch in train_loader:\n",
        "        x_seq, x_static, y_batch = x_seq.to(device), x_static.to(device), y_batch.to(device)\n",
        "\n",
        "        optimizer.zero_grad()\n",
        "        y_pred, _ = model(x_seq, x_static)  # y_pred: (B,)\n",
        "\n",
        "        loss = base_criterion(y_pred, y_batch)\n",
        "        loss.backward()\n",
        "        torch.nn.utils.clip_grad_norm_(model.parameters(), max_norm=5)\n",
        "        optimizer.step()\n",
        "\n",
        "        epoch_loss += loss.item()\n",
        "        all_train_preds.append(y_pred.detach().cpu())\n",
        "        all_train_targets.append(y_batch.detach().cpu())\n",
        "\n",
        "    avg_train_loss = epoch_loss / len(train_loader)\n",
        "    train_losses.append(avg_train_loss)\n",
        "\n",
        "    # 통계 출력\n",
        "    all_train_preds_tensor = torch.cat(all_train_preds, dim=0)\n",
        "    all_train_targets_tensor = torch.cat(all_train_targets, dim=0)\n",
        "    y_pred_mean = all_train_preds_tensor.mean().item()\n",
        "    y_pred_std = all_train_preds_tensor.std().item()\n",
        "    y_true_mean = all_train_targets_tensor.mean().item()\n",
        "    y_true_std = all_train_targets_tensor.std().item()\n",
        "\n",
        "    model.eval()\n",
        "    test_loss = 0.0\n",
        "    with torch.no_grad():\n",
        "        for x_test_seq, x_test_static, y_test in test_loader:\n",
        "            x_test_seq, x_test_static, y_test = x_test_seq.to(device), x_test_static.to(device), y_test.to(device)\n",
        "            y_test_pred, _ = model(x_test_seq, x_test_static)\n",
        "\n",
        "            test_loss += base_criterion(y_test_pred, y_test).item()\n",
        "\n",
        "    avg_test_loss = test_loss / len(test_loader)\n",
        "    test_losses.append(avg_test_loss)\n",
        "    scheduler.step(avg_test_loss)\n",
        "\n",
        "    print(f\"Epoch [{epoch+1}/{num_epochs}] | \"\n",
        "          f\"Train Loss: {avg_train_loss:.4f} | Test Loss: {avg_test_loss:.4f} | \"\n",
        "          f\"y_pred mean: {y_pred_mean:.4f}, std: {y_pred_std:.4f} | \"\n",
        "          f\"y_true mean: {y_true_mean:.4f}, std: {y_true_std:.4f}\")"
      ],
      "metadata": {
        "collapsed": true,
        "id": "Y7yORF1UU2O5",
        "colab": {
          "base_uri": "https://localhost:8080/"
        },
        "outputId": "4a653ac5-24b6-44ec-f2df-a499cee789df"
      },
      "execution_count": 65,
      "outputs": [
        {
          "output_type": "stream",
          "name": "stdout",
          "text": [
            "Epoch [1/50] | Train Loss: 0.0169 | Test Loss: 0.0199 | y_pred mean: 0.2496, std: 0.0752 | y_true mean: 0.2570, std: 0.1255\n",
            "Epoch [2/50] | Train Loss: 0.0128 | Test Loss: 0.0206 | y_pred mean: 0.2551, std: 0.0635 | y_true mean: 0.2570, std: 0.1255\n",
            "Epoch [3/50] | Train Loss: 0.0125 | Test Loss: 0.0174 | y_pred mean: 0.2556, std: 0.0676 | y_true mean: 0.2570, std: 0.1255\n",
            "Epoch [4/50] | Train Loss: 0.0108 | Test Loss: 0.0139 | y_pred mean: 0.2556, std: 0.0715 | y_true mean: 0.2570, std: 0.1255\n",
            "Epoch [5/50] | Train Loss: 0.0084 | Test Loss: 0.0122 | y_pred mean: 0.2562, std: 0.0853 | y_true mean: 0.2570, std: 0.1255\n",
            "Epoch [6/50] | Train Loss: 0.0051 | Test Loss: 0.0050 | y_pred mean: 0.2571, std: 0.1037 | y_true mean: 0.2570, std: 0.1255\n",
            "Epoch [7/50] | Train Loss: 0.0034 | Test Loss: 0.0056 | y_pred mean: 0.2567, std: 0.1128 | y_true mean: 0.2570, std: 0.1255\n",
            "Epoch [8/50] | Train Loss: 0.0031 | Test Loss: 0.0037 | y_pred mean: 0.2562, std: 0.1130 | y_true mean: 0.2570, std: 0.1255\n",
            "Epoch [9/50] | Train Loss: 0.0026 | Test Loss: 0.0038 | y_pred mean: 0.2565, std: 0.1166 | y_true mean: 0.2570, std: 0.1255\n",
            "Epoch [10/50] | Train Loss: 0.0026 | Test Loss: 0.0035 | y_pred mean: 0.2563, std: 0.1158 | y_true mean: 0.2570, std: 0.1255\n",
            "Epoch [11/50] | Train Loss: 0.0022 | Test Loss: 0.0032 | y_pred mean: 0.2570, std: 0.1172 | y_true mean: 0.2570, std: 0.1255\n",
            "Epoch [12/50] | Train Loss: 0.0021 | Test Loss: 0.0037 | y_pred mean: 0.2568, std: 0.1183 | y_true mean: 0.2570, std: 0.1255\n",
            "Epoch [13/50] | Train Loss: 0.0022 | Test Loss: 0.0063 | y_pred mean: 0.2564, std: 0.1155 | y_true mean: 0.2570, std: 0.1255\n",
            "Epoch [14/50] | Train Loss: 0.0023 | Test Loss: 0.0052 | y_pred mean: 0.2561, std: 0.1194 | y_true mean: 0.2570, std: 0.1255\n",
            "Epoch [15/50] | Train Loss: 0.0019 | Test Loss: 0.0034 | y_pred mean: 0.2573, std: 0.1173 | y_true mean: 0.2570, std: 0.1255\n",
            "Epoch [16/50] | Train Loss: 0.0024 | Test Loss: 0.0033 | y_pred mean: 0.2549, std: 0.1174 | y_true mean: 0.2570, std: 0.1255\n",
            "Epoch [17/50] | Train Loss: 0.0020 | Test Loss: 0.0035 | y_pred mean: 0.2574, std: 0.1179 | y_true mean: 0.2570, std: 0.1255\n",
            "Epoch [18/50] | Train Loss: 0.0019 | Test Loss: 0.0031 | y_pred mean: 0.2567, std: 0.1193 | y_true mean: 0.2570, std: 0.1255\n",
            "Epoch [19/50] | Train Loss: 0.0016 | Test Loss: 0.0032 | y_pred mean: 0.2572, std: 0.1195 | y_true mean: 0.2570, std: 0.1255\n",
            "Epoch [20/50] | Train Loss: 0.0016 | Test Loss: 0.0030 | y_pred mean: 0.2572, std: 0.1189 | y_true mean: 0.2570, std: 0.1255\n",
            "Epoch [21/50] | Train Loss: 0.0017 | Test Loss: 0.0030 | y_pred mean: 0.2556, std: 0.1186 | y_true mean: 0.2570, std: 0.1255\n",
            "Epoch [22/50] | Train Loss: 0.0018 | Test Loss: 0.0036 | y_pred mean: 0.2574, std: 0.1205 | y_true mean: 0.2570, std: 0.1255\n",
            "Epoch [23/50] | Train Loss: 0.0016 | Test Loss: 0.0028 | y_pred mean: 0.2571, std: 0.1193 | y_true mean: 0.2570, std: 0.1255\n",
            "Epoch [24/50] | Train Loss: 0.0017 | Test Loss: 0.0028 | y_pred mean: 0.2560, std: 0.1199 | y_true mean: 0.2570, std: 0.1255\n",
            "Epoch [25/50] | Train Loss: 0.0016 | Test Loss: 0.0027 | y_pred mean: 0.2567, std: 0.1190 | y_true mean: 0.2570, std: 0.1255\n",
            "Epoch [26/50] | Train Loss: 0.0016 | Test Loss: 0.0030 | y_pred mean: 0.2568, std: 0.1199 | y_true mean: 0.2570, std: 0.1255\n",
            "Epoch [27/50] | Train Loss: 0.0015 | Test Loss: 0.0032 | y_pred mean: 0.2569, std: 0.1196 | y_true mean: 0.2570, std: 0.1255\n",
            "Epoch [28/50] | Train Loss: 0.0015 | Test Loss: 0.0029 | y_pred mean: 0.2568, std: 0.1195 | y_true mean: 0.2570, std: 0.1255\n",
            "Epoch [29/50] | Train Loss: 0.0015 | Test Loss: 0.0033 | y_pred mean: 0.2564, std: 0.1199 | y_true mean: 0.2570, std: 0.1255\n",
            "Epoch [30/50] | Train Loss: 0.0015 | Test Loss: 0.0029 | y_pred mean: 0.2566, std: 0.1201 | y_true mean: 0.2570, std: 0.1255\n",
            "Epoch [31/50] | Train Loss: 0.0014 | Test Loss: 0.0029 | y_pred mean: 0.2568, std: 0.1200 | y_true mean: 0.2570, std: 0.1255\n",
            "Epoch [32/50] | Train Loss: 0.0014 | Test Loss: 0.0031 | y_pred mean: 0.2571, std: 0.1208 | y_true mean: 0.2570, std: 0.1255\n",
            "Epoch [33/50] | Train Loss: 0.0015 | Test Loss: 0.0035 | y_pred mean: 0.2555, std: 0.1192 | y_true mean: 0.2570, std: 0.1255\n",
            "Epoch [34/50] | Train Loss: 0.0014 | Test Loss: 0.0028 | y_pred mean: 0.2578, std: 0.1199 | y_true mean: 0.2570, std: 0.1255\n",
            "Epoch [35/50] | Train Loss: 0.0014 | Test Loss: 0.0029 | y_pred mean: 0.2565, std: 0.1206 | y_true mean: 0.2570, std: 0.1255\n",
            "Epoch [36/50] | Train Loss: 0.0013 | Test Loss: 0.0031 | y_pred mean: 0.2574, std: 0.1208 | y_true mean: 0.2570, std: 0.1255\n",
            "Epoch [37/50] | Train Loss: 0.0014 | Test Loss: 0.0028 | y_pred mean: 0.2569, std: 0.1201 | y_true mean: 0.2570, std: 0.1255\n",
            "Epoch [38/50] | Train Loss: 0.0013 | Test Loss: 0.0027 | y_pred mean: 0.2564, std: 0.1193 | y_true mean: 0.2570, std: 0.1255\n",
            "Epoch [39/50] | Train Loss: 0.0013 | Test Loss: 0.0029 | y_pred mean: 0.2562, std: 0.1203 | y_true mean: 0.2570, std: 0.1255\n",
            "Epoch [40/50] | Train Loss: 0.0013 | Test Loss: 0.0029 | y_pred mean: 0.2570, std: 0.1206 | y_true mean: 0.2570, std: 0.1255\n",
            "Epoch [41/50] | Train Loss: 0.0013 | Test Loss: 0.0029 | y_pred mean: 0.2573, std: 0.1203 | y_true mean: 0.2570, std: 0.1255\n",
            "Epoch [42/50] | Train Loss: 0.0013 | Test Loss: 0.0028 | y_pred mean: 0.2569, std: 0.1205 | y_true mean: 0.2570, std: 0.1255\n",
            "Epoch [43/50] | Train Loss: 0.0013 | Test Loss: 0.0029 | y_pred mean: 0.2567, std: 0.1208 | y_true mean: 0.2570, std: 0.1255\n",
            "Epoch [44/50] | Train Loss: 0.0013 | Test Loss: 0.0029 | y_pred mean: 0.2561, std: 0.1202 | y_true mean: 0.2570, std: 0.1255\n",
            "Epoch [45/50] | Train Loss: 0.0013 | Test Loss: 0.0029 | y_pred mean: 0.2579, std: 0.1195 | y_true mean: 0.2570, std: 0.1255\n",
            "Epoch [46/50] | Train Loss: 0.0013 | Test Loss: 0.0028 | y_pred mean: 0.2566, std: 0.1211 | y_true mean: 0.2570, std: 0.1255\n",
            "Epoch [47/50] | Train Loss: 0.0013 | Test Loss: 0.0029 | y_pred mean: 0.2566, std: 0.1208 | y_true mean: 0.2570, std: 0.1255\n",
            "Epoch [48/50] | Train Loss: 0.0012 | Test Loss: 0.0030 | y_pred mean: 0.2572, std: 0.1206 | y_true mean: 0.2570, std: 0.1255\n",
            "Epoch [49/50] | Train Loss: 0.0013 | Test Loss: 0.0029 | y_pred mean: 0.2567, std: 0.1201 | y_true mean: 0.2570, std: 0.1255\n",
            "Epoch [50/50] | Train Loss: 0.0013 | Test Loss: 0.0029 | y_pred mean: 0.2568, std: 0.1205 | y_true mean: 0.2570, std: 0.1255\n"
          ]
        }
      ]
    },
    {
      "cell_type": "code",
      "source": [
        "with torch.no_grad():\n",
        "    # 1개 샘플 선택 후 배치 차원 유지\n",
        "    sample_seq, sample_static, _ = train_dataset[0]\n",
        "    sample_seq = sample_seq.unsqueeze(0).to(device)      # (1, T, D_seq)\n",
        "    sample_static = sample_static.unsqueeze(0).to(device)  # (1, D_static)\n",
        "\n",
        "    _, attn_weights = model(sample_seq, sample_static)\n",
        "    print(\"Attention std:\", attn_weights.std().item())\n",
        "    print(\"Attention weights:\", attn_weights)"
      ],
      "metadata": {
        "colab": {
          "base_uri": "https://localhost:8080/"
        },
        "id": "AFNs8nbDivYr",
        "outputId": "6ce9b082-f897-49d6-f95d-84e3bf785762"
      },
      "execution_count": 66,
      "outputs": [
        {
          "output_type": "stream",
          "name": "stdout",
          "text": [
            "Attention std: 0.00043036325951106846\n",
            "Attention weights: tensor([[0.0097, 0.0099, 0.0097, 0.0097, 0.0096, 0.0096, 0.0096, 0.0097, 0.0097,\n",
            "         0.0099, 0.0098, 0.0098, 0.0098, 0.0102, 0.0103, 0.0104, 0.0104, 0.0106,\n",
            "         0.0106, 0.0107, 0.0108, 0.0107, 0.0107, 0.0107, 0.0106, 0.0103, 0.0099,\n",
            "         0.0095, 0.0093, 0.0093, 0.0093, 0.0093, 0.0092, 0.0091, 0.0091, 0.0091,\n",
            "         0.0089, 0.0088, 0.0094, 0.0096, 0.0097, 0.0097, 0.0096, 0.0095, 0.0095,\n",
            "         0.0097, 0.0098, 0.0098, 0.0100, 0.0102, 0.0102, 0.0102, 0.0103, 0.0104,\n",
            "         0.0105, 0.0105, 0.0106, 0.0107, 0.0106, 0.0104, 0.0103, 0.0104, 0.0103,\n",
            "         0.0102, 0.0100, 0.0099, 0.0100, 0.0102, 0.0105, 0.0104, 0.0104, 0.0101,\n",
            "         0.0101, 0.0100, 0.0100, 0.0101, 0.0101, 0.0101, 0.0101, 0.0102, 0.0101,\n",
            "         0.0101, 0.0101, 0.0101, 0.0100, 0.0099, 0.0098, 0.0099, 0.0100, 0.0101,\n",
            "         0.0102, 0.0102, 0.0101, 0.0100, 0.0099, 0.0101, 0.0101, 0.0101, 0.0101,\n",
            "         0.0104]], device='cuda:0')\n"
          ]
        }
      ]
    },
    {
      "cell_type": "markdown",
      "source": [
        "attention이 특정 지점을 더 많이 보는 것이 아니라 전반적으로 같은 수치로 보고있는 문제가 여전히 있음 >> 더 sharpen할 수 있도록 수정 필요 !!!"
      ],
      "metadata": {
        "id": "oSaiOyrdJ3b6"
      }
    },
    {
      "cell_type": "code",
      "source": [
        "input_seq1, static_feat1, y_true1 = test_dataset[0]\n",
        "input_seq2, static_feat2, y_true2 = test_dataset[10]\n",
        "\n",
        "# 배치 차원 추가 (B=1)\n",
        "input_seq1 = input_seq1.unsqueeze(0).to(device)\n",
        "input_seq2 = input_seq2.unsqueeze(0).to(device)\n",
        "static_feat1 = static_feat1.unsqueeze(0).to(device)\n",
        "static_feat2 = static_feat2.unsqueeze(0).to(device)\n",
        "\n",
        "# 모델 호출 시 두 인자 모두 전달\n",
        "out1, _ = model(input_seq1, static_feat1)\n",
        "out2, _ = model(input_seq2, static_feat2)\n",
        "\n",
        "print(\"Prediction difference:\", torch.norm(out1 - out2).item())"
      ],
      "metadata": {
        "colab": {
          "base_uri": "https://localhost:8080/"
        },
        "id": "lkcIXZeLSi0G",
        "outputId": "0b2e2dee-ed0a-4f41-fe3f-3cb4b0c29932"
      },
      "execution_count": 67,
      "outputs": [
        {
          "output_type": "stream",
          "name": "stdout",
          "text": [
            "Prediction difference: 0.12383770942687988\n"
          ]
        }
      ]
    },
    {
      "cell_type": "code",
      "source": [
        "with torch.no_grad():\n",
        "    out, _ = model.lstm(sample_seq)\n",
        "    std_across_time = out.std(dim=1).mean().item()\n",
        "    print(\"LSTM output std (across time steps):\", std_across_time)"
      ],
      "metadata": {
        "colab": {
          "base_uri": "https://localhost:8080/"
        },
        "id": "Nd9L53ECjPF3",
        "outputId": "685f72ca-5225-4967-9166-ec4292ff24ff"
      },
      "execution_count": 70,
      "outputs": [
        {
          "output_type": "stream",
          "name": "stdout",
          "text": [
            "LSTM output std (across time steps): 0.02203509584069252\n"
          ]
        }
      ]
    },
    {
      "cell_type": "code",
      "source": [
        "print(\"y_pred mean:\", y_pred.mean().item())\n",
        "print(\"y_batch mean:\", y_batch.mean().item())"
      ],
      "metadata": {
        "colab": {
          "base_uri": "https://localhost:8080/"
        },
        "id": "cYxvBmAHqhsV",
        "outputId": "0514dff1-574f-4513-c2d1-e95072fe6e0f"
      },
      "execution_count": 71,
      "outputs": [
        {
          "output_type": "stream",
          "name": "stdout",
          "text": [
            "y_pred mean: 0.24098342657089233\n",
            "y_batch mean: 0.23543958365917206\n"
          ]
        }
      ]
    },
    {
      "cell_type": "code",
      "source": [
        "predictions = []\n",
        "true_values = []\n",
        "date_ranges = []\n",
        "future_target = 14\n",
        "\n",
        "target_col = \"target_volatility_14d\"\n",
        "target_idx = test_df.columns.get_loc(target_col)\n",
        "\n",
        "with torch.no_grad():\n",
        "    for batch_idx, (x_seq, x_static, y_true) in enumerate(test_loader):\n",
        "        x_seq = x_seq.to(device)\n",
        "        x_static = x_static.to(device)\n",
        "\n",
        "        y_pred, _ = model(x_seq, x_static)               # (B,)\n",
        "        y_pred = y_pred.squeeze(-1).cpu().numpy()        # (B,)\n",
        "        y_true = y_true.cpu().numpy()                    # (B,)\n",
        "\n",
        "        for i in range(x_seq.size(0)):\n",
        "            global_idx = batch_idx * test_loader.batch_size + i\n",
        "            target_idx_in_df = global_idx * step + data_window + future_target - 1\n",
        "\n",
        "            if target_idx_in_df >= len(test_df):\n",
        "                continue\n",
        "\n",
        "            dummy_pred = np.zeros((1, test_df.shape[1]))\n",
        "            dummy_true = np.zeros((1, test_df.shape[1]))\n",
        "\n",
        "            dummy_pred[0, target_idx] = y_pred[i]\n",
        "            dummy_true[0, target_idx] = y_true[i]\n",
        "\n",
        "            # 역정규화\n",
        "            y_pred_inv = scaler_seq.inverse_transform(dummy_pred)[0, target_idx]\n",
        "            y_true_inv = scaler_seq.inverse_transform(dummy_true)[0, target_idx]\n",
        "\n",
        "            predictions.append(y_pred_inv)\n",
        "            true_values.append(y_true_inv)\n",
        "            date_ranges.append(test_df.index[target_idx_in_df])"
      ],
      "metadata": {
        "id": "xp7a3OJtITmT"
      },
      "execution_count": 78,
      "outputs": []
    },
    {
      "cell_type": "code",
      "source": [
        "print(\"y_pred std:\", np.std(predictions))\n",
        "print(\"y_true std:\", np.std(true_values))"
      ],
      "metadata": {
        "colab": {
          "base_uri": "https://localhost:8080/"
        },
        "id": "6zYktfojfoAI",
        "outputId": "9ec51c56-9e3b-4d55-e4c7-80f3c4743394"
      },
      "execution_count": 79,
      "outputs": [
        {
          "output_type": "stream",
          "name": "stdout",
          "text": [
            "y_pred std: 0.004335628388340252\n",
            "y_true std: 0.0059909263026603115\n"
          ]
        }
      ]
    },
    {
      "cell_type": "code",
      "source": [
        "import matplotlib.pyplot as plt\n",
        "import pandas as pd\n",
        "\n",
        "pred_series = pd.Series(predictions, index=date_ranges)\n",
        "true_series = pd.Series(true_values, index=date_ranges)\n",
        "\n",
        "plt.figure(figsize=(12, 5))\n",
        "plt.plot(true_series.sort_index(), label='Actual 14-day Volatility')\n",
        "plt.plot(pred_series.sort_index(), label='Predicted 14-day Volatility', linestyle='--')\n",
        "plt.title(\"Predicted vs Actual 14-day Volatility\")\n",
        "plt.xlabel(\"Date\")\n",
        "plt.ylabel(\"Volatility (std of log returns)\")\n",
        "plt.grid(True)\n",
        "plt.legend()\n",
        "plt.tight_layout()\n",
        "plt.show()"
      ],
      "metadata": {
        "colab": {
          "base_uri": "https://localhost:8080/",
          "height": 507
        },
        "id": "vqxQRrClSukM",
        "outputId": "1f808531-831b-41fa-ab33-628dfb5b1d2b"
      },
      "execution_count": 80,
      "outputs": [
        {
          "output_type": "display_data",
          "data": {
            "text/plain": [
              "<Figure size 1200x500 with 1 Axes>"
            ],
            "image/png": "[encoded data removed]"
          },
          "metadata": {}
        }
      ]
    },
    {
      "cell_type": "code",
      "source": [
        "df_preds = pd.DataFrame({\n",
        "    \"date\": date_ranges,\n",
        "    \"pred_vol\": predictions,\n",
        "    \"true_vol\": true_values\n",
        "})\n",
        "\n",
        "# 해당 날짜의 실제 가격 정보 추가\n",
        "df_preds[\"price\"] = df.loc[df_preds[\"date\"], \"Coffee_Price\"].values\n",
        "\n",
        "# 인덱스를 날짜로 지정\n",
        "df_preds.set_index(\"date\", inplace=True)"
      ],
      "metadata": {
        "id": "0PYRVtBpMlER"
      },
      "execution_count": 84,
      "outputs": []
    },
    {
      "cell_type": "code",
      "source": [
        "df_preds"
      ],
      "metadata": {
        "colab": {
          "base_uri": "https://localhost:8080/",
          "height": 455
        },
        "id": "5GTeyXU5MmYP",
        "outputId": "ab654072-1794-4757-be21-8e31ba1a6381"
      },
      "execution_count": 85,
      "outputs": [
        {
          "output_type": "execute_result",
          "data": {
            "text/plain": [
              "            pred_vol  true_vol       price\n",
              "date                                      \n",
              "2023-07-12  0.014854  0.010015  158.750000\n",
              "2023-07-13  0.014484  0.009592  159.350006\n",
              "2023-07-14  0.013414  0.009515  161.949997\n",
              "2023-07-16  0.013306  0.008991  161.949997\n",
              "2023-07-17  0.013256  0.014565  154.750000\n",
              "...              ...       ...         ...\n",
              "2023-12-06  0.026480  0.029339  185.250000\n",
              "2023-12-07  0.026793  0.027759  185.500000\n",
              "2023-12-08  0.025757  0.026011  185.149994\n",
              "2023-12-11  0.026657  0.028280  194.000000\n",
              "2023-12-12  0.027751  0.028802  191.149994\n",
              "\n",
              "[125 rows x 3 columns]"
            ],
            "text/html": [
              "\n",
              "  <div id=\"df-fd2a9689-8765-49fc-b634-17613394cfb0\" class=\"colab-df-container\">\n",
              "    <div>\n",
              "<style scoped>\n",
              "    .dataframe tbody tr th:only-of-type {\n",
              "        vertical-align: middle;\n",
              "    }\n",
              "\n",
              "    .dataframe tbody tr th {\n",
              "        vertical-align: top;\n",
              "    }\n",
              "\n",
              "    .dataframe thead th {\n",
              "        text-align: right;\n",
              "    }\n",
              "</style>\n",
              "<table border=\"1\" class=\"dataframe\">\n",
              "  <thead>\n",
              "    <tr style=\"text-align: right;\">\n",
              "      <th></th>\n",
              "      <th>pred_vol</th>\n",
              "      <th>true_vol</th>\n",
              "      <th>price</th>\n",
              "    </tr>\n",
              "    <tr>\n",
              "      <th>date</th>\n",
              "      <th></th>\n",
              "      <th></th>\n",
              "      <th></th>\n",
              "    </tr>\n",
              "  </thead>\n",
              "  <tbody>\n",
              "    <tr>\n",
              "      <th>2023-07-12</th>\n",
              "      <td>0.014854</td>\n",
              "      <td>0.010015</td>\n",
              "      <td>158.750000</td>\n",
              "    </tr>\n",
              "    <tr>\n",
              "      <th>2023-07-13</th>\n",
              "      <td>0.014484</td>\n",
              "      <td>0.009592</td>\n",
              "      <td>159.350006</td>\n",
              "    </tr>\n",
              "    <tr>\n",
              "      <th>2023-07-14</th>\n",
              "      <td>0.013414</td>\n",
              "      <td>0.009515</td>\n",
              "      <td>161.949997</td>\n",
              "    </tr>\n",
              "    <tr>\n",
              "      <th>2023-07-16</th>\n",
              "      <td>0.013306</td>\n",
              "      <td>0.008991</td>\n",
              "      <td>161.949997</td>\n",
              "    </tr>\n",
              "    <tr>\n",
              "      <th>2023-07-17</th>\n",
              "      <td>0.013256</td>\n",
              "      <td>0.014565</td>\n",
              "      <td>154.750000</td>\n",
              "    </tr>\n",
              "    <tr>\n",
              "      <th>...</th>\n",
              "      <td>...</td>\n",
              "      <td>...</td>\n",
              "      <td>...</td>\n",
              "    </tr>\n",
              "    <tr>\n",
              "      <th>2023-12-06</th>\n",
              "      <td>0.026480</td>\n",
              "      <td>0.029339</td>\n",
              "      <td>185.250000</td>\n",
              "    </tr>\n",
              "    <tr>\n",
              "      <th>2023-12-07</th>\n",
              "      <td>0.026793</td>\n",
              "      <td>0.027759</td>\n",
              "      <td>185.500000</td>\n",
              "    </tr>\n",
              "    <tr>\n",
              "      <th>2023-12-08</th>\n",
              "      <td>0.025757</td>\n",
              "      <td>0.026011</td>\n",
              "      <td>185.149994</td>\n",
              "    </tr>\n",
              "    <tr>\n",
              "      <th>2023-12-11</th>\n",
              "      <td>0.026657</td>\n",
              "      <td>0.028280</td>\n",
              "      <td>194.000000</td>\n",
              "    </tr>\n",
              "    <tr>\n",
              "      <th>2023-12-12</th>\n",
              "      <td>0.027751</td>\n",
              "      <td>0.028802</td>\n",
              "      <td>191.149994</td>\n",
              "    </tr>\n",
              "  </tbody>\n",
              "</table>\n",
              "<p>125 rows × 3 columns</p>\n",
              "</div>\n",
              "    <div class=\"colab-df-buttons\">\n",
              "\n",
              "  <div class=\"colab-df-container\">\n",
              "    <button class=\"colab-df-convert\" onclick=\"convertToInteractive('df-fd2a9689-8765-49fc-b634-17613394cfb0')\"\n",
              "            title=\"Convert this dataframe to an interactive table.\"\n",
              "            style=\"display:none;\">\n",
              "\n",
              "  <svg xmlns=\"http://www.w3.org/2000/svg\" height=\"24px\" viewBox=\"0 -960 960 960\">\n",
              "    <path d=\"M120-120v-720h720v720H120Zm60-500h600v-160H180v160Zm220 220h160v-160H400v160Zm0 220h160v-160H400v160ZM180-400h160v-160H180v160Zm440 0h160v-160H620v160ZM180-180h160v-160H180v160Zm440 0h160v-160H620v160Z\"/>\n",
              "  </svg>\n",
              "    </button>\n",
              "\n",
              "  <style>\n",
              "    .colab-df-container {\n",
              "      display:flex;\n",
              "      gap: 12px;\n",
              "    }\n",
              "\n",
              "    .colab-df-convert {\n",
              "      background-color: #E8F0FE;\n",
              "      border: none;\n",
              "      border-radius: 50%;\n",
              "      cursor: pointer;\n",
              "      display: none;\n",
              "      fill: #1967D2;\n",
              "      height: 32px;\n",
              "      padding: 0 0 0 0;\n",
              "      width: 32px;\n",
              "    }\n",
              "\n",
              "    .colab-df-convert:hover {\n",
              "      background-color: #E2EBFA;\n",
              "      box-shadow: 0px 1px 2px rgba(60, 64, 67, 0.3), 0px 1px 3px 1px rgba(60, 64, 67, 0.15);\n",
              "      fill: #174EA6;\n",
              "    }\n",
              "\n",
              "    .colab-df-buttons div {\n",
              "      margin-bottom: 4px;\n",
              "    }\n",
              "\n",
              "    [theme=dark] .colab-df-convert {\n",
              "      background-color: #3B4455;\n",
              "      fill: #D2E3FC;\n",
              "    }\n",
              "\n",
              "    [theme=dark] .colab-df-convert:hover {\n",
              "      background-color: #434B5C;\n",
              "      box-shadow: 0px 1px 3px 1px rgba(0, 0, 0, 0.15);\n",
              "      filter: drop-shadow(0px 1px 2px rgba(0, 0, 0, 0.3));\n",
              "      fill: #FFFFFF;\n",
              "    }\n",
              "  </style>\n",
              "\n",
              "    <script>\n",
              "      const buttonEl =\n",
              "        document.querySelector('#df-fd2a9689-8765-49fc-b634-17613394cfb0 button.colab-df-convert');\n",
              "      buttonEl.style.display =\n",
              "        google.colab.kernel.accessAllowed ? 'block' : 'none';\n",
              "\n",
              "      async function convertToInteractive(key) {\n",
              "        const element = document.querySelector('#df-fd2a9689-8765-49fc-b634-17613394cfb0');\n",
              "        const dataTable =\n",
              "          await google.colab.kernel.invokeFunction('convertToInteractive',\n",
              "                                                    [key], {});\n",
              "        if (!dataTable) return;\n",
              "\n",
              "        const docLinkHtml = 'Like what you see? Visit the ' +\n",
              "          '<a target=\"_blank\" href=https://colab.research.google.com/notebooks/data_table.ipynb>data table notebook</a>'\n",
              "          + ' to learn more about interactive tables.';\n",
              "        element.innerHTML = '';\n",
              "        dataTable['output_type'] = 'display_data';\n",
              "        await google.colab.output.renderOutput(dataTable, element);\n",
              "        const docLink = document.createElement('div');\n",
              "        docLink.innerHTML = docLinkHtml;\n",
              "        element.appendChild(docLink);\n",
              "      }\n",
              "    </script>\n",
              "  </div>\n",
              "\n",
              "\n",
              "    <div id=\"df-d1b330fc-be8c-4067-a30e-e2d9f2b46201\">\n",
              "      <button class=\"colab-df-quickchart\" onclick=\"quickchart('df-d1b330fc-be8c-4067-a30e-e2d9f2b46201')\"\n",
              "                title=\"Suggest charts\"\n",
              "                style=\"display:none;\">\n",
              "\n",
              "<svg xmlns=\"http://www.w3.org/2000/svg\" height=\"24px\"viewBox=\"0 0 24 24\"\n",
              "     width=\"24px\">\n",
              "    <g>\n",
              "        <path d=\"M19 3H5c-1.1 0-2 .9-2 2v14c0 1.1.9 2 2 2h14c1.1 0 2-.9 2-2V5c0-1.1-.9-2-2-2zM9 17H7v-7h2v7zm4 0h-2V7h2v10zm4 0h-2v-4h2v4z\"/>\n",
              "    </g>\n",
              "</svg>\n",
              "      </button>\n",
              "\n",
              "<style>\n",
              "  .colab-df-quickchart {\n",
              "      --bg-color: #E8F0FE;\n",
              "      --fill-color: #1967D2;\n",
              "      --hover-bg-color: #E2EBFA;\n",
              "      --hover-fill-color: #174EA6;\n",
              "      --disabled-fill-color: #AAA;\n",
              "      --disabled-bg-color: #DDD;\n",
              "  }\n",
              "\n",
              "  [theme=dark] .colab-df-quickchart {\n",
              "      --bg-color: #3B4455;\n",
              "      --fill-color: #D2E3FC;\n",
              "      --hover-bg-color: #434B5C;\n",
              "      --hover-fill-color: #FFFFFF;\n",
              "      --disabled-bg-color: #3B4455;\n",
              "      --disabled-fill-color: #666;\n",
              "  }\n",
              "\n",
              "  .colab-df-quickchart {\n",
              "    background-color: var(--bg-color);\n",
              "    border: none;\n",
              "    border-radius: 50%;\n",
              "    cursor: pointer;\n",
              "    display: none;\n",
              "    fill: var(--fill-color);\n",
              "    height: 32px;\n",
              "    padding: 0;\n",
              "    width: 32px;\n",
              "  }\n",
              "\n",
              "  .colab-df-quickchart:hover {\n",
              "    background-color: var(--hover-bg-color);\n",
              "    box-shadow: 0 1px 2px rgba(60, 64, 67, 0.3), 0 1px 3px 1px rgba(60, 64, 67, 0.15);\n",
              "    fill: var(--button-hover-fill-color);\n",
              "  }\n",
              "\n",
              "  .colab-df-quickchart-complete:disabled,\n",
              "  .colab-df-quickchart-complete:disabled:hover {\n",
              "    background-color: var(--disabled-bg-color);\n",
              "    fill: var(--disabled-fill-color);\n",
              "    box-shadow: none;\n",
              "  }\n",
              "\n",
              "  .colab-df-spinner {\n",
              "    border: 2px solid var(--fill-color);\n",
              "    border-color: transparent;\n",
              "    border-bottom-color: var(--fill-color);\n",
              "    animation:\n",
              "      spin 1s steps(1) infinite;\n",
              "  }\n",
              "\n",
              "  @keyframes spin {\n",
              "    0% {\n",
              "      border-color: transparent;\n",
              "      border-bottom-color: var(--fill-color);\n",
              "      border-left-color: var(--fill-color);\n",
              "    }\n",
              "    20% {\n",
              "      border-color: transparent;\n",
              "      border-left-color: var(--fill-color);\n",
              "      border-top-color: var(--fill-color);\n",
              "    }\n",
              "    30% {\n",
              "      border-color: transparent;\n",
              "      border-left-color: var(--fill-color);\n",
              "      border-top-color: var(--fill-color);\n",
              "      border-right-color: var(--fill-color);\n",
              "    }\n",
              "    40% {\n",
              "      border-color: transparent;\n",
              "      border-right-color: var(--fill-color);\n",
              "      border-top-color: var(--fill-color);\n",
              "    }\n",
              "    60% {\n",
              "      border-color: transparent;\n",
              "      border-right-color: var(--fill-color);\n",
              "    }\n",
              "    80% {\n",
              "      border-color: transparent;\n",
              "      border-right-color: var(--fill-color);\n",
              "      border-bottom-color: var(--fill-color);\n",
              "    }\n",
              "    90% {\n",
              "      border-color: transparent;\n",
              "      border-bottom-color: var(--fill-color);\n",
              "    }\n",
              "  }\n",
              "</style>\n",
              "\n",
              "      <script>\n",
              "        async function quickchart(key) {\n",
              "          const quickchartButtonEl =\n",
              "            document.querySelector('#' + key + ' button');\n",
              "          quickchartButtonEl.disabled = true;  // To prevent multiple clicks.\n",
              "          quickchartButtonEl.classList.add('colab-df-spinner');\n",
              "          try {\n",
              "            const charts = await google.colab.kernel.invokeFunction(\n",
              "                'suggestCharts', [key], {});\n",
              "          } catch (error) {\n",
              "            console.error('Error during call to suggestCharts:', error);\n",
              "          }\n",
              "          quickchartButtonEl.classList.remove('colab-df-spinner');\n",
              "          quickchartButtonEl.classList.add('colab-df-quickchart-complete');\n",
              "        }\n",
              "        (() => {\n",
              "          let quickchartButtonEl =\n",
              "            document.querySelector('#df-d1b330fc-be8c-4067-a30e-e2d9f2b46201 button');\n",
              "          quickchartButtonEl.style.display =\n",
              "            google.colab.kernel.accessAllowed ? 'block' : 'none';\n",
              "        })();\n",
              "      </script>\n",
              "    </div>\n",
              "\n",
              "  <div id=\"id_69e10f84-b106-4bc0-b7c3-4fa5e4ffa0c5\">\n",
              "    <style>\n",
              "      .colab-df-generate {\n",
              "        background-color: #E8F0FE;\n",
              "        border: none;\n",
              "        border-radius: 50%;\n",
              "        cursor: pointer;\n",
              "        display: none;\n",
              "        fill: #1967D2;\n",
              "        height: 32px;\n",
              "        padding: 0 0 0 0;\n",
              "        width: 32px;\n",
              "      }\n",
              "\n",
              "      .colab-df-generate:hover {\n",
              "        background-color: #E2EBFA;\n",
              "        box-shadow: 0px 1px 2px rgba(60, 64, 67, 0.3), 0px 1px 3px 1px rgba(60, 64, 67, 0.15);\n",
              "        fill: #174EA6;\n",
              "      }\n",
              "\n",
              "      [theme=dark] .colab-df-generate {\n",
              "        background-color: #3B4455;\n",
              "        fill: #D2E3FC;\n",
              "      }\n",
              "\n",
              "      [theme=dark] .colab-df-generate:hover {\n",
              "        background-color: #434B5C;\n",
              "        box-shadow: 0px 1px 3px 1px rgba(0, 0, 0, 0.15);\n",
              "        filter: drop-shadow(0px 1px 2px rgba(0, 0, 0, 0.3));\n",
              "        fill: #FFFFFF;\n",
              "      }\n",
              "    </style>\n",
              "    <button class=\"colab-df-generate\" onclick=\"generateWithVariable('df_preds')\"\n",
              "            title=\"Generate code using this dataframe.\"\n",
              "            style=\"display:none;\">\n",
              "\n",
              "  <svg xmlns=\"http://www.w3.org/2000/svg\" height=\"24px\"viewBox=\"0 0 24 24\"\n",
              "       width=\"24px\">\n",
              "    <path d=\"M7,19H8.4L18.45,9,17,7.55,7,17.6ZM5,21V16.75L18.45,3.32a2,2,0,0,1,2.83,0l1.4,1.43a1.91,1.91,0,0,1,.58,1.4,1.91,1.91,0,0,1-.58,1.4L9.25,21ZM18.45,9,17,7.55Zm-12,3A5.31,5.31,0,0,0,4.9,8.1,5.31,5.31,0,0,0,1,6.5,5.31,5.31,0,0,0,4.9,4.9,5.31,5.31,0,0,0,6.5,1,5.31,5.31,0,0,0,8.1,4.9,5.31,5.31,0,0,0,12,6.5,5.46,5.46,0,0,0,6.5,12Z\"/>\n",
              "  </svg>\n",
              "    </button>\n",
              "    <script>\n",
              "      (() => {\n",
              "      const buttonEl =\n",
              "        document.querySelector('#id_69e10f84-b106-4bc0-b7c3-4fa5e4ffa0c5 button.colab-df-generate');\n",
              "      buttonEl.style.display =\n",
              "        google.colab.kernel.accessAllowed ? 'block' : 'none';\n",
              "\n",
              "      buttonEl.onclick = () => {\n",
              "        google.colab.notebook.generateWithVariable('df_preds');\n",
              "      }\n",
              "      })();\n",
              "    </script>\n",
              "  </div>\n",
              "\n",
              "    </div>\n",
              "  </div>\n"
            ],
            "application/vnd.google.colaboratory.intrinsic+json": {
              "type": "dataframe",
              "variable_name": "df_preds",
              "summary": "{\n  \"name\": \"df_preds\",\n  \"rows\": 125,\n  \"fields\": [\n    {\n      \"column\": \"date\",\n      \"properties\": {\n        \"dtype\": \"date\",\n        \"min\": \"2023-07-12 00:00:00\",\n        \"max\": \"2023-12-12 00:00:00\",\n        \"num_unique_values\": 125,\n        \"samples\": [\n          \"2023-08-02 00:00:00\",\n          \"2023-08-30 00:00:00\",\n          \"2023-08-23 00:00:00\"\n        ],\n        \"semantic_type\": \"\",\n        \"description\": \"\"\n      }\n    },\n    {\n      \"column\": \"pred_vol\",\n      \"properties\": {\n        \"dtype\": \"number\",\n        \"std\": 0.004353075655566601,\n        \"min\": 0.013255925908413976,\n        \"max\": 0.028873819912193337,\n        \"num_unique_values\": 125,\n        \"samples\": [\n          0.02063652728077882,\n          0.01779849482744255,\n          0.016027621035898266\n        ],\n        \"semantic_type\": \"\",\n        \"description\": \"\"\n      }\n    },\n    {\n      \"column\": \"true_vol\",\n      \"properties\": {\n        \"dtype\": \"number\",\n        \"std\": 0.006015034755408931,\n        \"min\": 0.008990975771882178,\n        \"max\": 0.029885215148282962,\n        \"num_unique_values\": 125,\n        \"samples\": [\n          0.01866055004166592,\n          0.013600955687855742,\n          0.017935609373133595\n        ],\n        \"semantic_type\": \"\",\n        \"description\": \"\"\n      }\n    },\n    {\n      \"column\": \"price\",\n      \"properties\": {\n        \"dtype\": \"number\",\n        \"std\": 12.763913134642275,\n        \"min\": 145.39999389648438,\n        \"max\": 195.0,\n        \"num_unique_values\": 99,\n        \"samples\": [\n          154.14999389648438,\n          150.6999969482422,\n          185.5\n        ],\n        \"semantic_type\": \"\",\n        \"description\": \"\"\n      }\n    }\n  ]\n}"
            }
          },
          "metadata": {},
          "execution_count": 85
        }
      ]
    },
    {
      "cell_type": "code",
      "source": [
        "import matplotlib.pyplot as plt\n",
        "import seaborn as sns\n",
        "import numpy as np\n",
        "import pandas as pd\n",
        "\n",
        "# ① 예측 변동성 기반 가격 시뮬레이션 함수\n",
        "def simulate_price_curve(start_date, predicted_volatility, base_price, num_days=14):\n",
        "    np.random.seed(0)\n",
        "    simulated_returns = np.random.normal(loc=0.0, scale=predicted_volatility, size=num_days)\n",
        "    prices = base_price * np.exp(np.cumsum(simulated_returns))\n",
        "    date_range = pd.date_range(start=start_date, periods=num_days)\n",
        "    return pd.Series(prices, index=date_range)\n",
        "\n",
        "def plot_price_simulation_curve(df, index=0):\n",
        "    date = df.index[index]\n",
        "    vol = df.iloc[index][\"pred_vol\"]\n",
        "    price = df.iloc[index][\"price\"]\n",
        "    sim_curve = simulate_price_curve(date, vol, price)\n",
        "    plt.figure(figsize=(10, 4))\n",
        "    plt.plot(sim_curve.index, sim_curve.values, label='Simulated Price')\n",
        "    plt.title(f\"Simulated Price from {date.date()} (vol={vol:.4f})\")\n",
        "    plt.xlabel(\"Date\")\n",
        "    plt.ylabel(\"Simulated Price\")\n",
        "    plt.legend()\n",
        "    plt.grid(True)\n",
        "    plt.tight_layout()\n",
        "    plt.show()"
      ],
      "metadata": {
        "id": "Fdt8LyCsMILK"
      },
      "execution_count": 86,
      "outputs": []
    },
    {
      "cell_type": "code",
      "source": [
        "plot_price_simulation_curve(df_preds, index=0)"
      ],
      "metadata": {
        "colab": {
          "base_uri": "https://localhost:8080/",
          "height": 407
        },
        "id": "NGBkpEM1M5zg",
        "outputId": "c2f76bcd-9874-4c8c-8c17-2cdb77c20c00"
      },
      "execution_count": 87,
      "outputs": [
        {
          "output_type": "display_data",
          "data": {
            "text/plain": [
              "<Figure size 1000x400 with 1 Axes>"
            ],
            "image/png": "[encoded data removed]"
          },
          "metadata": {}
        }
      ]
    },
    {
      "cell_type": "code",
      "source": [
        "import numpy as np\n",
        "from sklearn.metrics import mean_squared_error, mean_absolute_error\n",
        "\n",
        "y_pred = np.array(predictions)\n",
        "y_true = np.array(true_values)\n",
        "\n",
        "# RMSE (Root Mean Squared Error)\n",
        "rmse = np.sqrt(mean_squared_error(y_true, y_pred))\n",
        "\n",
        "# MAE (Mean Absolute Error)\n",
        "mae = mean_absolute_error(y_true, y_pred)\n",
        "\n",
        "print(f\"RMSE: {rmse:.4f}\")\n",
        "print(f\"MAE:  {mae:.4f}\")"
      ],
      "metadata": {
        "colab": {
          "base_uri": "https://localhost:8080/"
        },
        "id": "7UyVr3N5OSr1",
        "outputId": "9bc77881-ba16-4e0e-b372-a2a175a7735d"
      },
      "execution_count": 88,
      "outputs": [
        {
          "output_type": "stream",
          "name": "stdout",
          "text": [
            "RMSE: 0.0027\n",
            "MAE:  0.0021\n"
          ]
        }
      ]
    },
    {
      "cell_type": "markdown",
      "source": [
        "일관되게 낮은 오차 내고있음"
      ],
      "metadata": {
        "id": "vPgPtOtKOkq_"
      }
    }
  ]
}