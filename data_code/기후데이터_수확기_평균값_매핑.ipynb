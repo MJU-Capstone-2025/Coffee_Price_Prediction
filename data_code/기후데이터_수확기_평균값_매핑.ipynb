{
  "nbformat": 4,
  "nbformat_minor": 0,
  "metadata": {
    "colab": {
      "provenance": []
    },
    "kernelspec": {
      "name": "python3",
      "display_name": "Python 3"
    },
    "language_info": {
      "name": "python"
    }
  },
  "cells": [
    {
      "cell_type": "code",
      "execution_count": 1,
      "metadata": {
        "id": "RkIPh-4OUrcz"
      },
      "outputs": [],
      "source": [
        "import pandas as pd\n",
        "df = pd.read_csv(\"/content/drive/MyDrive/캡스톤/weather.csv\")"
      ]
    },
    {
      "cell_type": "code",
      "source": [
        "pd.set_option('display.max_columns', None)"
      ],
      "metadata": {
        "id": "kdhfo6aTUxy_"
      },
      "execution_count": 2,
      "outputs": []
    },
    {
      "cell_type": "code",
      "source": [
        "df['season_tag'].unique()"
      ],
      "metadata": {
        "colab": {
          "base_uri": "https://localhost:8080/"
        },
        "id": "HFtMHrhVQg1Z",
        "outputId": "53319fa1-8e12-4031-f0d5-1e74cae8bb8b"
      },
      "execution_count": 3,
      "outputs": [
        {
          "output_type": "execute_result",
          "data": {
            "text/plain": [
              "array(['off-season', 'pre-harvest', 'harvest', 'sub_harvest'],\n",
              "      dtype=object)"
            ]
          },
          "metadata": {},
          "execution_count": 3
        }
      ]
    },
    {
      "cell_type": "code",
      "source": [
        "df = df.drop(columns=['days_until_harvest'])"
      ],
      "metadata": {
        "id": "07rQup6i4OBz"
      },
      "execution_count": 4,
      "outputs": []
    },
    {
      "cell_type": "code",
      "source": [
        "df_melted = df.melt(id_vars=[\"Date\", \"locationName\"], var_name=\"Indicator\", value_name=\"Value\")\n",
        "df_transformed = df_melted.pivot(index=\"Date\", columns=[\"locationName\", \"Indicator\"], values=\"Value\").reset_index()\n",
        "\n",
        "# MultiIndex 컬럼을 단일 컬럼명(\"지명_지표\")으로 변환\n",
        "df_transformed.columns = [\"Date\"] + [f\"{country}_{indicator}\" for country, indicator in df_transformed.columns[1:]]"
      ],
      "metadata": {
        "id": "pd_bmPX4U27V"
      },
      "execution_count": 5,
      "outputs": []
    },
    {
      "cell_type": "markdown",
      "source": [
        "기후데이터의 결측치 처리"
      ],
      "metadata": {
        "id": "1dBFQ3NBcEBw"
      }
    },
    {
      "cell_type": "code",
      "source": [
        "df_transformed.fillna(method='ffill', inplace=True)  # 이전 값으로 대체\n",
        "df_transformed.fillna(method='bfill', inplace=True)  # 다음 값으로 대체"
      ],
      "metadata": {
        "colab": {
          "base_uri": "https://localhost:8080/"
        },
        "id": "flNXj7bzb565",
        "outputId": "929eca2e-6d12-4668-eea3-7aa4f1b5d382"
      },
      "execution_count": 6,
      "outputs": [
        {
          "output_type": "stream",
          "name": "stderr",
          "text": [
            "<ipython-input-6-ae7ae87fef9a>:1: FutureWarning: DataFrame.fillna with 'method' is deprecated and will raise in a future version. Use obj.ffill() or obj.bfill() instead.\n",
            "  df_transformed.fillna(method='ffill', inplace=True)  # 이전 값으로 대체\n",
            "<ipython-input-6-ae7ae87fef9a>:1: FutureWarning: Downcasting object dtype arrays on .fillna, .ffill, .bfill is deprecated and will change in a future version. Call result.infer_objects(copy=False) instead. To opt-in to the future behavior, set `pd.set_option('future.no_silent_downcasting', True)`\n",
            "  df_transformed.fillna(method='ffill', inplace=True)  # 이전 값으로 대체\n",
            "<ipython-input-6-ae7ae87fef9a>:2: FutureWarning: DataFrame.fillna with 'method' is deprecated and will raise in a future version. Use obj.ffill() or obj.bfill() instead.\n",
            "  df_transformed.fillna(method='bfill', inplace=True)  # 다음 값으로 대체\n"
          ]
        }
      ]
    },
    {
      "cell_type": "code",
      "source": [
        "df_transformed.isna().sum().sum()"
      ],
      "metadata": {
        "colab": {
          "base_uri": "https://localhost:8080/"
        },
        "id": "z5916GtccNyY",
        "outputId": "de1e0c92-9c46-4024-f084-3e7d3aa377d8"
      },
      "execution_count": 7,
      "outputs": [
        {
          "output_type": "execute_result",
          "data": {
            "text/plain": [
              "np.int64(0)"
            ]
          },
          "metadata": {},
          "execution_count": 7
        }
      ]
    },
    {
      "cell_type": "markdown",
      "source": [
        "가장 최근 수확기의 평균 값이 매핑될 수 있도록 함"
      ],
      "metadata": {
        "id": "39Fd29X4477Z"
      }
    },
    {
      "cell_type": "code",
      "source": [
        "weather_vars = [col for col in df_transformed.columns if col not in ['Date'] and not col.endswith('season_tag')]"
      ],
      "metadata": {
        "id": "bnmoQhwIV9y9"
      },
      "execution_count": 8,
      "outputs": []
    },
    {
      "cell_type": "code",
      "source": [
        "weather_vars"
      ],
      "metadata": {
        "colab": {
          "base_uri": "https://localhost:8080/"
        },
        "collapsed": true,
        "id": "mlSA4CV3V_3K",
        "outputId": "2eb0a82d-ad6d-49a2-f559-da627e162c04"
      },
      "execution_count": 9,
      "outputs": [
        {
          "output_type": "execute_result",
          "data": {
            "text/plain": [
              "['brazil_varginha_T2M',\n",
              " 'brazil_carmo_de_minas_T2M',\n",
              " 'brazil_patrocinio_T2M',\n",
              " 'ethiopia_limu_T2M',\n",
              " 'ethiopia_sidamo_T2M',\n",
              " 'ethiopia_yirgacheffe_T2M',\n",
              " 'colombia_manizales_T2M',\n",
              " 'colombia_armenia_T2M',\n",
              " 'colombia_pereira_T2M',\n",
              " 'brazil_varginha_WS2M',\n",
              " 'brazil_carmo_de_minas_WS2M',\n",
              " 'brazil_patrocinio_WS2M',\n",
              " 'ethiopia_limu_WS2M',\n",
              " 'ethiopia_sidamo_WS2M',\n",
              " 'ethiopia_yirgacheffe_WS2M',\n",
              " 'colombia_manizales_WS2M',\n",
              " 'colombia_armenia_WS2M',\n",
              " 'colombia_pereira_WS2M',\n",
              " 'brazil_varginha_ALLSKY_SFC_SW_DWN',\n",
              " 'brazil_carmo_de_minas_ALLSKY_SFC_SW_DWN',\n",
              " 'brazil_patrocinio_ALLSKY_SFC_SW_DWN',\n",
              " 'ethiopia_limu_ALLSKY_SFC_SW_DWN',\n",
              " 'ethiopia_sidamo_ALLSKY_SFC_SW_DWN',\n",
              " 'ethiopia_yirgacheffe_ALLSKY_SFC_SW_DWN',\n",
              " 'colombia_manizales_ALLSKY_SFC_SW_DWN',\n",
              " 'colombia_armenia_ALLSKY_SFC_SW_DWN',\n",
              " 'colombia_pereira_ALLSKY_SFC_SW_DWN',\n",
              " 'brazil_varginha_ALLSKY_SFC_UV_INDEX',\n",
              " 'brazil_carmo_de_minas_ALLSKY_SFC_UV_INDEX',\n",
              " 'brazil_patrocinio_ALLSKY_SFC_UV_INDEX',\n",
              " 'ethiopia_limu_ALLSKY_SFC_UV_INDEX',\n",
              " 'ethiopia_sidamo_ALLSKY_SFC_UV_INDEX',\n",
              " 'ethiopia_yirgacheffe_ALLSKY_SFC_UV_INDEX',\n",
              " 'colombia_manizales_ALLSKY_SFC_UV_INDEX',\n",
              " 'colombia_armenia_ALLSKY_SFC_UV_INDEX',\n",
              " 'colombia_pereira_ALLSKY_SFC_UV_INDEX',\n",
              " 'brazil_varginha_PRECTOTCORR',\n",
              " 'brazil_carmo_de_minas_PRECTOTCORR',\n",
              " 'brazil_patrocinio_PRECTOTCORR',\n",
              " 'ethiopia_limu_PRECTOTCORR',\n",
              " 'ethiopia_sidamo_PRECTOTCORR',\n",
              " 'ethiopia_yirgacheffe_PRECTOTCORR',\n",
              " 'colombia_manizales_PRECTOTCORR',\n",
              " 'colombia_armenia_PRECTOTCORR',\n",
              " 'colombia_pereira_PRECTOTCORR',\n",
              " 'brazil_varginha_RH2M',\n",
              " 'brazil_carmo_de_minas_RH2M',\n",
              " 'brazil_patrocinio_RH2M',\n",
              " 'ethiopia_limu_RH2M',\n",
              " 'ethiopia_sidamo_RH2M',\n",
              " 'ethiopia_yirgacheffe_RH2M',\n",
              " 'colombia_manizales_RH2M',\n",
              " 'colombia_armenia_RH2M',\n",
              " 'colombia_pereira_RH2M',\n",
              " 'brazil_varginha_PS',\n",
              " 'brazil_carmo_de_minas_PS',\n",
              " 'brazil_patrocinio_PS',\n",
              " 'ethiopia_limu_PS',\n",
              " 'ethiopia_sidamo_PS',\n",
              " 'ethiopia_yirgacheffe_PS',\n",
              " 'colombia_manizales_PS',\n",
              " 'colombia_armenia_PS',\n",
              " 'colombia_pereira_PS']"
            ]
          },
          "metadata": {},
          "execution_count": 9
        }
      ]
    },
    {
      "cell_type": "code",
      "source": [
        "season_tag_cols = [col for col in df_transformed.columns if col.endswith('season_tag')]\n",
        "season_tag_cols"
      ],
      "metadata": {
        "colab": {
          "base_uri": "https://localhost:8080/"
        },
        "id": "5GC0IY3zWMQM",
        "outputId": "4e4434e9-3cf2-480a-a762-289e5605c037"
      },
      "execution_count": null,
      "outputs": [
        {
          "output_type": "execute_result",
          "data": {
            "text/plain": [
              "['brazil_varginha_season_tag',\n",
              " 'brazil_carmo_de_minas_season_tag',\n",
              " 'brazil_patrocinio_season_tag',\n",
              " 'ethiopia_limu_season_tag',\n",
              " 'ethiopia_sidamo_season_tag',\n",
              " 'ethiopia_yirgacheffe_season_tag',\n",
              " 'colombia_manizales_season_tag',\n",
              " 'colombia_armenia_season_tag',\n",
              " 'colombia_pereira_season_tag']"
            ]
          },
          "metadata": {},
          "execution_count": 14
        }
      ]
    },
    {
      "cell_type": "code",
      "source": [
        "def find_harvest_blocks(series: pd.Series):\n",
        "    \"\"\"연속된 harvest 구간을 블록 단위로 나눔\"\"\"\n",
        "    blocks = []\n",
        "    in_block = False\n",
        "    start = None\n",
        "\n",
        "    for i in range(len(series)):\n",
        "        if series.iloc[i] == 'harvest':\n",
        "            if not in_block:\n",
        "                start = series.index[i]\n",
        "                in_block = True\n",
        "        else:\n",
        "            if in_block:\n",
        "                end = series.index[i - 1]\n",
        "                blocks.append((start, end))\n",
        "                in_block = False\n",
        "\n",
        "    # 마지막까지 harvest면 마무리\n",
        "    if in_block:\n",
        "        end = series.index[-1]\n",
        "        blocks.append((start, end))\n",
        "    return blocks"
      ],
      "metadata": {
        "id": "09QU9kvuXbeF"
      },
      "execution_count": null,
      "outputs": []
    },
    {
      "cell_type": "code",
      "source": [
        "harvest_info = {}\n",
        "\n",
        "for season_col in season_tag_cols:\n",
        "    region = season_col.replace('_season_tag', '')\n",
        "    region_weather_cols = [col for col in weather_vars if col.startswith(region)]\n",
        "\n",
        "    tag_series = df_transformed.set_index('Date')[season_col]\n",
        "    blocks = find_harvest_blocks(tag_series)\n",
        "\n",
        "    for i, (start_date, end_date) in enumerate(blocks):\n",
        "        block_mask = (df_transformed['Date'] >= start_date) & (df_transformed['Date'] <= end_date)\n",
        "        block_df_transformed = df_transformed[block_mask]\n",
        "\n",
        "        for col in region_weather_cols:\n",
        "            mean_val = block_df_transformed[col].mean()\n",
        "            key = f\"{col}_prev_harvest_mean_{i+1}\"\n",
        "            harvest_info[key] = {\n",
        "                'mean': mean_val,\n",
        "                'region': region,\n",
        "                'variable': col.split(f\"{region}_\")[1],\n",
        "                'start_date': start_date,\n",
        "                'end_date': end_date,\n",
        "                'original_col': col\n",
        "            }"
      ],
      "metadata": {
        "id": "5bgftcfAWQgY"
      },
      "execution_count": null,
      "outputs": []
    },
    {
      "cell_type": "code",
      "source": [
        "from datetime import datetime\n",
        "\n",
        "def group_harvest_info_by_col(harvest_info: dict):\n",
        "    grouped = {}\n",
        "    for key, info in harvest_info.items():\n",
        "        col = info['original_col']\n",
        "        if col not in grouped:\n",
        "            grouped[col] = []\n",
        "        grouped[col].append(info)\n",
        "\n",
        "    for col in grouped:\n",
        "        grouped[col] = sorted(grouped[col], key=lambda x: pd.to_datetime(x['end_date']))\n",
        "    return grouped\n",
        "\n",
        "def apply_recent_harvest_mean(df, grouped_info):\n",
        "    for original_col, blocks in grouped_info.items():\n",
        "        feature_col = f\"{original_col}_harvest_mean\"\n",
        "\n",
        "        def get_recent_mean(current_date):\n",
        "            current_date = pd.to_datetime(current_date)\n",
        "            for block in reversed(blocks):  # 가장 최근부터 검사\n",
        "                if current_date > pd.to_datetime(block['end_date']):\n",
        "                    return block['mean']\n",
        "            return None  # 해당 없음 (모든 end_date 이후가 아님)\n",
        "\n",
        "        df[feature_col] = df['Date'].apply(get_recent_mean)\n",
        "\n",
        "    return df"
      ],
      "metadata": {
        "id": "VDbfJVbLYZMy"
      },
      "execution_count": null,
      "outputs": []
    },
    {
      "cell_type": "code",
      "source": [
        "grouped = group_harvest_info_by_col(harvest_info)\n",
        "\n",
        "df_new = apply_recent_harvest_mean(df_transformed, grouped)"
      ],
      "metadata": {
        "colab": {
          "base_uri": "https://localhost:8080/"
        },
        "collapsed": true,
        "id": "4XBPEBx3Ygde",
        "outputId": "250e1b31-6299-499f-df9c-148963a16685"
      },
      "execution_count": null,
      "outputs": [
        {
          "output_type": "stream",
          "name": "stderr",
          "text": [
            "<ipython-input-18-d97d6fb8b635>:29: PerformanceWarning: DataFrame is highly fragmented.  This is usually the result of calling `frame.insert` many times, which has poor performance.  Consider joining all columns at once using pd.concat(axis=1) instead. To get a de-fragmented frame, use `newframe = frame.copy()`\n",
            "  df[feature_col] = df['Date'].apply(get_recent_mean)\n",
            "<ipython-input-18-d97d6fb8b635>:29: PerformanceWarning: DataFrame is highly fragmented.  This is usually the result of calling `frame.insert` many times, which has poor performance.  Consider joining all columns at once using pd.concat(axis=1) instead. To get a de-fragmented frame, use `newframe = frame.copy()`\n",
            "  df[feature_col] = df['Date'].apply(get_recent_mean)\n",
            "<ipython-input-18-d97d6fb8b635>:29: PerformanceWarning: DataFrame is highly fragmented.  This is usually the result of calling `frame.insert` many times, which has poor performance.  Consider joining all columns at once using pd.concat(axis=1) instead. To get a de-fragmented frame, use `newframe = frame.copy()`\n",
            "  df[feature_col] = df['Date'].apply(get_recent_mean)\n",
            "<ipython-input-18-d97d6fb8b635>:29: PerformanceWarning: DataFrame is highly fragmented.  This is usually the result of calling `frame.insert` many times, which has poor performance.  Consider joining all columns at once using pd.concat(axis=1) instead. To get a de-fragmented frame, use `newframe = frame.copy()`\n",
            "  df[feature_col] = df['Date'].apply(get_recent_mean)\n",
            "<ipython-input-18-d97d6fb8b635>:29: PerformanceWarning: DataFrame is highly fragmented.  This is usually the result of calling `frame.insert` many times, which has poor performance.  Consider joining all columns at once using pd.concat(axis=1) instead. To get a de-fragmented frame, use `newframe = frame.copy()`\n",
            "  df[feature_col] = df['Date'].apply(get_recent_mean)\n",
            "<ipython-input-18-d97d6fb8b635>:29: PerformanceWarning: DataFrame is highly fragmented.  This is usually the result of calling `frame.insert` many times, which has poor performance.  Consider joining all columns at once using pd.concat(axis=1) instead. To get a de-fragmented frame, use `newframe = frame.copy()`\n",
            "  df[feature_col] = df['Date'].apply(get_recent_mean)\n",
            "<ipython-input-18-d97d6fb8b635>:29: PerformanceWarning: DataFrame is highly fragmented.  This is usually the result of calling `frame.insert` many times, which has poor performance.  Consider joining all columns at once using pd.concat(axis=1) instead. To get a de-fragmented frame, use `newframe = frame.copy()`\n",
            "  df[feature_col] = df['Date'].apply(get_recent_mean)\n",
            "<ipython-input-18-d97d6fb8b635>:29: PerformanceWarning: DataFrame is highly fragmented.  This is usually the result of calling `frame.insert` many times, which has poor performance.  Consider joining all columns at once using pd.concat(axis=1) instead. To get a de-fragmented frame, use `newframe = frame.copy()`\n",
            "  df[feature_col] = df['Date'].apply(get_recent_mean)\n",
            "<ipython-input-18-d97d6fb8b635>:29: PerformanceWarning: DataFrame is highly fragmented.  This is usually the result of calling `frame.insert` many times, which has poor performance.  Consider joining all columns at once using pd.concat(axis=1) instead. To get a de-fragmented frame, use `newframe = frame.copy()`\n",
            "  df[feature_col] = df['Date'].apply(get_recent_mean)\n",
            "<ipython-input-18-d97d6fb8b635>:29: PerformanceWarning: DataFrame is highly fragmented.  This is usually the result of calling `frame.insert` many times, which has poor performance.  Consider joining all columns at once using pd.concat(axis=1) instead. To get a de-fragmented frame, use `newframe = frame.copy()`\n",
            "  df[feature_col] = df['Date'].apply(get_recent_mean)\n",
            "<ipython-input-18-d97d6fb8b635>:29: PerformanceWarning: DataFrame is highly fragmented.  This is usually the result of calling `frame.insert` many times, which has poor performance.  Consider joining all columns at once using pd.concat(axis=1) instead. To get a de-fragmented frame, use `newframe = frame.copy()`\n",
            "  df[feature_col] = df['Date'].apply(get_recent_mean)\n",
            "<ipython-input-18-d97d6fb8b635>:29: PerformanceWarning: DataFrame is highly fragmented.  This is usually the result of calling `frame.insert` many times, which has poor performance.  Consider joining all columns at once using pd.concat(axis=1) instead. To get a de-fragmented frame, use `newframe = frame.copy()`\n",
            "  df[feature_col] = df['Date'].apply(get_recent_mean)\n",
            "<ipython-input-18-d97d6fb8b635>:29: PerformanceWarning: DataFrame is highly fragmented.  This is usually the result of calling `frame.insert` many times, which has poor performance.  Consider joining all columns at once using pd.concat(axis=1) instead. To get a de-fragmented frame, use `newframe = frame.copy()`\n",
            "  df[feature_col] = df['Date'].apply(get_recent_mean)\n",
            "<ipython-input-18-d97d6fb8b635>:29: PerformanceWarning: DataFrame is highly fragmented.  This is usually the result of calling `frame.insert` many times, which has poor performance.  Consider joining all columns at once using pd.concat(axis=1) instead. To get a de-fragmented frame, use `newframe = frame.copy()`\n",
            "  df[feature_col] = df['Date'].apply(get_recent_mean)\n",
            "<ipython-input-18-d97d6fb8b635>:29: PerformanceWarning: DataFrame is highly fragmented.  This is usually the result of calling `frame.insert` many times, which has poor performance.  Consider joining all columns at once using pd.concat(axis=1) instead. To get a de-fragmented frame, use `newframe = frame.copy()`\n",
            "  df[feature_col] = df['Date'].apply(get_recent_mean)\n",
            "<ipython-input-18-d97d6fb8b635>:29: PerformanceWarning: DataFrame is highly fragmented.  This is usually the result of calling `frame.insert` many times, which has poor performance.  Consider joining all columns at once using pd.concat(axis=1) instead. To get a de-fragmented frame, use `newframe = frame.copy()`\n",
            "  df[feature_col] = df['Date'].apply(get_recent_mean)\n",
            "<ipython-input-18-d97d6fb8b635>:29: PerformanceWarning: DataFrame is highly fragmented.  This is usually the result of calling `frame.insert` many times, which has poor performance.  Consider joining all columns at once using pd.concat(axis=1) instead. To get a de-fragmented frame, use `newframe = frame.copy()`\n",
            "  df[feature_col] = df['Date'].apply(get_recent_mean)\n",
            "<ipython-input-18-d97d6fb8b635>:29: PerformanceWarning: DataFrame is highly fragmented.  This is usually the result of calling `frame.insert` many times, which has poor performance.  Consider joining all columns at once using pd.concat(axis=1) instead. To get a de-fragmented frame, use `newframe = frame.copy()`\n",
            "  df[feature_col] = df['Date'].apply(get_recent_mean)\n",
            "<ipython-input-18-d97d6fb8b635>:29: PerformanceWarning: DataFrame is highly fragmented.  This is usually the result of calling `frame.insert` many times, which has poor performance.  Consider joining all columns at once using pd.concat(axis=1) instead. To get a de-fragmented frame, use `newframe = frame.copy()`\n",
            "  df[feature_col] = df['Date'].apply(get_recent_mean)\n",
            "<ipython-input-18-d97d6fb8b635>:29: PerformanceWarning: DataFrame is highly fragmented.  This is usually the result of calling `frame.insert` many times, which has poor performance.  Consider joining all columns at once using pd.concat(axis=1) instead. To get a de-fragmented frame, use `newframe = frame.copy()`\n",
            "  df[feature_col] = df['Date'].apply(get_recent_mean)\n",
            "<ipython-input-18-d97d6fb8b635>:29: PerformanceWarning: DataFrame is highly fragmented.  This is usually the result of calling `frame.insert` many times, which has poor performance.  Consider joining all columns at once using pd.concat(axis=1) instead. To get a de-fragmented frame, use `newframe = frame.copy()`\n",
            "  df[feature_col] = df['Date'].apply(get_recent_mean)\n",
            "<ipython-input-18-d97d6fb8b635>:29: PerformanceWarning: DataFrame is highly fragmented.  This is usually the result of calling `frame.insert` many times, which has poor performance.  Consider joining all columns at once using pd.concat(axis=1) instead. To get a de-fragmented frame, use `newframe = frame.copy()`\n",
            "  df[feature_col] = df['Date'].apply(get_recent_mean)\n",
            "<ipython-input-18-d97d6fb8b635>:29: PerformanceWarning: DataFrame is highly fragmented.  This is usually the result of calling `frame.insert` many times, which has poor performance.  Consider joining all columns at once using pd.concat(axis=1) instead. To get a de-fragmented frame, use `newframe = frame.copy()`\n",
            "  df[feature_col] = df['Date'].apply(get_recent_mean)\n",
            "<ipython-input-18-d97d6fb8b635>:29: PerformanceWarning: DataFrame is highly fragmented.  This is usually the result of calling `frame.insert` many times, which has poor performance.  Consider joining all columns at once using pd.concat(axis=1) instead. To get a de-fragmented frame, use `newframe = frame.copy()`\n",
            "  df[feature_col] = df['Date'].apply(get_recent_mean)\n",
            "<ipython-input-18-d97d6fb8b635>:29: PerformanceWarning: DataFrame is highly fragmented.  This is usually the result of calling `frame.insert` many times, which has poor performance.  Consider joining all columns at once using pd.concat(axis=1) instead. To get a de-fragmented frame, use `newframe = frame.copy()`\n",
            "  df[feature_col] = df['Date'].apply(get_recent_mean)\n",
            "<ipython-input-18-d97d6fb8b635>:29: PerformanceWarning: DataFrame is highly fragmented.  This is usually the result of calling `frame.insert` many times, which has poor performance.  Consider joining all columns at once using pd.concat(axis=1) instead. To get a de-fragmented frame, use `newframe = frame.copy()`\n",
            "  df[feature_col] = df['Date'].apply(get_recent_mean)\n",
            "<ipython-input-18-d97d6fb8b635>:29: PerformanceWarning: DataFrame is highly fragmented.  This is usually the result of calling `frame.insert` many times, which has poor performance.  Consider joining all columns at once using pd.concat(axis=1) instead. To get a de-fragmented frame, use `newframe = frame.copy()`\n",
            "  df[feature_col] = df['Date'].apply(get_recent_mean)\n",
            "<ipython-input-18-d97d6fb8b635>:29: PerformanceWarning: DataFrame is highly fragmented.  This is usually the result of calling `frame.insert` many times, which has poor performance.  Consider joining all columns at once using pd.concat(axis=1) instead. To get a de-fragmented frame, use `newframe = frame.copy()`\n",
            "  df[feature_col] = df['Date'].apply(get_recent_mean)\n",
            "<ipython-input-18-d97d6fb8b635>:29: PerformanceWarning: DataFrame is highly fragmented.  This is usually the result of calling `frame.insert` many times, which has poor performance.  Consider joining all columns at once using pd.concat(axis=1) instead. To get a de-fragmented frame, use `newframe = frame.copy()`\n",
            "  df[feature_col] = df['Date'].apply(get_recent_mean)\n",
            "<ipython-input-18-d97d6fb8b635>:29: PerformanceWarning: DataFrame is highly fragmented.  This is usually the result of calling `frame.insert` many times, which has poor performance.  Consider joining all columns at once using pd.concat(axis=1) instead. To get a de-fragmented frame, use `newframe = frame.copy()`\n",
            "  df[feature_col] = df['Date'].apply(get_recent_mean)\n",
            "<ipython-input-18-d97d6fb8b635>:29: PerformanceWarning: DataFrame is highly fragmented.  This is usually the result of calling `frame.insert` many times, which has poor performance.  Consider joining all columns at once using pd.concat(axis=1) instead. To get a de-fragmented frame, use `newframe = frame.copy()`\n",
            "  df[feature_col] = df['Date'].apply(get_recent_mean)\n",
            "<ipython-input-18-d97d6fb8b635>:29: PerformanceWarning: DataFrame is highly fragmented.  This is usually the result of calling `frame.insert` many times, which has poor performance.  Consider joining all columns at once using pd.concat(axis=1) instead. To get a de-fragmented frame, use `newframe = frame.copy()`\n",
            "  df[feature_col] = df['Date'].apply(get_recent_mean)\n",
            "<ipython-input-18-d97d6fb8b635>:29: PerformanceWarning: DataFrame is highly fragmented.  This is usually the result of calling `frame.insert` many times, which has poor performance.  Consider joining all columns at once using pd.concat(axis=1) instead. To get a de-fragmented frame, use `newframe = frame.copy()`\n",
            "  df[feature_col] = df['Date'].apply(get_recent_mean)\n",
            "<ipython-input-18-d97d6fb8b635>:29: PerformanceWarning: DataFrame is highly fragmented.  This is usually the result of calling `frame.insert` many times, which has poor performance.  Consider joining all columns at once using pd.concat(axis=1) instead. To get a de-fragmented frame, use `newframe = frame.copy()`\n",
            "  df[feature_col] = df['Date'].apply(get_recent_mean)\n",
            "<ipython-input-18-d97d6fb8b635>:29: PerformanceWarning: DataFrame is highly fragmented.  This is usually the result of calling `frame.insert` many times, which has poor performance.  Consider joining all columns at once using pd.concat(axis=1) instead. To get a de-fragmented frame, use `newframe = frame.copy()`\n",
            "  df[feature_col] = df['Date'].apply(get_recent_mean)\n",
            "<ipython-input-18-d97d6fb8b635>:29: PerformanceWarning: DataFrame is highly fragmented.  This is usually the result of calling `frame.insert` many times, which has poor performance.  Consider joining all columns at once using pd.concat(axis=1) instead. To get a de-fragmented frame, use `newframe = frame.copy()`\n",
            "  df[feature_col] = df['Date'].apply(get_recent_mean)\n"
          ]
        }
      ]
    },
    {
      "cell_type": "code",
      "source": [
        "cols = ['Date'] + [col for col in df_new.columns if col.endswith('_mean')]"
      ],
      "metadata": {
        "id": "1L-USgKOGf7L"
      },
      "execution_count": null,
      "outputs": []
    },
    {
      "cell_type": "code",
      "source": [
        "df_final = df_new[cols]"
      ],
      "metadata": {
        "id": "PD-y-sz_IXvm"
      },
      "execution_count": null,
      "outputs": []
    },
    {
      "cell_type": "code",
      "source": [
        "df_final = df_final.dropna()"
      ],
      "metadata": {
        "collapsed": true,
        "id": "6zb2JqihQBeo"
      },
      "execution_count": null,
      "outputs": []
    },
    {
      "cell_type": "code",
      "source": [
        "len(df_final)"
      ],
      "metadata": {
        "colab": {
          "base_uri": "https://localhost:8080/"
        },
        "id": "oY0D7CUtQL-K",
        "outputId": "678d564b-8b4a-42d8-d051-b63a2b9d1f28"
      },
      "execution_count": null,
      "outputs": [
        {
          "output_type": "execute_result",
          "data": {
            "text/plain": [
              "3462"
            ]
          },
          "metadata": {},
          "execution_count": 30
        }
      ]
    },
    {
      "cell_type": "markdown",
      "source": [
        "커피 가격 데이터와 merge"
      ],
      "metadata": {
        "id": "E8QxcLNIcM52"
      }
    },
    {
      "cell_type": "code",
      "source": [
        "data = pd.read_csv(\"/content/drive/MyDrive/캡스톤/커피가격데이터통합.csv\")"
      ],
      "metadata": {
        "id": "M6Svk88EZIQC"
      },
      "execution_count": null,
      "outputs": []
    },
    {
      "cell_type": "code",
      "source": [
        "data.fillna(method='ffill', inplace=True)  # 이전 값으로 대체\n",
        "data.fillna(method='bfill', inplace=True)  # 다음 값으로 대체"
      ],
      "metadata": {
        "colab": {
          "base_uri": "https://localhost:8080/"
        },
        "id": "y3tLErtLdUAF",
        "outputId": "0100ea56-c9da-4112-8c46-c8fb07241edc"
      },
      "execution_count": null,
      "outputs": [
        {
          "output_type": "stream",
          "name": "stderr",
          "text": [
            "<ipython-input-32-6fe7a7a35e26>:1: FutureWarning: DataFrame.fillna with 'method' is deprecated and will raise in a future version. Use obj.ffill() or obj.bfill() instead.\n",
            "  data.fillna(method='ffill', inplace=True)  # 이전 값으로 대체\n",
            "<ipython-input-32-6fe7a7a35e26>:2: FutureWarning: DataFrame.fillna with 'method' is deprecated and will raise in a future version. Use obj.ffill() or obj.bfill() instead.\n",
            "  data.fillna(method='bfill', inplace=True)  # 다음 값으로 대체\n"
          ]
        }
      ]
    },
    {
      "cell_type": "code",
      "source": [
        "final = pd.merge(data, df_final, on='Date', how='left')"
      ],
      "metadata": {
        "id": "U-W25F5Pc_Vk"
      },
      "execution_count": null,
      "outputs": []
    },
    {
      "cell_type": "code",
      "source": [
        "final = final.dropna()"
      ],
      "metadata": {
        "id": "EGzsEFgxdL6q"
      },
      "execution_count": null,
      "outputs": []
    },
    {
      "cell_type": "code",
      "source": [
        "final.to_csv('기후평균커피가격통합데이터.csv', index=False)"
      ],
      "metadata": {
        "id": "z9ZswB2cpfE6"
      },
      "execution_count": null,
      "outputs": []
    },
    {
      "cell_type": "code",
      "source": [],
      "metadata": {
        "id": "3dRZsZpmptPx"
      },
      "execution_count": null,
      "outputs": []
    }
  ]
}